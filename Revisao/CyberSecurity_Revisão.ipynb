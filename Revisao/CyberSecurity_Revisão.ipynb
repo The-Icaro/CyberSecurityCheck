{
  "nbformat": 4,
  "nbformat_minor": 0,
  "metadata": {
    "colab": {
      "name": "CyberSecurity.Revisão",
      "provenance": []
    },
    "kernelspec": {
      "name": "python3",
      "display_name": "Python 3"
    },
    "language_info": {
      "name": "python"
    },
    "accelerator": "GPU",
    "gpuClass": "standard"
  },
  "cells": [
    {
      "cell_type": "code",
      "execution_count": 4,
      "metadata": {
        "colab": {
          "base_uri": "https://localhost:8080/"
        },
        "id": "h3LkWvGBxKqU",
        "outputId": "8321a275-02a3-4791-ad9a-e851595845e0"
      },
      "outputs": [
        {
          "output_type": "stream",
          "name": "stdout",
          "text": [
            "\u001b[?25l\r\u001b[K     |▍                               | 10 kB 28.7 MB/s eta 0:00:01\r\u001b[K     |▉                               | 20 kB 32.7 MB/s eta 0:00:01\r\u001b[K     |█▎                              | 30 kB 38.5 MB/s eta 0:00:01\r\u001b[K     |█▊                              | 40 kB 40.9 MB/s eta 0:00:01\r\u001b[K     |██▏                             | 51 kB 42.7 MB/s eta 0:00:01\r\u001b[K     |██▋                             | 61 kB 47.0 MB/s eta 0:00:01\r\u001b[K     |███                             | 71 kB 33.1 MB/s eta 0:00:01\r\u001b[K     |███▌                            | 81 kB 33.4 MB/s eta 0:00:01\r\u001b[K     |████                            | 92 kB 35.0 MB/s eta 0:00:01\r\u001b[K     |████▍                           | 102 kB 36.7 MB/s eta 0:00:01\r\u001b[K     |████▉                           | 112 kB 36.7 MB/s eta 0:00:01\r\u001b[K     |█████▎                          | 122 kB 36.7 MB/s eta 0:00:01\r\u001b[K     |█████▊                          | 133 kB 36.7 MB/s eta 0:00:01\r\u001b[K     |██████▏                         | 143 kB 36.7 MB/s eta 0:00:01\r\u001b[K     |██████▋                         | 153 kB 36.7 MB/s eta 0:00:01\r\u001b[K     |███████                         | 163 kB 36.7 MB/s eta 0:00:01\r\u001b[K     |███████▌                        | 174 kB 36.7 MB/s eta 0:00:01\r\u001b[K     |████████                        | 184 kB 36.7 MB/s eta 0:00:01\r\u001b[K     |████████▍                       | 194 kB 36.7 MB/s eta 0:00:01\r\u001b[K     |████████▉                       | 204 kB 36.7 MB/s eta 0:00:01\r\u001b[K     |█████████▎                      | 215 kB 36.7 MB/s eta 0:00:01\r\u001b[K     |█████████▊                      | 225 kB 36.7 MB/s eta 0:00:01\r\u001b[K     |██████████▏                     | 235 kB 36.7 MB/s eta 0:00:01\r\u001b[K     |██████████▌                     | 245 kB 36.7 MB/s eta 0:00:01\r\u001b[K     |███████████                     | 256 kB 36.7 MB/s eta 0:00:01\r\u001b[K     |███████████▍                    | 266 kB 36.7 MB/s eta 0:00:01\r\u001b[K     |███████████▉                    | 276 kB 36.7 MB/s eta 0:00:01\r\u001b[K     |████████████▎                   | 286 kB 36.7 MB/s eta 0:00:01\r\u001b[K     |████████████▊                   | 296 kB 36.7 MB/s eta 0:00:01\r\u001b[K     |█████████████▏                  | 307 kB 36.7 MB/s eta 0:00:01\r\u001b[K     |█████████████▋                  | 317 kB 36.7 MB/s eta 0:00:01\r\u001b[K     |██████████████                  | 327 kB 36.7 MB/s eta 0:00:01\r\u001b[K     |██████████████▌                 | 337 kB 36.7 MB/s eta 0:00:01\r\u001b[K     |███████████████                 | 348 kB 36.7 MB/s eta 0:00:01\r\u001b[K     |███████████████▍                | 358 kB 36.7 MB/s eta 0:00:01\r\u001b[K     |███████████████▉                | 368 kB 36.7 MB/s eta 0:00:01\r\u001b[K     |████████████████▎               | 378 kB 36.7 MB/s eta 0:00:01\r\u001b[K     |████████████████▊               | 389 kB 36.7 MB/s eta 0:00:01\r\u001b[K     |█████████████████▏              | 399 kB 36.7 MB/s eta 0:00:01\r\u001b[K     |█████████████████▋              | 409 kB 36.7 MB/s eta 0:00:01\r\u001b[K     |██████████████████              | 419 kB 36.7 MB/s eta 0:00:01\r\u001b[K     |██████████████████▌             | 430 kB 36.7 MB/s eta 0:00:01\r\u001b[K     |███████████████████             | 440 kB 36.7 MB/s eta 0:00:01\r\u001b[K     |███████████████████▍            | 450 kB 36.7 MB/s eta 0:00:01\r\u001b[K     |███████████████████▉            | 460 kB 36.7 MB/s eta 0:00:01\r\u001b[K     |████████████████████▎           | 471 kB 36.7 MB/s eta 0:00:01\r\u001b[K     |████████████████████▋           | 481 kB 36.7 MB/s eta 0:00:01\r\u001b[K     |█████████████████████           | 491 kB 36.7 MB/s eta 0:00:01\r\u001b[K     |█████████████████████▌          | 501 kB 36.7 MB/s eta 0:00:01\r\u001b[K     |██████████████████████          | 512 kB 36.7 MB/s eta 0:00:01\r\u001b[K     |██████████████████████▍         | 522 kB 36.7 MB/s eta 0:00:01\r\u001b[K     |██████████████████████▉         | 532 kB 36.7 MB/s eta 0:00:01\r\u001b[K     |███████████████████████▎        | 542 kB 36.7 MB/s eta 0:00:01\r\u001b[K     |███████████████████████▊        | 552 kB 36.7 MB/s eta 0:00:01\r\u001b[K     |████████████████████████▏       | 563 kB 36.7 MB/s eta 0:00:01\r\u001b[K     |████████████████████████▋       | 573 kB 36.7 MB/s eta 0:00:01\r\u001b[K     |█████████████████████████       | 583 kB 36.7 MB/s eta 0:00:01\r\u001b[K     |█████████████████████████▌      | 593 kB 36.7 MB/s eta 0:00:01\r\u001b[K     |██████████████████████████      | 604 kB 36.7 MB/s eta 0:00:01\r\u001b[K     |██████████████████████████▍     | 614 kB 36.7 MB/s eta 0:00:01\r\u001b[K     |██████████████████████████▉     | 624 kB 36.7 MB/s eta 0:00:01\r\u001b[K     |███████████████████████████▎    | 634 kB 36.7 MB/s eta 0:00:01\r\u001b[K     |███████████████████████████▊    | 645 kB 36.7 MB/s eta 0:00:01\r\u001b[K     |████████████████████████████▏   | 655 kB 36.7 MB/s eta 0:00:01\r\u001b[K     |████████████████████████████▋   | 665 kB 36.7 MB/s eta 0:00:01\r\u001b[K     |█████████████████████████████   | 675 kB 36.7 MB/s eta 0:00:01\r\u001b[K     |█████████████████████████████▌  | 686 kB 36.7 MB/s eta 0:00:01\r\u001b[K     |██████████████████████████████  | 696 kB 36.7 MB/s eta 0:00:01\r\u001b[K     |██████████████████████████████▍ | 706 kB 36.7 MB/s eta 0:00:01\r\u001b[K     |██████████████████████████████▊ | 716 kB 36.7 MB/s eta 0:00:01\r\u001b[K     |███████████████████████████████▏| 727 kB 36.7 MB/s eta 0:00:01\r\u001b[K     |███████████████████████████████▋| 737 kB 36.7 MB/s eta 0:00:01\r\u001b[K     |████████████████████████████████| 745 kB 36.7 MB/s \n",
            "\u001b[?25h  Building wheel for pyngrok (setup.py) ... \u001b[?25l\u001b[?25hdone\n",
            "\u001b[K     |████████████████████████████████| 9.1 MB 29.1 MB/s \n",
            "\u001b[K     |████████████████████████████████| 4.3 MB 58.6 MB/s \n",
            "\u001b[K     |████████████████████████████████| 78 kB 8.8 MB/s \n",
            "\u001b[K     |████████████████████████████████| 235 kB 75.1 MB/s \n",
            "\u001b[K     |████████████████████████████████| 164 kB 70.9 MB/s \n",
            "\u001b[K     |████████████████████████████████| 181 kB 74.5 MB/s \n",
            "\u001b[K     |████████████████████████████████| 63 kB 2.1 MB/s \n",
            "\u001b[K     |████████████████████████████████| 132 kB 75.7 MB/s \n",
            "\u001b[K     |████████████████████████████████| 423 kB 75.9 MB/s \n",
            "\u001b[K     |████████████████████████████████| 132 kB 78.1 MB/s \n",
            "\u001b[K     |████████████████████████████████| 793 kB 70.8 MB/s \n",
            "\u001b[K     |████████████████████████████████| 381 kB 75.9 MB/s \n",
            "\u001b[K     |████████████████████████████████| 51 kB 8.2 MB/s \n",
            "\u001b[?25h  Building wheel for validators (setup.py) ... \u001b[?25l\u001b[?25hdone\n",
            "\u001b[31mERROR: pip's dependency resolver does not currently take into account all the packages that are installed. This behaviour is the source of the following dependency conflicts.\n",
            "nbclient 0.6.6 requires traitlets>=5.2.2, but you have traitlets 5.1.1 which is incompatible.\n",
            "jupyter-console 5.2.0 requires prompt-toolkit<2.0.0,>=1.0.0, but you have prompt-toolkit 3.0.30 which is incompatible.\n",
            "google-colab 1.0.0 requires ipykernel~=4.10, but you have ipykernel 6.15.1 which is incompatible.\n",
            "google-colab 1.0.0 requires ipython~=5.5.0, but you have ipython 7.34.0 which is incompatible.\n",
            "google-colab 1.0.0 requires tornado~=5.1.0, but you have tornado 6.2 which is incompatible.\u001b[0m\n",
            "\u001b[K     |████████████████████████████████| 3.6 MB 33.1 MB/s \n",
            "\u001b[K     |████████████████████████████████| 50 kB 6.4 MB/s \n",
            "\u001b[?25h  Building wheel for python-levenshtein (setup.py) ... \u001b[?25l\u001b[?25hdone\n"
          ]
        }
      ],
      "source": [
        "!pip install -q pyngrok\n",
        "!pip install -q streamlit\n",
        "!pip install -q streamlit-ace\n",
        "!pip install -q fuzzywuzzy[speedup]"
      ]
    },
    {
      "cell_type": "code",
      "source": [
        "!streamlit run app.py &>/dev/null&"
      ],
      "metadata": {
        "id": "hKhIXC682Oxz"
      },
      "execution_count": 5,
      "outputs": []
    },
    {
      "cell_type": "code",
      "source": [
        "from pyngrok import ngrok"
      ],
      "metadata": {
        "id": "LhhbkWMY7-jx"
      },
      "execution_count": 6,
      "outputs": []
    },
    {
      "cell_type": "code",
      "source": [
        "%%writefile app.py\n",
        "\n",
        "import streamlit as st\n",
        "import re\n",
        "from fuzzywuzzy import process\n",
        "import json\n",
        "import requests\n",
        "import pandas as pd\n",
        "\n",
        "def get_eleicao_data() :\n",
        "  return requests.get('https://the-icaro.github.io/eleicao.json').json()\n",
        "\n",
        "def clean_eleicao_data(data : dict) -> list :\n",
        "  clean_data = []\n",
        "  \n",
        "  for i in data:\n",
        "    for k in data[i]:\n",
        "      clean_data.append(*k.values())\n",
        "\n",
        "  return clean_data\n",
        "\n",
        "def verify_blocked_name(blocked_data : list, name : str) -> bool :\n",
        "\n",
        "  blocked_search = process.extract(name, blocked_data)\n",
        "\n",
        "  for i in blocked_search:\n",
        "    if i[1] >= 50:\n",
        "      return True\n",
        "    \n",
        "    return False\n",
        "\n",
        "def check_name_for_streamlit(name : str, blocked_data : list) -> str :\n",
        "\n",
        "  if (verify_blocked_name(blocked_data, name) == True) :\n",
        "    return st.error('Bloqueado')\n",
        "  \n",
        "  return st.success('Liberado')\n",
        "  \n",
        "def build_streamlit_page(blocked_data : list) :\n",
        "\n",
        "  st.set_page_config(page_title=\"Candidatura Bloqueada\", page_icon=\"📋\", layout=\"centered\")\n",
        "  st.title(\"📋 Candidatura Bloqueada\")\n",
        "  form = st.form(key=\"form\")\n",
        "\n",
        "  with form:\n",
        "    name = st.text_input(\"Nome:\")\n",
        "    submitted = st.form_submit_button(label=\"Verificar\")\n",
        "\n",
        "  if submitted:\n",
        "    if not name:\n",
        "      st.warning(\"Preencha todos os Campos!\")\n",
        "    else :\n",
        "      check_name_for_streamlit(name, blocked_data)\n",
        "\n",
        "def main():\n",
        "\n",
        "  data = get_eleicao_data()\n",
        "  blocked_data = clean_eleicao_data(data)\n",
        "  build_streamlit_page(blocked_data)\n",
        "\n",
        "if __name__ == '__main__':\n",
        "  main()\n"
      ],
      "metadata": {
        "colab": {
          "base_uri": "https://localhost:8080/"
        },
        "id": "oNi_5UIo2Vxl",
        "outputId": "b4d770cf-126c-496f-b01c-3744efaaa70e"
      },
      "execution_count": 20,
      "outputs": [
        {
          "output_type": "stream",
          "name": "stdout",
          "text": [
            "Overwriting app.py\n"
          ]
        }
      ]
    },
    {
      "cell_type": "code",
      "source": [
        "!streamlit run app.py & npx localtunnel --port 8501"
      ],
      "metadata": {
        "colab": {
          "base_uri": "https://localhost:8080/"
        },
        "id": "iX93kB8R3240",
        "outputId": "4fab07a7-491f-4c04-b089-58908d72691d"
      },
      "execution_count": null,
      "outputs": [
        {
          "output_type": "stream",
          "name": "stdout",
          "text": [
            "2022-08-03 23:21:32.851 INFO    numexpr.utils: NumExpr defaulting to 2 threads.\n",
            "\u001b[0m\n",
            "\u001b[34m\u001b[1m  You can now view your Streamlit app in your browser.\u001b[0m\n",
            "\u001b[0m\n",
            "\u001b[34m  Network URL: \u001b[0m\u001b[1mhttp://172.28.0.2:8501\u001b[0m\n",
            "\u001b[34m  External URL: \u001b[0m\u001b[1mhttp://34.143.146.204:8501\u001b[0m\n",
            "\u001b[0m\n",
            "\u001b[K\u001b[?25hnpx: installed 22 in 3.016s\n",
            "your url is: https://eighty-llamas-bathe-34-143-146-204.loca.lt\n"
          ]
        }
      ]
    }
  ]
}