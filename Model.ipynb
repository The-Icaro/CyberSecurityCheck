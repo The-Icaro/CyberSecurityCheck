{
  "nbformat": 4,
  "nbformat_minor": 0,
  "metadata": {
    "colab": {
      "name": "CheckpointCyber.v1",
      "provenance": [],
      "collapsed_sections": []
    },
    "kernelspec": {
      "name": "python3",
      "display_name": "Python 3"
    },
    "language_info": {
      "name": "python"
    }
  },
  "cells": [
    {
      "cell_type": "code",
      "execution_count": null,
      "metadata": {
        "id": "vH2xUPL7LhII"
      },
      "outputs": [],
      "source": [
        "!pip install -q pyngrok"
      ]
    },
    {
      "cell_type": "code",
      "source": [
        "!pip install -q streamlit"
      ],
      "metadata": {
        "id": "_0yW6xxVLj70"
      },
      "execution_count": null,
      "outputs": []
    },
    {
      "cell_type": "code",
      "source": [
        "!pip install -q streamlit-ace"
      ],
      "metadata": {
        "id": "EbEk9X3fLlQy"
      },
      "execution_count": null,
      "outputs": []
    },
    {
      "cell_type": "code",
      "source": [
        "!pip install -q fuzzywuzzy[speedup]"
      ],
      "metadata": {
        "id": "nnQ9k78zLnci"
      },
      "execution_count": null,
      "outputs": []
    },
    {
      "cell_type": "code",
      "source": [
        "!streamlit run app.py &>/dev/null&"
      ],
      "metadata": {
        "id": "wickCeN4LpNB"
      },
      "execution_count": null,
      "outputs": []
    },
    {
      "cell_type": "code",
      "source": [
        "from pyngrok import ngrok"
      ],
      "metadata": {
        "id": "83cBgt0OLqsx"
      },
      "execution_count": null,
      "outputs": []
    },
    {
      "cell_type": "code",
      "source": [
        "%%writefile app.py\n",
        "import streamlit\n",
        "import re\n",
        "from fuzzywuzzy import process\n",
        "import json\n",
        "import requests\n",
        "\n",
        "\n",
        "def main():\n",
        "\n",
        "  passportData = requests.get('https://the-icaro.github.io/ago.json')\n",
        "  namesData = requests.get('https://cspinheiro.github.io/interpol.json')\n",
        "  \n",
        "  htmlTemp = \"\"\" \n",
        "                  <div style=\"background-color:blue; color:white; padding: 10px; text-align:center; max-height: 100px\">\n",
        "                    <h1>Sistema de Passaporte</h1>\n",
        "                  </div> \n",
        "              \"\"\"\n",
        "  streamlit.markdown(htmlTemp, unsafe_allow_html=True)\n",
        "\n",
        "  ownerName = streamlit.text_input('Nome do Indíviduo:')\n",
        "\n",
        "  passportNumber = streamlit.text_input('Número do Passaporte:')\n",
        "\n",
        "  def handleBlockedPassports(passportNumber):\n",
        "\n",
        "    passport = re.findall('[0-9]+', passportNumber)\n",
        "\n",
        "    blockedData = passportData.json()['ago']\n",
        "\n",
        "    for data in blockedData:\n",
        "      for i, v in data.items():\n",
        "        if str(passport[0]) == str(v):\n",
        "          return 'Proibido'\n",
        "    \n",
        "    return 'Permitido'\n",
        "\n",
        "  def handleBlockedPersons(name):\n",
        "\n",
        "    blockedNamesData = namesData.json()['interpol']\n",
        "\n",
        "    blocked = []\n",
        "\n",
        "    for data in blockedNamesData:\n",
        "      for i, v in data.items():\n",
        "        blocked.append(v)\n",
        "\n",
        "    searchList = process.extract(str(name), blocked)\n",
        "\n",
        "    for i in searchList:\n",
        "      if i[1] >= 85:\n",
        "        return 'Proibido'\n",
        "\n",
        "      return 'Permitido'\n",
        "\n",
        "\n",
        "  def handleImigrate(name, passportNumber):\n",
        "\n",
        "    if streamlit.button('Verificar'):\n",
        "\n",
        "      if not name or not passportNumber:\n",
        "        streamlit.warning(\"Preencha todos os campo!\")\n",
        "        return\n",
        "\n",
        "      passport = handleBlockedPassports(passportNumber)\n",
        "\n",
        "      person = handleBlockedPersons(name)\n",
        "\n",
        "      if passport == 'Proibido' or person == 'Proibido':\n",
        "         streamlit.success(\"Você não está permitido entrar nesse País\")\n",
        "         return\n",
        "      \n",
        "      streamlit.success(\"Você pode entrar nesse País\")\n",
        "      return\n",
        "\n",
        "  handleImigrate(ownerName, passportNumber)\n",
        "\n",
        "if __name__ == '__main__':\n",
        "  main()"
      ],
      "metadata": {
        "id": "zkz4BqByL6xD"
      },
      "execution_count": null,
      "outputs": []
    },
    {
      "cell_type": "code",
      "source": [
        "!streamlit run app.py & npx localtunnel --port 8501"
      ],
      "metadata": {
        "id": "m4NbTnzEoYgQ"
      },
      "execution_count": null,
      "outputs": []
    }
  ]
}