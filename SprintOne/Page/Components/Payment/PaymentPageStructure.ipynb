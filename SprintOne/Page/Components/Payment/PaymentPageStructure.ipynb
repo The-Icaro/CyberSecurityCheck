{
  "nbformat": 4,
  "nbformat_minor": 0,
  "metadata": {
    "colab": {
      "name": "PaymentPageStructure.ipynb",
      "provenance": [],
      "collapsed_sections": []
    },
    "kernelspec": {
      "name": "python3",
      "display_name": "Python 3"
    },
    "language_info": {
      "name": "python"
    }
  },
  "cells": [
    {
      "cell_type": "code",
      "execution_count": 1,
      "metadata": {
        "colab": {
          "base_uri": "https://localhost:8080/"
        },
        "id": "CHZmRsQ8Eq8g",
        "outputId": "ebca6bc7-13b3-4a5a-c3d5-a542a1804be8"
      },
      "outputs": [
        {
          "output_type": "stream",
          "name": "stdout",
          "text": [
            "\u001b[K     |████████████████████████████████| 10.1 MB 14.9 MB/s \n",
            "\u001b[K     |████████████████████████████████| 181 kB 73.7 MB/s \n",
            "\u001b[K     |████████████████████████████████| 4.3 MB 46.9 MB/s \n",
            "\u001b[K     |████████████████████████████████| 111 kB 61.8 MB/s \n",
            "\u001b[K     |████████████████████████████████| 164 kB 57.9 MB/s \n",
            "\u001b[K     |████████████████████████████████| 76 kB 6.3 MB/s \n",
            "\u001b[K     |████████████████████████████████| 63 kB 1.9 MB/s \n",
            "\u001b[K     |████████████████████████████████| 131 kB 67.2 MB/s \n",
            "\u001b[K     |████████████████████████████████| 428 kB 61.8 MB/s \n",
            "\u001b[K     |████████████████████████████████| 130 kB 48.4 MB/s \n",
            "\u001b[K     |████████████████████████████████| 793 kB 71.2 MB/s \n",
            "\u001b[K     |████████████████████████████████| 381 kB 88.5 MB/s \n",
            "\u001b[?25h  Building wheel for blinker (setup.py) ... \u001b[?25l\u001b[?25hdone\n",
            "  Building wheel for validators (setup.py) ... \u001b[?25l\u001b[?25hdone\n",
            "\u001b[31mERROR: pip's dependency resolver does not currently take into account all the packages that are installed. This behaviour is the source of the following dependency conflicts.\n",
            "jupyter-console 5.2.0 requires prompt-toolkit<2.0.0,>=1.0.0, but you have prompt-toolkit 3.0.29 which is incompatible.\n",
            "google-colab 1.0.0 requires ipykernel~=4.10, but you have ipykernel 6.13.0 which is incompatible.\n",
            "google-colab 1.0.0 requires ipython~=5.5.0, but you have ipython 7.33.0 which is incompatible.\n",
            "google-colab 1.0.0 requires tornado~=5.1.0; python_version >= \"3.0\", but you have tornado 6.1 which is incompatible.\u001b[0m\n"
          ]
        }
      ],
      "source": [
        "!pip install -q streamlit"
      ]
    },
    {
      "cell_type": "code",
      "source": [
        "!pip install -q streamlit-ace"
      ],
      "metadata": {
        "colab": {
          "base_uri": "https://localhost:8080/"
        },
        "id": "GQLtZywKEwDQ",
        "outputId": "5a17eb71-49df-4511-a76f-f906fc9ecabf"
      },
      "execution_count": 2,
      "outputs": [
        {
          "output_type": "stream",
          "name": "stdout",
          "text": [
            "\u001b[K     |████████████████████████████████| 3.6 MB 13.9 MB/s \n",
            "\u001b[?25h"
          ]
        }
      ]
    },
    {
      "cell_type": "code",
      "source": [
        "!streamlit run app.py &>/dev/null&"
      ],
      "metadata": {
        "id": "LiXD1qjaExe4"
      },
      "execution_count": 3,
      "outputs": []
    },
    {
      "cell_type": "code",
      "source": [
        "!pip install -q pyngrok"
      ],
      "metadata": {
        "colab": {
          "base_uri": "https://localhost:8080/"
        },
        "id": "3ad5fmYvEzc2",
        "outputId": "46a6e10a-48b0-45d5-9d67-c877f28f6510"
      },
      "execution_count": 4,
      "outputs": [
        {
          "output_type": "stream",
          "name": "stdout",
          "text": [
            "\u001b[?25l\r\u001b[K     |▍                               | 10 kB 24.7 MB/s eta 0:00:01\r\u001b[K     |▉                               | 20 kB 29.6 MB/s eta 0:00:01\r\u001b[K     |█▎                              | 30 kB 31.8 MB/s eta 0:00:01\r\u001b[K     |█▊                              | 40 kB 24.0 MB/s eta 0:00:01\r\u001b[K     |██▏                             | 51 kB 13.4 MB/s eta 0:00:01\r\u001b[K     |██▋                             | 61 kB 15.4 MB/s eta 0:00:01\r\u001b[K     |███                             | 71 kB 13.8 MB/s eta 0:00:01\r\u001b[K     |███▌                            | 81 kB 13.4 MB/s eta 0:00:01\r\u001b[K     |████                            | 92 kB 14.7 MB/s eta 0:00:01\r\u001b[K     |████▍                           | 102 kB 13.8 MB/s eta 0:00:01\r\u001b[K     |████▉                           | 112 kB 13.8 MB/s eta 0:00:01\r\u001b[K     |█████▎                          | 122 kB 13.8 MB/s eta 0:00:01\r\u001b[K     |█████▊                          | 133 kB 13.8 MB/s eta 0:00:01\r\u001b[K     |██████▏                         | 143 kB 13.8 MB/s eta 0:00:01\r\u001b[K     |██████▋                         | 153 kB 13.8 MB/s eta 0:00:01\r\u001b[K     |███████                         | 163 kB 13.8 MB/s eta 0:00:01\r\u001b[K     |███████▌                        | 174 kB 13.8 MB/s eta 0:00:01\r\u001b[K     |████████                        | 184 kB 13.8 MB/s eta 0:00:01\r\u001b[K     |████████▍                       | 194 kB 13.8 MB/s eta 0:00:01\r\u001b[K     |████████▉                       | 204 kB 13.8 MB/s eta 0:00:01\r\u001b[K     |█████████▎                      | 215 kB 13.8 MB/s eta 0:00:01\r\u001b[K     |█████████▊                      | 225 kB 13.8 MB/s eta 0:00:01\r\u001b[K     |██████████▏                     | 235 kB 13.8 MB/s eta 0:00:01\r\u001b[K     |██████████▌                     | 245 kB 13.8 MB/s eta 0:00:01\r\u001b[K     |███████████                     | 256 kB 13.8 MB/s eta 0:00:01\r\u001b[K     |███████████▍                    | 266 kB 13.8 MB/s eta 0:00:01\r\u001b[K     |███████████▉                    | 276 kB 13.8 MB/s eta 0:00:01\r\u001b[K     |████████████▎                   | 286 kB 13.8 MB/s eta 0:00:01\r\u001b[K     |████████████▊                   | 296 kB 13.8 MB/s eta 0:00:01\r\u001b[K     |█████████████▏                  | 307 kB 13.8 MB/s eta 0:00:01\r\u001b[K     |█████████████▋                  | 317 kB 13.8 MB/s eta 0:00:01\r\u001b[K     |██████████████                  | 327 kB 13.8 MB/s eta 0:00:01\r\u001b[K     |██████████████▌                 | 337 kB 13.8 MB/s eta 0:00:01\r\u001b[K     |███████████████                 | 348 kB 13.8 MB/s eta 0:00:01\r\u001b[K     |███████████████▍                | 358 kB 13.8 MB/s eta 0:00:01\r\u001b[K     |███████████████▉                | 368 kB 13.8 MB/s eta 0:00:01\r\u001b[K     |████████████████▎               | 378 kB 13.8 MB/s eta 0:00:01\r\u001b[K     |████████████████▊               | 389 kB 13.8 MB/s eta 0:00:01\r\u001b[K     |█████████████████▏              | 399 kB 13.8 MB/s eta 0:00:01\r\u001b[K     |█████████████████▋              | 409 kB 13.8 MB/s eta 0:00:01\r\u001b[K     |██████████████████              | 419 kB 13.8 MB/s eta 0:00:01\r\u001b[K     |██████████████████▌             | 430 kB 13.8 MB/s eta 0:00:01\r\u001b[K     |███████████████████             | 440 kB 13.8 MB/s eta 0:00:01\r\u001b[K     |███████████████████▍            | 450 kB 13.8 MB/s eta 0:00:01\r\u001b[K     |███████████████████▉            | 460 kB 13.8 MB/s eta 0:00:01\r\u001b[K     |████████████████████▎           | 471 kB 13.8 MB/s eta 0:00:01\r\u001b[K     |████████████████████▋           | 481 kB 13.8 MB/s eta 0:00:01\r\u001b[K     |█████████████████████           | 491 kB 13.8 MB/s eta 0:00:01\r\u001b[K     |█████████████████████▌          | 501 kB 13.8 MB/s eta 0:00:01\r\u001b[K     |██████████████████████          | 512 kB 13.8 MB/s eta 0:00:01\r\u001b[K     |██████████████████████▍         | 522 kB 13.8 MB/s eta 0:00:01\r\u001b[K     |██████████████████████▉         | 532 kB 13.8 MB/s eta 0:00:01\r\u001b[K     |███████████████████████▎        | 542 kB 13.8 MB/s eta 0:00:01\r\u001b[K     |███████████████████████▊        | 552 kB 13.8 MB/s eta 0:00:01\r\u001b[K     |████████████████████████▏       | 563 kB 13.8 MB/s eta 0:00:01\r\u001b[K     |████████████████████████▋       | 573 kB 13.8 MB/s eta 0:00:01\r\u001b[K     |█████████████████████████       | 583 kB 13.8 MB/s eta 0:00:01\r\u001b[K     |█████████████████████████▌      | 593 kB 13.8 MB/s eta 0:00:01\r\u001b[K     |██████████████████████████      | 604 kB 13.8 MB/s eta 0:00:01\r\u001b[K     |██████████████████████████▍     | 614 kB 13.8 MB/s eta 0:00:01\r\u001b[K     |██████████████████████████▉     | 624 kB 13.8 MB/s eta 0:00:01\r\u001b[K     |███████████████████████████▎    | 634 kB 13.8 MB/s eta 0:00:01\r\u001b[K     |███████████████████████████▊    | 645 kB 13.8 MB/s eta 0:00:01\r\u001b[K     |████████████████████████████▏   | 655 kB 13.8 MB/s eta 0:00:01\r\u001b[K     |████████████████████████████▋   | 665 kB 13.8 MB/s eta 0:00:01\r\u001b[K     |█████████████████████████████   | 675 kB 13.8 MB/s eta 0:00:01\r\u001b[K     |█████████████████████████████▌  | 686 kB 13.8 MB/s eta 0:00:01\r\u001b[K     |██████████████████████████████  | 696 kB 13.8 MB/s eta 0:00:01\r\u001b[K     |██████████████████████████████▍ | 706 kB 13.8 MB/s eta 0:00:01\r\u001b[K     |██████████████████████████████▊ | 716 kB 13.8 MB/s eta 0:00:01\r\u001b[K     |███████████████████████████████▏| 727 kB 13.8 MB/s eta 0:00:01\r\u001b[K     |███████████████████████████████▋| 737 kB 13.8 MB/s eta 0:00:01\r\u001b[K     |████████████████████████████████| 745 kB 13.8 MB/s \n",
            "\u001b[?25h  Building wheel for pyngrok (setup.py) ... \u001b[?25l\u001b[?25hdone\n"
          ]
        }
      ]
    },
    {
      "cell_type": "code",
      "source": [
        "from pyngrok import ngrok"
      ],
      "metadata": {
        "id": "eQHMjEN_E0tM"
      },
      "execution_count": 5,
      "outputs": []
    },
    {
      "cell_type": "code",
      "source": [
        "%%writefile app.py\n",
        "import streamlit as st\n",
        "import pandas as pd\n",
        "\n",
        "st.set_page_config(page_title=\"Carrinho\", page_icon=\"🏷️\", layout=\"centered\")\n",
        "\n",
        "st.title(\"💳 Pagamento\")\n",
        "\n",
        "form = st.form(key=\"form\")\n",
        "\n",
        "with form:\n",
        "  \n",
        "  st.markdown(\"\"\"\n",
        "              <style>\n",
        "              @import url('https://fonts.googleapis.com/css?family=Space+Mono:400,400i,700,700i');\n",
        "                *{\n",
        "                  box-sizing:border-box;\n",
        "                  font-family: 'Space Mono', monospace;\n",
        "                }\n",
        "                body, html{\n",
        "                  margin:0;\n",
        "                  padding:0;\n",
        "                  height: 100%;\n",
        "                  width: 100%;\n",
        "                }\n",
        "                body{\n",
        "                  display: flex;\n",
        "                  justify-content: center;\n",
        "                  align-items: center;\n",
        "                  display: -webkit-flex;\n",
        "                  -webkit-align-items: center;\n",
        "                  -webkit-justify-content: center;\n",
        "                  background-image: linear-gradient(to right top, #a2beeb, #8ecfee, #8edde5, #a4e7d5, #c7eec7);\n",
        "                  flex-direction: column;\n",
        "                  -webkit-flex-direction: column;\n",
        "                }\n",
        "                .title {\n",
        "                    margin-bottom: 30px;\n",
        "                    color: #162969;\n",
        "                }\n",
        "                .card{\n",
        "                width: 320px;\n",
        "                height: 190px;\n",
        "                  -webkit-perspective: 600px;\n",
        "                  -moz-perspective: 600px;\n",
        "                  perspective:600px;\n",
        "                  margin: auto;\n",
        "                  margin-bottom: 30px;\n",
        "                  margin-top: 30px;\n",
        "                }\n",
        "                .card__part{\n",
        "                  box-shadow: 1px 1px #aaa3a3;\n",
        "                    top: 0;\n",
        "                  position: absolute;\n",
        "                z-index: 1000;\n",
        "                  left: 0;\n",
        "                  display: inline-block;\n",
        "                    width: 320px;\n",
        "                    height: 190px;\n",
        "                    background-image: url('https://image.ibb.co/bVnMrc/g3095.png'), linear-gradient(to right bottom, #fd696b, #fa616e, #f65871, #f15075, #ec4879); /*linear-gradient(to right bottom, #fd8369, #fc7870, #f96e78, #f56581, #ee5d8a)*/\n",
        "                    background-repeat: no-repeat;\n",
        "                    background-position: center;\n",
        "                    background-size: cover;\n",
        "                    border-radius: 8px;\n",
        "                    -webkit-transition: all .5s cubic-bezier(0.175, 0.885, 0.32, 1.275);\n",
        "                    -moz-transition: all .5s cubic-bezier(0.175, 0.885, 0.32, 1.275);\n",
        "                    -ms-transition: all .5s cubic-bezier(0.175, 0.885, 0.32, 1.275);\n",
        "                    -o-transition: all .5s cubic-bezier(0.175, 0.885, 0.32, 1.275);\n",
        "                    transition: all .5s cubic-bezier(0.175, 0.885, 0.32, 1.275);\n",
        "                    -webkit-transform-style: preserve-3d;\n",
        "                    -moz-transform-style: preserve-3d;\n",
        "                    -webkit-backface-visibility: hidden;\n",
        "                    -moz-backface-visibility: hidden;\n",
        "                }\n",
        "                .card__front{\n",
        "                  padding: 18px;\n",
        "                -webkit-transform: rotateY(0);\n",
        "                -moz-transform: rotateY(0);\n",
        "                }\n",
        "                .card__back {\n",
        "                  padding: 18px 0;\n",
        "                -webkit-transform: rotateY(-180deg);\n",
        "                -moz-transform: rotateY(-180deg);\n",
        "                }\n",
        "                .card__black-line {\n",
        "                    margin-top: 5px;\n",
        "                    height: 38px;\n",
        "                    background-color: #303030;\n",
        "                }\n",
        "                .card__logo {\n",
        "                    height: 16px;\n",
        "                }\n",
        "                .card__front-logo{\n",
        "                      position: absolute;\n",
        "                    top: 18px;\n",
        "                    right: 18px;\n",
        "                }\n",
        "                .card__square {\n",
        "                    border-radius: 5px;\n",
        "                    height: 30px;\n",
        "                }\n",
        "                .card_numer {\n",
        "                    display: block;\n",
        "                    width: 100%;\n",
        "                    word-spacing: 4px;\n",
        "                    font-size: 20px;\n",
        "                    letter-spacing: 2px;\n",
        "                    color: #fff;\n",
        "                    text-align: center;\n",
        "                    margin-bottom: 20px;\n",
        "                    margin-top: 20px;\n",
        "                }\n",
        "                .card__space-75 {\n",
        "                    width: 75%;\n",
        "                    float: left;\n",
        "                }\n",
        "                .card__space-25 {\n",
        "                    width: 25%;\n",
        "                    float: left;\n",
        "                }\n",
        "                .card__label {\n",
        "                    font-size: 10px;\n",
        "                    text-transform: uppercase;\n",
        "                    color: rgba(255,255,255,0.8);\n",
        "                    letter-spacing: 1px;\n",
        "                }\n",
        "                .card__info {\n",
        "                    margin-bottom: 0;\n",
        "                    margin-top: 5px;\n",
        "                    font-size: 16px;\n",
        "                    line-height: 18px;\n",
        "                    color: #fff;\n",
        "                  letter-spacing: 1px;\n",
        "                  text-transform: uppercase;\n",
        "                }\n",
        "                .card__back-content {\n",
        "                    padding: 15px 15px 0;\n",
        "                }\n",
        "                .card__secret--last {\n",
        "                    color: #303030;\n",
        "                    text-align: right;\n",
        "                    margin: 0;\n",
        "                    font-size: 14px;\n",
        "                }\n",
        "                .card__secret {\n",
        "                    padding: 5px 12px;\n",
        "                    background-color: #fff;\n",
        "                    position:relative;\n",
        "                }\n",
        "                .card__secret:before{\n",
        "                  content:'';\n",
        "                  position: absolute;\n",
        "                top: -3px;\n",
        "                left: -3px;\n",
        "                height: calc(100% + 6px);\n",
        "                width: calc(100% - 42px);\n",
        "                border-radius: 4px;\n",
        "                  background: repeating-linear-gradient(45deg, #ededed, #ededed 5px, #f9f9f9 5px, #f9f9f9 10px);\n",
        "                }\n",
        "                .card__back-logo {\n",
        "                    position: absolute;\n",
        "                    bottom: 15px;\n",
        "                    right: 15px;\n",
        "                }\n",
        "                .card__back-square {\n",
        "                    position: absolute;\n",
        "                    bottom: 15px;\n",
        "                    left: 15px;\n",
        "                }\n",
        "                .card:hover .card__front {\n",
        "                    -webkit-transform: rotateY(180deg);\n",
        "                    -moz-transform: rotateY(180deg);\n",
        "\n",
        "                }\n",
        "                .card:hover .card__back {\n",
        "                    -webkit-transform: rotateY(0deg);\n",
        "                    -moz-transform: rotateY(0deg);\n",
        "                }\n",
        "              </style>\n",
        "              <div class=\"card\">\n",
        "                <div class=\"card__front card__part\">\n",
        "                  <p class=\"card_numer\">**** **** **** 7777</p>\n",
        "                  <div class=\"card__space-75\">\n",
        "                    <span class=\"card__label\">Títular do Cartão</span>\n",
        "                    <p class=\"card__info\">CAROLINNE PINHEIRO</p>\n",
        "                  </div>\n",
        "                  <div class=\"card__space-25\">\n",
        "                    <span class=\"card__label\">Validade</span>\n",
        "                          <p class=\"card__info\">10/25</p>\n",
        "                  </div>\n",
        "                  </div>\n",
        "                  <div class=\"card__back card__part\">\n",
        "                    <div class=\"card__black-line\"></div>\n",
        "                    <div class=\"card__back-content\">\n",
        "                      <div class=\"card__secret\">\n",
        "                        <p class=\"card__secret--last\">777</p>\n",
        "                      </div>\n",
        "                    </div>\n",
        "                </div>\n",
        "              </div>\n",
        "              \"\"\", unsafe_allow_html=True)\n",
        "\n",
        "  cardHolderName = st.text_input(\"Nome Completo no Cartão:\")\n",
        "\n",
        "  colp1, colp2, colp3, colp4 = st.columns(4)\n",
        "\n",
        "  with colp1:\n",
        "    cardHolderNumberOne = st.text_input(label='Número do Cartão:', key='cardNumberOne', max_chars=4)\n",
        "  with colp2:\n",
        "    cardHolderNumberTwo = st.text_input(label='', key='cardNumberTwo', max_chars=4)\n",
        "  with colp3:\n",
        "    cardHolderNumberThree = st.text_input(label='', key='cardNumberThree', max_chars=4)\n",
        "  with colp4:\n",
        "    cardHolderNumberFour = st.text_input(label='', key='cardNumberFour', max_chars=4)\n",
        "\n",
        "  cole1, cole2, cole3, cole4 = st.columns(4)\n",
        "\n",
        "  with cole1:\n",
        "    cardExpireDay = st.text_input(label='Mês Expiração:', key='cardExNumberOne', max_chars=2)\n",
        "  with cole2:\n",
        "    cardExpireYear = st.text_input(label='Ano Expiração:', key='cardExNumberTwo', max_chars=4)\n",
        "  with cole3:\n",
        "    pass\n",
        "  with cole4:\n",
        "    cardCVC = st.text_input(label='CVC:', key='cardExNumberThree', max_chars=3)\n",
        "\n",
        "  colb1, colb2 , colb3 = st.columns(3)\n",
        "\n",
        "  with colb1:\n",
        "      pass\n",
        "  with colb3:\n",
        "      pass\n",
        "  with colb2:\n",
        "      submitted = st.form_submit_button(label=\"Confirmar Pagamento\")"
      ],
      "metadata": {
        "colab": {
          "base_uri": "https://localhost:8080/"
        },
        "id": "PS43z5FIE2N8",
        "outputId": "b2b00083-f397-40a1-f083-cffde82362ff"
      },
      "execution_count": 8,
      "outputs": [
        {
          "output_type": "stream",
          "name": "stdout",
          "text": [
            "Overwriting app.py\n"
          ]
        }
      ]
    },
    {
      "cell_type": "code",
      "source": [
        "!streamlit run app.py & npx localtunnel --port 8501"
      ],
      "metadata": {
        "colab": {
          "base_uri": "https://localhost:8080/"
        },
        "id": "H8Hemt9EHQQo",
        "outputId": "ba5863d2-56d7-44be-cbe9-6148173123f4"
      },
      "execution_count": null,
      "outputs": [
        {
          "output_type": "stream",
          "name": "stdout",
          "text": [
            "2022-05-14 20:07:00.067 INFO    numexpr.utils: NumExpr defaulting to 2 threads.\n",
            "\u001b[0m\n",
            "\u001b[34m\u001b[1m  You can now view your Streamlit app in your browser.\u001b[0m\n",
            "\u001b[0m\n",
            "\u001b[34m  Network URL: \u001b[0m\u001b[1mhttp://172.28.0.2:8501\u001b[0m\n",
            "\u001b[34m  External URL: \u001b[0m\u001b[1mhttp://34.91.249.54:8501\u001b[0m\n",
            "\u001b[0m\n",
            "\u001b[K\u001b[?25hnpx: installed 22 in 2.615s\n",
            "your url is: https://green-impalas-drive-34-91-249-54.loca.lt\n"
          ]
        }
      ]
    }
  ]
}