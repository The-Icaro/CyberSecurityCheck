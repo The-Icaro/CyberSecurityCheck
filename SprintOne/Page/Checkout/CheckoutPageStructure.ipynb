{
  "nbformat": 4,
  "nbformat_minor": 0,
  "metadata": {
    "colab": {
      "name": "CheckoutPage.ipynb",
      "provenance": [],
      "collapsed_sections": []
    },
    "kernelspec": {
      "name": "python3",
      "display_name": "Python 3"
    },
    "language_info": {
      "name": "python"
    }
  },
  "cells": [
    {
      "cell_type": "code",
      "execution_count": 1,
      "metadata": {
        "colab": {
          "base_uri": "https://localhost:8080/"
        },
        "id": "1ZEtL6IBPTON",
        "outputId": "3472816b-36be-4c34-b720-398c0b85a287"
      },
      "outputs": [
        {
          "output_type": "stream",
          "name": "stdout",
          "text": [
            "\u001b[K     |████████████████████████████████| 10.1 MB 13.5 MB/s \n",
            "\u001b[K     |████████████████████████████████| 111 kB 33.0 MB/s \n",
            "\u001b[K     |████████████████████████████████| 164 kB 61.6 MB/s \n",
            "\u001b[K     |████████████████████████████████| 76 kB 5.8 MB/s \n",
            "\u001b[K     |████████████████████████████████| 4.3 MB 64.6 MB/s \n",
            "\u001b[K     |████████████████████████████████| 181 kB 55.7 MB/s \n",
            "\u001b[K     |████████████████████████████████| 63 kB 1.5 MB/s \n",
            "\u001b[K     |████████████████████████████████| 131 kB 47.8 MB/s \n",
            "\u001b[K     |████████████████████████████████| 428 kB 18.5 MB/s \n",
            "\u001b[K     |████████████████████████████████| 130 kB 55.1 MB/s \n",
            "\u001b[K     |████████████████████████████████| 793 kB 42.8 MB/s \n",
            "\u001b[K     |████████████████████████████████| 381 kB 61.0 MB/s \n",
            "\u001b[?25h  Building wheel for blinker (setup.py) ... \u001b[?25l\u001b[?25hdone\n",
            "  Building wheel for validators (setup.py) ... \u001b[?25l\u001b[?25hdone\n",
            "\u001b[31mERROR: pip's dependency resolver does not currently take into account all the packages that are installed. This behaviour is the source of the following dependency conflicts.\n",
            "jupyter-console 5.2.0 requires prompt-toolkit<2.0.0,>=1.0.0, but you have prompt-toolkit 3.0.29 which is incompatible.\n",
            "google-colab 1.0.0 requires ipykernel~=4.10, but you have ipykernel 6.13.0 which is incompatible.\n",
            "google-colab 1.0.0 requires ipython~=5.5.0, but you have ipython 7.33.0 which is incompatible.\n",
            "google-colab 1.0.0 requires tornado~=5.1.0; python_version >= \"3.0\", but you have tornado 6.1 which is incompatible.\u001b[0m\n"
          ]
        }
      ],
      "source": [
        "!pip install -q streamlit"
      ]
    },
    {
      "cell_type": "code",
      "source": [
        "!pip install -q streamlit-ace"
      ],
      "metadata": {
        "colab": {
          "base_uri": "https://localhost:8080/"
        },
        "id": "h-RMJZWQPXz2",
        "outputId": "9b6c6286-499e-457a-cd8e-7dbe23872a8e"
      },
      "execution_count": 2,
      "outputs": [
        {
          "output_type": "stream",
          "name": "stdout",
          "text": [
            "\u001b[K     |████████████████████████████████| 3.6 MB 23.7 MB/s \n",
            "\u001b[?25h"
          ]
        }
      ]
    },
    {
      "cell_type": "code",
      "source": [
        "!streamlit run app.py &>/dev/null&"
      ],
      "metadata": {
        "id": "fiozkcAjPbFM"
      },
      "execution_count": 3,
      "outputs": []
    },
    {
      "cell_type": "code",
      "source": [
        "!pip install -q pyngrok"
      ],
      "metadata": {
        "colab": {
          "base_uri": "https://localhost:8080/"
        },
        "id": "3CEFTJAjPc43",
        "outputId": "372c5ef2-9c46-4b9f-fd20-6b5131ccea28"
      },
      "execution_count": 4,
      "outputs": [
        {
          "output_type": "stream",
          "name": "stdout",
          "text": [
            "\u001b[?25l\r\u001b[K     |▍                               | 10 kB 21.6 MB/s eta 0:00:01\r\u001b[K     |▉                               | 20 kB 24.4 MB/s eta 0:00:01\r\u001b[K     |█▎                              | 30 kB 30.2 MB/s eta 0:00:01\r\u001b[K     |█▊                              | 40 kB 33.5 MB/s eta 0:00:01\r\u001b[K     |██▏                             | 51 kB 25.1 MB/s eta 0:00:01\r\u001b[K     |██▋                             | 61 kB 27.4 MB/s eta 0:00:01\r\u001b[K     |███                             | 71 kB 25.4 MB/s eta 0:00:01\r\u001b[K     |███▌                            | 81 kB 27.0 MB/s eta 0:00:01\r\u001b[K     |████                            | 92 kB 29.3 MB/s eta 0:00:01\r\u001b[K     |████▍                           | 102 kB 27.4 MB/s eta 0:00:01\r\u001b[K     |████▉                           | 112 kB 27.4 MB/s eta 0:00:01\r\u001b[K     |█████▎                          | 122 kB 27.4 MB/s eta 0:00:01\r\u001b[K     |█████▊                          | 133 kB 27.4 MB/s eta 0:00:01\r\u001b[K     |██████▏                         | 143 kB 27.4 MB/s eta 0:00:01\r\u001b[K     |██████▋                         | 153 kB 27.4 MB/s eta 0:00:01\r\u001b[K     |███████                         | 163 kB 27.4 MB/s eta 0:00:01\r\u001b[K     |███████▌                        | 174 kB 27.4 MB/s eta 0:00:01\r\u001b[K     |████████                        | 184 kB 27.4 MB/s eta 0:00:01\r\u001b[K     |████████▍                       | 194 kB 27.4 MB/s eta 0:00:01\r\u001b[K     |████████▉                       | 204 kB 27.4 MB/s eta 0:00:01\r\u001b[K     |█████████▎                      | 215 kB 27.4 MB/s eta 0:00:01\r\u001b[K     |█████████▊                      | 225 kB 27.4 MB/s eta 0:00:01\r\u001b[K     |██████████▏                     | 235 kB 27.4 MB/s eta 0:00:01\r\u001b[K     |██████████▌                     | 245 kB 27.4 MB/s eta 0:00:01\r\u001b[K     |███████████                     | 256 kB 27.4 MB/s eta 0:00:01\r\u001b[K     |███████████▍                    | 266 kB 27.4 MB/s eta 0:00:01\r\u001b[K     |███████████▉                    | 276 kB 27.4 MB/s eta 0:00:01\r\u001b[K     |████████████▎                   | 286 kB 27.4 MB/s eta 0:00:01\r\u001b[K     |████████████▊                   | 296 kB 27.4 MB/s eta 0:00:01\r\u001b[K     |█████████████▏                  | 307 kB 27.4 MB/s eta 0:00:01\r\u001b[K     |█████████████▋                  | 317 kB 27.4 MB/s eta 0:00:01\r\u001b[K     |██████████████                  | 327 kB 27.4 MB/s eta 0:00:01\r\u001b[K     |██████████████▌                 | 337 kB 27.4 MB/s eta 0:00:01\r\u001b[K     |███████████████                 | 348 kB 27.4 MB/s eta 0:00:01\r\u001b[K     |███████████████▍                | 358 kB 27.4 MB/s eta 0:00:01\r\u001b[K     |███████████████▉                | 368 kB 27.4 MB/s eta 0:00:01\r\u001b[K     |████████████████▎               | 378 kB 27.4 MB/s eta 0:00:01\r\u001b[K     |████████████████▊               | 389 kB 27.4 MB/s eta 0:00:01\r\u001b[K     |█████████████████▏              | 399 kB 27.4 MB/s eta 0:00:01\r\u001b[K     |█████████████████▋              | 409 kB 27.4 MB/s eta 0:00:01\r\u001b[K     |██████████████████              | 419 kB 27.4 MB/s eta 0:00:01\r\u001b[K     |██████████████████▌             | 430 kB 27.4 MB/s eta 0:00:01\r\u001b[K     |███████████████████             | 440 kB 27.4 MB/s eta 0:00:01\r\u001b[K     |███████████████████▍            | 450 kB 27.4 MB/s eta 0:00:01\r\u001b[K     |███████████████████▉            | 460 kB 27.4 MB/s eta 0:00:01\r\u001b[K     |████████████████████▎           | 471 kB 27.4 MB/s eta 0:00:01\r\u001b[K     |████████████████████▋           | 481 kB 27.4 MB/s eta 0:00:01\r\u001b[K     |█████████████████████           | 491 kB 27.4 MB/s eta 0:00:01\r\u001b[K     |█████████████████████▌          | 501 kB 27.4 MB/s eta 0:00:01\r\u001b[K     |██████████████████████          | 512 kB 27.4 MB/s eta 0:00:01\r\u001b[K     |██████████████████████▍         | 522 kB 27.4 MB/s eta 0:00:01\r\u001b[K     |██████████████████████▉         | 532 kB 27.4 MB/s eta 0:00:01\r\u001b[K     |███████████████████████▎        | 542 kB 27.4 MB/s eta 0:00:01\r\u001b[K     |███████████████████████▊        | 552 kB 27.4 MB/s eta 0:00:01\r\u001b[K     |████████████████████████▏       | 563 kB 27.4 MB/s eta 0:00:01\r\u001b[K     |████████████████████████▋       | 573 kB 27.4 MB/s eta 0:00:01\r\u001b[K     |█████████████████████████       | 583 kB 27.4 MB/s eta 0:00:01\r\u001b[K     |█████████████████████████▌      | 593 kB 27.4 MB/s eta 0:00:01\r\u001b[K     |██████████████████████████      | 604 kB 27.4 MB/s eta 0:00:01\r\u001b[K     |██████████████████████████▍     | 614 kB 27.4 MB/s eta 0:00:01\r\u001b[K     |██████████████████████████▉     | 624 kB 27.4 MB/s eta 0:00:01\r\u001b[K     |███████████████████████████▎    | 634 kB 27.4 MB/s eta 0:00:01\r\u001b[K     |███████████████████████████▊    | 645 kB 27.4 MB/s eta 0:00:01\r\u001b[K     |████████████████████████████▏   | 655 kB 27.4 MB/s eta 0:00:01\r\u001b[K     |████████████████████████████▋   | 665 kB 27.4 MB/s eta 0:00:01\r\u001b[K     |█████████████████████████████   | 675 kB 27.4 MB/s eta 0:00:01\r\u001b[K     |█████████████████████████████▌  | 686 kB 27.4 MB/s eta 0:00:01\r\u001b[K     |██████████████████████████████  | 696 kB 27.4 MB/s eta 0:00:01\r\u001b[K     |██████████████████████████████▍ | 706 kB 27.4 MB/s eta 0:00:01\r\u001b[K     |██████████████████████████████▊ | 716 kB 27.4 MB/s eta 0:00:01\r\u001b[K     |███████████████████████████████▏| 727 kB 27.4 MB/s eta 0:00:01\r\u001b[K     |███████████████████████████████▋| 737 kB 27.4 MB/s eta 0:00:01\r\u001b[K     |████████████████████████████████| 745 kB 27.4 MB/s \n",
            "\u001b[?25h  Building wheel for pyngrok (setup.py) ... \u001b[?25l\u001b[?25hdone\n"
          ]
        }
      ]
    },
    {
      "cell_type": "code",
      "source": [
        "from pyngrok import ngrok"
      ],
      "metadata": {
        "id": "oYoUr8qYPd83"
      },
      "execution_count": 5,
      "outputs": []
    },
    {
      "cell_type": "code",
      "source": [
        "%%writefile app.py\n",
        "import streamlit as st\n",
        "import pandas as pd\n",
        "\n",
        "productTableStyle = \"\"\"\n",
        "                      table {\n",
        "                      width: 600px;\n",
        "                      font-family: \"Trebuchet MS\", Helvetica, sans-serif;\n",
        "                      border-collapse: collapse; /*collapse = junta as bordas; sepparate = bordas separadas */\n",
        "                    }\n",
        "\n",
        "                    th, td  {\n",
        "                      padding: 5px;\n",
        "                    }\n",
        "\n",
        "                    th {\n",
        "                      text-align: left;\n",
        "                      text-transform: uppercase;\n",
        "                      letter-spacing: 0.1em;\n",
        "                      font-size: 90%;\n",
        "                      border-top: 1px solid #999;\n",
        "                      border-bottom: 1px solid #111;\n",
        "                    }\n",
        "\n",
        "                    .row_cinza {\n",
        "                      background-color: #efefef;\n",
        "                    }\n",
        "\n",
        "\n",
        "                    .numero_direita {\n",
        "                      text-align: right;\n",
        "                    }\n",
        "\n",
        "                    tr:hover {\n",
        "                      background-color: #c3e6e5;\n",
        "                    } \"\"\" \n",
        "\n",
        "st.set_page_config(page_title=\"Carrinho\", page_icon=\"🏷️\", layout=\"centered\")\n",
        "\n",
        "st.title(\"🛒 Checkout\")\n",
        "\n",
        "form = st.form(key=\"form\")\n",
        "\n",
        "with form:\n",
        "  name = st.text_input(\"Nome Completo:\")\n",
        "  cols = st.columns((1, 1))\n",
        "  rg = cols[0].text_input(\"RG:\")\n",
        "  cpf = cols[1].text_input(\"CPF:\")\n",
        "  productsCols1, productsCols2, productsCols3, productsCols4 = st.columns(4)\n",
        "\n",
        "  st.markdown(\"\"\" \n",
        "                <style>\n",
        "                table {\n",
        "                      width: 674px;\n",
        "                      font-family: \"Trebuchet MS\", Helvetica, sans-serif;\n",
        "                      border-collapse: collapse; /*collapse = junta as bordas; sepparate = bordas separadas */\n",
        "                    }\n",
        "                    th, td  {\n",
        "                      padding: 5px;\n",
        "                    }\n",
        "                    th {\n",
        "                      text-align: left;\n",
        "                      text-transform: uppercase;\n",
        "                      letter-spacing: 0.1em;\n",
        "                      font-size: 90%;\n",
        "                      border-top: 1px solid #999;\n",
        "                      border-bottom: 1px solid #111;\n",
        "                    }\n",
        "                    .numero_direita {\n",
        "                      text-align: right;\n",
        "                    }\n",
        "                    tr:hover {\n",
        "                      background-color: #c3e6e5;\n",
        "                    }\n",
        "                </style>\n",
        "                 <table>\n",
        "                  <tr>\n",
        "                    <th>Produto</th>\n",
        "                    <th class=\"numero_direita\">Quantidade</th>\n",
        "                    <th class=\"numero_direita\">Preço</th>\n",
        "                  </tr>\n",
        "                  <tr>\n",
        "                    <td>Notebook</td>\n",
        "                    <td class=\"numero_direita\">1</td>\n",
        "                    <td class=\"numero_direita\">R$2.500</td>\n",
        "                  </tr>\n",
        "                  <tr class=\"row_cinza\">\n",
        "                    <td>Tablet</td>\n",
        "                    <td class=\"numero_direita\">2</td>\n",
        "                    <td class=\"numero_direita\">R$1.500</td>\n",
        "                  </tr>\n",
        "                  <tr>\n",
        "                    <td>Iphone</td>\n",
        "                    <td class=\"numero_direita\">3</td>\n",
        "                    <td class=\"numero_direita\">R$3.500</td>\n",
        "                  </tr>\n",
        "                  <tr class=\"row_cinza\">\n",
        "                    <td>Nexus</td>\n",
        "                    <td class=\"numero_direita\">4</td>\n",
        "                    <td class=\"numero_direita\">R$3.500</td>\n",
        "                  </tr>\n",
        "                </table>\"\"\", unsafe_allow_html=True)\n",
        "  \n",
        "  st.markdown(\"\"\"<div style=\"border: 0.5px solid gray; border-radius: 20px; width: 100px; height: 70px; padding: 7px; margin-top: 15px;margin-bottom: 15px;margin-left: 276px;\">\n",
        "                  <span style=\"text-align: center;margin-left: 20px;text-transform: uppercase;letter-spacing: 0.1em;font-size: 90%;font-weight: bold;\">Total</span>\n",
        "                  <p style=\"text-align: center;\">R$ 11.000</p>\n",
        "                </div>\"\"\", unsafe_allow_html=True)\n",
        "  colb1, colb2, colb3 , colb4, colb5 = st.columns(5)\n",
        "\n",
        "  with colb1:\n",
        "      pass\n",
        "  with colb2:\n",
        "      pass\n",
        "  with colb4:\n",
        "      pass\n",
        "  with colb5:\n",
        "      pass\n",
        "  with colb3 :\n",
        "      submitted = st.form_submit_button(label=\"Pagamento\")\n",
        "  "
      ],
      "metadata": {
        "colab": {
          "base_uri": "https://localhost:8080/"
        },
        "id": "CFTxdZmVPfmg",
        "outputId": "8a32c192-5d1e-4b6e-db0f-1a0858e5e11a"
      },
      "execution_count": 80,
      "outputs": [
        {
          "output_type": "stream",
          "name": "stdout",
          "text": [
            "Overwriting app.py\n"
          ]
        }
      ]
    },
    {
      "cell_type": "code",
      "source": [
        "!streamlit run app.py & npx localtunnel --port 8501"
      ],
      "metadata": {
        "colab": {
          "base_uri": "https://localhost:8080/"
        },
        "id": "mMcaCqD-SYBf",
        "outputId": "fff6e3c8-b942-42b7-f9f2-a6c07472d187"
      },
      "execution_count": null,
      "outputs": [
        {
          "output_type": "stream",
          "name": "stdout",
          "text": [
            "2022-05-12 23:27:18.923 INFO    numexpr.utils: NumExpr defaulting to 2 threads.\n",
            "\u001b[K\u001b[?25hnpx: installed 22 in 2.639s\n",
            "\u001b[0m\n",
            "\u001b[34m\u001b[1m  You can now view your Streamlit app in your browser.\u001b[0m\n",
            "\u001b[0m\n",
            "\u001b[34m  Network URL: \u001b[0m\u001b[1mhttp://172.28.0.2:8501\u001b[0m\n",
            "\u001b[34m  External URL: \u001b[0m\u001b[1mhttp://34.150.140.75:8501\u001b[0m\n",
            "\u001b[0m\n",
            "your url is: https://brown-olives-talk-34-150-140-75.loca.lt\n"
          ]
        }
      ]
    }
  ]
}