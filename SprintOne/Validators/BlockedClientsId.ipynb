{
  "nbformat": 4,
  "nbformat_minor": 0,
  "metadata": {
    "colab": {
      "name": "ValidatorCheckout.ipynb",
      "provenance": []
    },
    "kernelspec": {
      "name": "python3",
      "display_name": "Python 3"
    },
    "language_info": {
      "name": "python"
    }
  },
  "cells": [
    {
      "cell_type": "code",
      "execution_count": 1,
      "metadata": {
        "id": "bh-7HTicHkMP"
      },
      "outputs": [],
      "source": [
        "import pandas as pd"
      ]
    },
    {
      "cell_type": "code",
      "source": [
        "fraudClientData = pd.read_excel('fraudClientData.xlsx')\n",
        "deadClientData = pd.read_excel('deadClientData.xlsx')"
      ],
      "metadata": {
        "id": "eYjo1c5fMCLC"
      },
      "execution_count": 2,
      "outputs": []
    },
    {
      "cell_type": "code",
      "source": [
        "fraudClientIds = fraudClientData['Id'].values.tolist()\n",
        "deadClientIds = deadClientData['Id'].values.tolist()\n",
        "\n",
        "blockedIds = fraudClientIds + deadClientIds"
      ],
      "metadata": {
        "id": "ri_eDAODML_x"
      },
      "execution_count": 17,
      "outputs": []
    },
    {
      "cell_type": "code",
      "source": [
        "blockedIds[1]"
      ],
      "metadata": {
        "colab": {
          "base_uri": "https://localhost:8080/"
        },
        "id": "7OfTyDHuObgk",
        "outputId": "ddd1c613-a3af-436a-d524-5e966ed7bb5d"
      },
      "execution_count": 22,
      "outputs": [
        {
          "output_type": "execute_result",
          "data": {
            "text/plain": [
              "18106"
            ]
          },
          "metadata": {},
          "execution_count": 22
        }
      ]
    },
    {
      "cell_type": "code",
      "source": [
        "type(blockedIds[0])"
      ],
      "metadata": {
        "colab": {
          "base_uri": "https://localhost:8080/"
        },
        "id": "yJYXwrjzMs-b",
        "outputId": "af80fc98-9d83-4efe-81e3-23cdec1e9194"
      },
      "execution_count": 20,
      "outputs": [
        {
          "output_type": "execute_result",
          "data": {
            "text/plain": [
              "int"
            ]
          },
          "metadata": {},
          "execution_count": 20
        }
      ]
    },
    {
      "cell_type": "code",
      "source": [
        "def handleBlockedIds(personId : int) -> bool:\n",
        "  return personId in blockedIds"
      ],
      "metadata": {
        "id": "OxrLdmt2NXLW"
      },
      "execution_count": 26,
      "outputs": []
    },
    {
      "cell_type": "code",
      "source": [
        "handleBlockedIds(18106)"
      ],
      "metadata": {
        "colab": {
          "base_uri": "https://localhost:8080/"
        },
        "id": "UVWmQA9mOaP4",
        "outputId": "84ed7e9d-6a90-414b-df98-a896ae83c29a"
      },
      "execution_count": 29,
      "outputs": [
        {
          "output_type": "execute_result",
          "data": {
            "text/plain": [
              "True"
            ]
          },
          "metadata": {},
          "execution_count": 29
        }
      ]
    }
  ]
}