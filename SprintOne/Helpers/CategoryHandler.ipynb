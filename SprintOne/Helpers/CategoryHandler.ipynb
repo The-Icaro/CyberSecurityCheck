{
  "nbformat": 4,
  "nbformat_minor": 0,
  "metadata": {
    "colab": {
      "name": "CategoryHandler.ipynb",
      "provenance": []
    },
    "kernelspec": {
      "name": "python3",
      "display_name": "Python 3"
    },
    "language_info": {
      "name": "python"
    }
  },
  "cells": [
    {
      "cell_type": "code",
      "source": [
        "categoryOptions = {\n",
        "    \"Bars And Restaurants\" : 0\n",
        "    , \"Contents\" : 1\n",
        "    , \"Fashion\" : 2\n",
        "    , \"Food\" : 3\n",
        "    , \"Health\" : 4\n",
        "    , \"Home\" : 5\n",
        "    , \"Hotel Services\" : 6\n",
        "    , \"Hyper\" : 7\n",
        "    , \"Leisure\" : 8\n",
        "    , \"Other Services\" : 9\n",
        "    , \"Sports and Toys\" : 10\n",
        "    , \"Tech\" : 11\n",
        "    , \"Transportation\" : 12\n",
        "    , \"Travel\" : 13\n",
        "    , \"Wellness and Beauty\" : 14\n",
        "}"
      ],
      "metadata": {
        "id": "0EWGWom4sVCX"
      },
      "execution_count": 29,
      "outputs": []
    },
    {
      "cell_type": "code",
      "source": [
        "def handleCategorySelection(selectedCategory) :\n",
        "  return categoryOptions.get(selectedCategory)"
      ],
      "metadata": {
        "id": "4iLhE7Vpeqj8"
      },
      "execution_count": 30,
      "outputs": []
    }
  ]
}