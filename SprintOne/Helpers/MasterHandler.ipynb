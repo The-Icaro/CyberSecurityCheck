{
  "cells": [
    {
      "cell_type": "code",
      "execution_count": 32,
      "metadata": {
        "id": "0EWGWom4sVCX"
      },
      "outputs": [],
      "source": [
        "categoryOptions = {\n",
        "    \"Bars And Restaurants\" : 0\n",
        "    , \"Contents\" : 1\n",
        "    , \"Fashion\" : 2\n",
        "    , \"Food\" : 3\n",
        "    , \"Health\" : 4\n",
        "    , \"Home\" : 5\n",
        "    , \"Hotel Services\" : 6\n",
        "    , \"Hyper\" : 7\n",
        "    , \"Leisure\" : 8\n",
        "    , \"Other Services\" : 9\n",
        "    , \"Sports and Toys\" : 10\n",
        "    , \"Tech\" : 11\n",
        "    , \"Transportation\" : 12\n",
        "    , \"Travel\" : 13\n",
        "    , \"Wellness and Beauty\" : 14\n",
        "}"
      ]
    },
    {
      "cell_type": "code",
      "execution_count": 33,
      "metadata": {
        "id": "Nr-u0Tn5tX0m"
      },
      "outputs": [],
      "source": [
        "genderOptions = {\n",
        "    'Empresa' : 0,\n",
        "    'Feminino' : 1,\n",
        "    'Masculino' : 2,\n",
        "    'Não Identificar' : 3,\n",
        "}"
      ]
    },
    {
      "cell_type": "code",
      "execution_count": 34,
      "metadata": {
        "id": "4iLhE7Vpeqj8"
      },
      "outputs": [],
      "source": [
        "def masterSelectionHandler(selectedData : str, data : dict) :\n",
        "  return data.get(selectedData)"
      ]
    }
  ],
  "metadata": {
    "colab": {
      "name": "MasterHandler.ipynb",
      "provenance": []
    },
    "kernelspec": {
      "display_name": "Python 3",
      "name": "python3"
    },
    "language_info": {
      "name": "python"
    }
  },
  "nbformat": 4,
  "nbformat_minor": 0
}
