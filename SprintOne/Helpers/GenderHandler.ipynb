{
  "nbformat": 4,
  "nbformat_minor": 0,
  "metadata": {
    "colab": {
      "name": "GenderHandler.ipynb",
      "provenance": []
    },
    "kernelspec": {
      "name": "python3",
      "display_name": "Python 3"
    },
    "language_info": {
      "name": "python"
    }
  },
  "cells": [
    {
      "cell_type": "code",
      "source": [
        "genderOptions = {\n",
        "    'E' : 0,\n",
        "    'F' : 1,\n",
        "    'M' : 2,\n",
        "    'N' : 3,\n",
        "}"
      ],
      "metadata": {
        "id": "1yl6_yfAoRnU"
      },
      "execution_count": 12,
      "outputs": []
    },
    {
      "cell_type": "code",
      "source": [
        "def handleGenderSelection(selectedGender) :\n",
        "  return genderOptions.get(str(selectedGender[0]))"
      ],
      "metadata": {
        "id": "4iLhE7Vpeqj8"
      },
      "execution_count": 13,
      "outputs": []
    }
  ]
}