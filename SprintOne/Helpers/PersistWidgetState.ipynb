{
  "nbformat": 4,
  "nbformat_minor": 0,
  "metadata": {
    "colab": {
      "name": "PersistWidgetState.ipynb",
      "provenance": [],
      "collapsed_sections": []
    },
    "kernelspec": {
      "name": "python3",
      "display_name": "Python 3"
    },
    "language_info": {
      "name": "python"
    }
  },
  "cells": [
    {
      "cell_type": "code",
      "source": [
        "!pip install -q streamlit"
      ],
      "metadata": {
        "colab": {
          "base_uri": "https://localhost:8080/"
        },
        "id": "z86wvrhex-ru",
        "outputId": "df73a99c-ddf6-4a71-bead-c34e572e4a86"
      },
      "execution_count": 40,
      "outputs": [
        {
          "output_type": "stream",
          "name": "stdout",
          "text": [
            "\u001b[K     |████████████████████████████████| 10.1 MB 5.3 MB/s \n",
            "\u001b[K     |████████████████████████████████| 4.3 MB 38.3 MB/s \n",
            "\u001b[K     |████████████████████████████████| 111 kB 41.9 MB/s \n",
            "\u001b[K     |████████████████████████████████| 181 kB 49.3 MB/s \n",
            "\u001b[K     |████████████████████████████████| 164 kB 37.9 MB/s \n",
            "\u001b[K     |████████████████████████████████| 76 kB 4.7 MB/s \n",
            "\u001b[K     |████████████████████████████████| 63 kB 1.5 MB/s \n",
            "\u001b[K     |████████████████████████████████| 131 kB 46.2 MB/s \n",
            "\u001b[K     |████████████████████████████████| 428 kB 53.8 MB/s \n",
            "\u001b[K     |████████████████████████████████| 130 kB 51.2 MB/s \n",
            "\u001b[K     |████████████████████████████████| 793 kB 44.3 MB/s \n",
            "\u001b[K     |████████████████████████████████| 381 kB 45.6 MB/s \n",
            "\u001b[?25h  Building wheel for blinker (setup.py) ... \u001b[?25l\u001b[?25hdone\n",
            "  Building wheel for validators (setup.py) ... \u001b[?25l\u001b[?25hdone\n",
            "\u001b[31mERROR: pip's dependency resolver does not currently take into account all the packages that are installed. This behaviour is the source of the following dependency conflicts.\n",
            "jupyter-console 5.2.0 requires prompt-toolkit<2.0.0,>=1.0.0, but you have prompt-toolkit 3.0.29 which is incompatible.\n",
            "google-colab 1.0.0 requires ipykernel~=4.10, but you have ipykernel 6.13.0 which is incompatible.\n",
            "google-colab 1.0.0 requires ipython~=5.5.0, but you have ipython 7.33.0 which is incompatible.\n",
            "google-colab 1.0.0 requires tornado~=5.1.0; python_version >= \"3.0\", but you have tornado 6.1 which is incompatible.\u001b[0m\n"
          ]
        }
      ]
    },
    {
      "cell_type": "code",
      "source": [
        "!pip install -q streamlit-ace"
      ],
      "metadata": {
        "colab": {
          "base_uri": "https://localhost:8080/"
        },
        "id": "rsXuy8b1yCkz",
        "outputId": "4f3bd07f-047e-434d-fc0b-0c10ef997269"
      },
      "execution_count": 41,
      "outputs": [
        {
          "output_type": "stream",
          "name": "stdout",
          "text": [
            "\u001b[K     |████████████████████████████████| 3.6 MB 5.1 MB/s \n",
            "\u001b[?25h"
          ]
        }
      ]
    },
    {
      "cell_type": "code",
      "source": [
        "!streamlit run app.py &>/dev/null&"
      ],
      "metadata": {
        "id": "wLgR_d62yEIH"
      },
      "execution_count": 42,
      "outputs": []
    },
    {
      "cell_type": "code",
      "source": [
        "%%writefile app.py\n",
        "import streamlit as st\n",
        "from streamlit import session_state as _state\n",
        "\n",
        "\n",
        "_PERSIST_STATE_KEY = f\"{__name__}_PERSIST\"\n",
        "\n",
        "\n",
        "## To Persist The Widget\n",
        "def persist(key: str) -> str:\n",
        "    if _PERSIST_STATE_KEY not in _state:\n",
        "        _state[_PERSIST_STATE_KEY] = set()\n",
        "\n",
        "    _state[_PERSIST_STATE_KEY].add(key)\n",
        "\n",
        "    return key\n",
        "\n",
        "## To Load The Widget State\n",
        "def load_widget_state():\n",
        "    if _PERSIST_STATE_KEY in _state:\n",
        "        _state.update({\n",
        "            key: value\n",
        "            for key, value in _state.items()\n",
        "            if key in _state[_PERSIST_STATE_KEY]\n",
        "        })"
      ],
      "metadata": {
        "colab": {
          "base_uri": "https://localhost:8080/"
        },
        "id": "K16aUF7Ux7_x",
        "outputId": "20428c91-1dbb-46d8-fef5-b06c6a71f4fe"
      },
      "execution_count": 44,
      "outputs": [
        {
          "output_type": "stream",
          "name": "stdout",
          "text": [
            "Overwriting app.py\n"
          ]
        }
      ]
    }
  ]
}