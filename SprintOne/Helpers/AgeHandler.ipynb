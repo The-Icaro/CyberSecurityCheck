{
  "nbformat": 4,
  "nbformat_minor": 0,
  "metadata": {
    "colab": {
      "name": "AgeHandler.ipynb",
      "provenance": []
    },
    "kernelspec": {
      "name": "python3",
      "display_name": "Python 3"
    },
    "language_info": {
      "name": "python"
    }
  },
  "cells": [
    {
      "cell_type": "code",
      "source": [
        "def handleAgeSelection(selectedAge : int) :\n",
        "  \n",
        "  age = 6\n",
        "\n",
        "  if selectedAge <= 18:\n",
        "    age = 0\n",
        "  elif selectedAge <= 25:\n",
        "    age = 1\n",
        "  elif selectedAge <= 35:\n",
        "    age = 2\n",
        "  elif selectedAge <= 45:\n",
        "    age = 3\n",
        "  elif selectedAge <= 55:\n",
        "    age = 4\n",
        "  elif selectedAge <= 65:\n",
        "    age = 5\n",
        "  \n",
        "  return age"
      ],
      "metadata": {
        "id": "4iLhE7Vpeqj8"
      },
      "execution_count": 21,
      "outputs": []
    }
  ]
}