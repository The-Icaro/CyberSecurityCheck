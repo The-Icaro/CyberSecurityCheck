{
  "nbformat": 4,
  "nbformat_minor": 0,
  "metadata": {
    "colab": {
      "name": "CyberCheckoutDataManipulation.Sprint",
      "provenance": []
    },
    "kernelspec": {
      "name": "python3",
      "display_name": "Python 3"
    },
    "language_info": {
      "name": "python"
    }
  },
  "cells": [
    {
      "cell_type": "code",
      "execution_count": 1,
      "metadata": {
        "id": "XbF38VHgBPiY"
      },
      "outputs": [],
      "source": [
        "import pandas as pd\n"
      ]
    },
    {
      "cell_type": "code",
      "source": [
        "deadClientData = pd.read_excel('id-clientes-falecidos(1).xlsx')\n",
        "fraudClientData = pd.read_excel('id-clientes-fraudadores(1).xlsx')\n",
        "clientNameData = pd.read_csv('name.txt', sep=',', header=None)\n",
        "fraudClientNameData = pd.read_csv('fraudNames.txt', sep=',', header=None)"
      ],
      "metadata": {
        "id": "FmahV-KaBlr1"
      },
      "execution_count": 44,
      "outputs": []
    },
    {
      "cell_type": "code",
      "source": [
        "names = clientNameData.sample(n=88)[0].reset_index()"
      ],
      "metadata": {
        "id": "Wzm1BpZnB2pE"
      },
      "execution_count": 45,
      "outputs": []
    },
    {
      "cell_type": "code",
      "source": [
        "names.drop(columns=['index'], inplace=True)"
      ],
      "metadata": {
        "id": "Mz19r7OmDXZj"
      },
      "execution_count": 46,
      "outputs": []
    },
    {
      "cell_type": "code",
      "source": [
        "deadClientData['Name'] = names"
      ],
      "metadata": {
        "id": "neAYcRjTDlsz"
      },
      "execution_count": 47,
      "outputs": []
    },
    {
      "cell_type": "code",
      "source": [
        "deadClientData.rename(columns={'id-clientes-falecidos': 'Id'}, inplace=True)"
      ],
      "metadata": {
        "id": "WeVu9HDED53R"
      },
      "execution_count": 48,
      "outputs": []
    },
    {
      "cell_type": "code",
      "source": [
        "fraudNames = fraudClientNameData.sample(n=82)[0].reset_index()"
      ],
      "metadata": {
        "id": "qypsJCjvEu8F"
      },
      "execution_count": 49,
      "outputs": []
    },
    {
      "cell_type": "code",
      "source": [
        "fraudNames.drop(columns=['index'], inplace=True)"
      ],
      "metadata": {
        "id": "i1D7Sv8-E87G"
      },
      "execution_count": 50,
      "outputs": []
    },
    {
      "cell_type": "code",
      "source": [
        "fraudClientData['Name'] = fraudNames\n",
        "fraudClientData.rename(columns={'id-clientes-fraudadores': 'Id'}, inplace=True)"
      ],
      "metadata": {
        "id": "LEiTMUwFFBqq"
      },
      "execution_count": 51,
      "outputs": []
    },
    {
      "cell_type": "code",
      "source": [
        "fraudClientData.to_excel('fraudClientData.xlsx', sheet_name='Fraud')\n",
        "deadClientData.to_excel('deadClientData.xlsx', sheet_name='Dead')"
      ],
      "metadata": {
        "id": "lhFyaAC2FGzY"
      },
      "execution_count": 54,
      "outputs": []
    }
  ]
}