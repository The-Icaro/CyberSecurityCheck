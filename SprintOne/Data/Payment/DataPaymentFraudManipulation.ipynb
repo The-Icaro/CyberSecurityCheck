{
  "nbformat": 4,
  "nbformat_minor": 0,
  "metadata": {
    "colab": {
      "name": "DataPaymentFraudManipulation.ipynb",
      "provenance": [],
      "collapsed_sections": []
    },
    "kernelspec": {
      "name": "python3",
      "display_name": "Python 3"
    },
    "language_info": {
      "name": "python"
    }
  },
  "cells": [
    {
      "cell_type": "code",
      "source": [
        "import pandas as pd\n",
        "from sklearn.preprocessing import LabelEncoder\n",
        "from sklearn.preprocessing import StandardScaler\n",
        "from sklearn.preprocessing import MinMaxScaler\n",
        "\n",
        "from sklearn.model_selection import train_test_split "
      ],
      "metadata": {
        "id": "Rvny0uAIQKwx"
      },
      "execution_count": 55,
      "outputs": []
    },
    {
      "cell_type": "code",
      "source": [
        "df = pd.read_csv('fraudPaymentData.txt', sep=',')\n",
        "df"
      ],
      "metadata": {
        "colab": {
          "base_uri": "https://localhost:8080/",
          "height": 424
        },
        "id": "P19ibt-gQMbo",
        "outputId": "34898f28-dd3f-4883-ccbf-8c4c4639be75"
      },
      "execution_count": 3,
      "outputs": [
        {
          "output_type": "execute_result",
          "data": {
            "text/plain": [
              "        step       customer  age gender zipcodeOri       merchant zipMerchant  \\\n",
              "0          0  'C1093826151'  '4'    'M'    '28007'   'M348934600'     '28007'   \n",
              "1          0   'C352968107'  '2'    'M'    '28007'   'M348934600'     '28007'   \n",
              "2          0  'C2054744914'  '4'    'F'    '28007'  'M1823072687'     '28007'   \n",
              "3          0  'C1760612790'  '3'    'M'    '28007'   'M348934600'     '28007'   \n",
              "4          0   'C757503768'  '5'    'M'    '28007'   'M348934600'     '28007'   \n",
              "...      ...            ...  ...    ...        ...            ...         ...   \n",
              "179475    62   'C899813705'  '4'    'M'    '28007'  'M1823072687'     '28007'   \n",
              "179476    62   'C771874671'  '5'    'M'    '28007'   'M348934600'     '28007'   \n",
              "179477    62  'C1734585073'  '5'    'F'    '28007'    'M85975013'     '28007'   \n",
              "179478    62  'C1373973501'  '4'    'F'    '28007'   'M348934600'     '28007'   \n",
              "179479    62  'C1509718305'  '1'    'M'    '28007'  'M1823072687'        '280   \n",
              "\n",
              "                   category  amount  fraud  \n",
              "0       'es_transportation'    4.55    0.0  \n",
              "1       'es_transportation'   39.68    0.0  \n",
              "2       'es_transportation'   26.89    0.0  \n",
              "3       'es_transportation'   17.25    0.0  \n",
              "4       'es_transportation'   35.72    0.0  \n",
              "...                     ...     ...    ...  \n",
              "179475  'es_transportation'   26.54    0.0  \n",
              "179476  'es_transportation'    7.80    0.0  \n",
              "179477            'es_food'   21.21    0.0  \n",
              "179478  'es_transportation'    1.97    0.0  \n",
              "179479                  NaN     NaN    NaN  \n",
              "\n",
              "[179480 rows x 10 columns]"
            ],
            "text/html": [
              "\n",
              "  <div id=\"df-0641a2f8-a9fc-491f-8ad3-5ff83aa38faf\">\n",
              "    <div class=\"colab-df-container\">\n",
              "      <div>\n",
              "<style scoped>\n",
              "    .dataframe tbody tr th:only-of-type {\n",
              "        vertical-align: middle;\n",
              "    }\n",
              "\n",
              "    .dataframe tbody tr th {\n",
              "        vertical-align: top;\n",
              "    }\n",
              "\n",
              "    .dataframe thead th {\n",
              "        text-align: right;\n",
              "    }\n",
              "</style>\n",
              "<table border=\"1\" class=\"dataframe\">\n",
              "  <thead>\n",
              "    <tr style=\"text-align: right;\">\n",
              "      <th></th>\n",
              "      <th>step</th>\n",
              "      <th>customer</th>\n",
              "      <th>age</th>\n",
              "      <th>gender</th>\n",
              "      <th>zipcodeOri</th>\n",
              "      <th>merchant</th>\n",
              "      <th>zipMerchant</th>\n",
              "      <th>category</th>\n",
              "      <th>amount</th>\n",
              "      <th>fraud</th>\n",
              "    </tr>\n",
              "  </thead>\n",
              "  <tbody>\n",
              "    <tr>\n",
              "      <th>0</th>\n",
              "      <td>0</td>\n",
              "      <td>'C1093826151'</td>\n",
              "      <td>'4'</td>\n",
              "      <td>'M'</td>\n",
              "      <td>'28007'</td>\n",
              "      <td>'M348934600'</td>\n",
              "      <td>'28007'</td>\n",
              "      <td>'es_transportation'</td>\n",
              "      <td>4.55</td>\n",
              "      <td>0.0</td>\n",
              "    </tr>\n",
              "    <tr>\n",
              "      <th>1</th>\n",
              "      <td>0</td>\n",
              "      <td>'C352968107'</td>\n",
              "      <td>'2'</td>\n",
              "      <td>'M'</td>\n",
              "      <td>'28007'</td>\n",
              "      <td>'M348934600'</td>\n",
              "      <td>'28007'</td>\n",
              "      <td>'es_transportation'</td>\n",
              "      <td>39.68</td>\n",
              "      <td>0.0</td>\n",
              "    </tr>\n",
              "    <tr>\n",
              "      <th>2</th>\n",
              "      <td>0</td>\n",
              "      <td>'C2054744914'</td>\n",
              "      <td>'4'</td>\n",
              "      <td>'F'</td>\n",
              "      <td>'28007'</td>\n",
              "      <td>'M1823072687'</td>\n",
              "      <td>'28007'</td>\n",
              "      <td>'es_transportation'</td>\n",
              "      <td>26.89</td>\n",
              "      <td>0.0</td>\n",
              "    </tr>\n",
              "    <tr>\n",
              "      <th>3</th>\n",
              "      <td>0</td>\n",
              "      <td>'C1760612790'</td>\n",
              "      <td>'3'</td>\n",
              "      <td>'M'</td>\n",
              "      <td>'28007'</td>\n",
              "      <td>'M348934600'</td>\n",
              "      <td>'28007'</td>\n",
              "      <td>'es_transportation'</td>\n",
              "      <td>17.25</td>\n",
              "      <td>0.0</td>\n",
              "    </tr>\n",
              "    <tr>\n",
              "      <th>4</th>\n",
              "      <td>0</td>\n",
              "      <td>'C757503768'</td>\n",
              "      <td>'5'</td>\n",
              "      <td>'M'</td>\n",
              "      <td>'28007'</td>\n",
              "      <td>'M348934600'</td>\n",
              "      <td>'28007'</td>\n",
              "      <td>'es_transportation'</td>\n",
              "      <td>35.72</td>\n",
              "      <td>0.0</td>\n",
              "    </tr>\n",
              "    <tr>\n",
              "      <th>...</th>\n",
              "      <td>...</td>\n",
              "      <td>...</td>\n",
              "      <td>...</td>\n",
              "      <td>...</td>\n",
              "      <td>...</td>\n",
              "      <td>...</td>\n",
              "      <td>...</td>\n",
              "      <td>...</td>\n",
              "      <td>...</td>\n",
              "      <td>...</td>\n",
              "    </tr>\n",
              "    <tr>\n",
              "      <th>179475</th>\n",
              "      <td>62</td>\n",
              "      <td>'C899813705'</td>\n",
              "      <td>'4'</td>\n",
              "      <td>'M'</td>\n",
              "      <td>'28007'</td>\n",
              "      <td>'M1823072687'</td>\n",
              "      <td>'28007'</td>\n",
              "      <td>'es_transportation'</td>\n",
              "      <td>26.54</td>\n",
              "      <td>0.0</td>\n",
              "    </tr>\n",
              "    <tr>\n",
              "      <th>179476</th>\n",
              "      <td>62</td>\n",
              "      <td>'C771874671'</td>\n",
              "      <td>'5'</td>\n",
              "      <td>'M'</td>\n",
              "      <td>'28007'</td>\n",
              "      <td>'M348934600'</td>\n",
              "      <td>'28007'</td>\n",
              "      <td>'es_transportation'</td>\n",
              "      <td>7.80</td>\n",
              "      <td>0.0</td>\n",
              "    </tr>\n",
              "    <tr>\n",
              "      <th>179477</th>\n",
              "      <td>62</td>\n",
              "      <td>'C1734585073'</td>\n",
              "      <td>'5'</td>\n",
              "      <td>'F'</td>\n",
              "      <td>'28007'</td>\n",
              "      <td>'M85975013'</td>\n",
              "      <td>'28007'</td>\n",
              "      <td>'es_food'</td>\n",
              "      <td>21.21</td>\n",
              "      <td>0.0</td>\n",
              "    </tr>\n",
              "    <tr>\n",
              "      <th>179478</th>\n",
              "      <td>62</td>\n",
              "      <td>'C1373973501'</td>\n",
              "      <td>'4'</td>\n",
              "      <td>'F'</td>\n",
              "      <td>'28007'</td>\n",
              "      <td>'M348934600'</td>\n",
              "      <td>'28007'</td>\n",
              "      <td>'es_transportation'</td>\n",
              "      <td>1.97</td>\n",
              "      <td>0.0</td>\n",
              "    </tr>\n",
              "    <tr>\n",
              "      <th>179479</th>\n",
              "      <td>62</td>\n",
              "      <td>'C1509718305'</td>\n",
              "      <td>'1'</td>\n",
              "      <td>'M'</td>\n",
              "      <td>'28007'</td>\n",
              "      <td>'M1823072687'</td>\n",
              "      <td>'280</td>\n",
              "      <td>NaN</td>\n",
              "      <td>NaN</td>\n",
              "      <td>NaN</td>\n",
              "    </tr>\n",
              "  </tbody>\n",
              "</table>\n",
              "<p>179480 rows × 10 columns</p>\n",
              "</div>\n",
              "      <button class=\"colab-df-convert\" onclick=\"convertToInteractive('df-0641a2f8-a9fc-491f-8ad3-5ff83aa38faf')\"\n",
              "              title=\"Convert this dataframe to an interactive table.\"\n",
              "              style=\"display:none;\">\n",
              "        \n",
              "  <svg xmlns=\"http://www.w3.org/2000/svg\" height=\"24px\"viewBox=\"0 0 24 24\"\n",
              "       width=\"24px\">\n",
              "    <path d=\"M0 0h24v24H0V0z\" fill=\"none\"/>\n",
              "    <path d=\"M18.56 5.44l.94 2.06.94-2.06 2.06-.94-2.06-.94-.94-2.06-.94 2.06-2.06.94zm-11 1L8.5 8.5l.94-2.06 2.06-.94-2.06-.94L8.5 2.5l-.94 2.06-2.06.94zm10 10l.94 2.06.94-2.06 2.06-.94-2.06-.94-.94-2.06-.94 2.06-2.06.94z\"/><path d=\"M17.41 7.96l-1.37-1.37c-.4-.4-.92-.59-1.43-.59-.52 0-1.04.2-1.43.59L10.3 9.45l-7.72 7.72c-.78.78-.78 2.05 0 2.83L4 21.41c.39.39.9.59 1.41.59.51 0 1.02-.2 1.41-.59l7.78-7.78 2.81-2.81c.8-.78.8-2.07 0-2.86zM5.41 20L4 18.59l7.72-7.72 1.47 1.35L5.41 20z\"/>\n",
              "  </svg>\n",
              "      </button>\n",
              "      \n",
              "  <style>\n",
              "    .colab-df-container {\n",
              "      display:flex;\n",
              "      flex-wrap:wrap;\n",
              "      gap: 12px;\n",
              "    }\n",
              "\n",
              "    .colab-df-convert {\n",
              "      background-color: #E8F0FE;\n",
              "      border: none;\n",
              "      border-radius: 50%;\n",
              "      cursor: pointer;\n",
              "      display: none;\n",
              "      fill: #1967D2;\n",
              "      height: 32px;\n",
              "      padding: 0 0 0 0;\n",
              "      width: 32px;\n",
              "    }\n",
              "\n",
              "    .colab-df-convert:hover {\n",
              "      background-color: #E2EBFA;\n",
              "      box-shadow: 0px 1px 2px rgba(60, 64, 67, 0.3), 0px 1px 3px 1px rgba(60, 64, 67, 0.15);\n",
              "      fill: #174EA6;\n",
              "    }\n",
              "\n",
              "    [theme=dark] .colab-df-convert {\n",
              "      background-color: #3B4455;\n",
              "      fill: #D2E3FC;\n",
              "    }\n",
              "\n",
              "    [theme=dark] .colab-df-convert:hover {\n",
              "      background-color: #434B5C;\n",
              "      box-shadow: 0px 1px 3px 1px rgba(0, 0, 0, 0.15);\n",
              "      filter: drop-shadow(0px 1px 2px rgba(0, 0, 0, 0.3));\n",
              "      fill: #FFFFFF;\n",
              "    }\n",
              "  </style>\n",
              "\n",
              "      <script>\n",
              "        const buttonEl =\n",
              "          document.querySelector('#df-0641a2f8-a9fc-491f-8ad3-5ff83aa38faf button.colab-df-convert');\n",
              "        buttonEl.style.display =\n",
              "          google.colab.kernel.accessAllowed ? 'block' : 'none';\n",
              "\n",
              "        async function convertToInteractive(key) {\n",
              "          const element = document.querySelector('#df-0641a2f8-a9fc-491f-8ad3-5ff83aa38faf');\n",
              "          const dataTable =\n",
              "            await google.colab.kernel.invokeFunction('convertToInteractive',\n",
              "                                                     [key], {});\n",
              "          if (!dataTable) return;\n",
              "\n",
              "          const docLinkHtml = 'Like what you see? Visit the ' +\n",
              "            '<a target=\"_blank\" href=https://colab.research.google.com/notebooks/data_table.ipynb>data table notebook</a>'\n",
              "            + ' to learn more about interactive tables.';\n",
              "          element.innerHTML = '';\n",
              "          dataTable['output_type'] = 'display_data';\n",
              "          await google.colab.output.renderOutput(dataTable, element);\n",
              "          const docLink = document.createElement('div');\n",
              "          docLink.innerHTML = docLinkHtml;\n",
              "          element.appendChild(docLink);\n",
              "        }\n",
              "      </script>\n",
              "    </div>\n",
              "  </div>\n",
              "  "
            ]
          },
          "metadata": {},
          "execution_count": 3
        }
      ]
    },
    {
      "cell_type": "code",
      "source": [
        "df.info()"
      ],
      "metadata": {
        "colab": {
          "base_uri": "https://localhost:8080/"
        },
        "id": "7xXuF5m-QmtT",
        "outputId": "cd1c23ab-d1b3-4f91-cd7a-762e350f0e63"
      },
      "execution_count": 5,
      "outputs": [
        {
          "output_type": "stream",
          "name": "stdout",
          "text": [
            "<class 'pandas.core.frame.DataFrame'>\n",
            "RangeIndex: 179480 entries, 0 to 179479\n",
            "Data columns (total 10 columns):\n",
            " #   Column       Non-Null Count   Dtype  \n",
            "---  ------       --------------   -----  \n",
            " 0   step         179480 non-null  int64  \n",
            " 1   customer     179480 non-null  object \n",
            " 2   age          179480 non-null  object \n",
            " 3   gender       179480 non-null  object \n",
            " 4   zipcodeOri   179480 non-null  object \n",
            " 5   merchant     179480 non-null  object \n",
            " 6   zipMerchant  179480 non-null  object \n",
            " 7   category     179479 non-null  object \n",
            " 8   amount       179479 non-null  float64\n",
            " 9   fraud        179479 non-null  float64\n",
            "dtypes: float64(2), int64(1), object(7)\n",
            "memory usage: 13.7+ MB\n"
          ]
        }
      ]
    },
    {
      "cell_type": "code",
      "source": [
        "df.drop_duplicates(inplace=True)"
      ],
      "metadata": {
        "id": "cw12vJPPQ2E4"
      },
      "execution_count": 6,
      "outputs": []
    },
    {
      "cell_type": "code",
      "source": [
        "df.dropna(inplace=True)"
      ],
      "metadata": {
        "id": "qZrlkcL0RHLF"
      },
      "execution_count": 7,
      "outputs": []
    },
    {
      "cell_type": "code",
      "source": [
        "df.info()"
      ],
      "metadata": {
        "colab": {
          "base_uri": "https://localhost:8080/"
        },
        "id": "2dMHT49xRPlC",
        "outputId": "21b72559-c0e7-4715-871f-be40eb338ef6"
      },
      "execution_count": 8,
      "outputs": [
        {
          "output_type": "stream",
          "name": "stdout",
          "text": [
            "<class 'pandas.core.frame.DataFrame'>\n",
            "Int64Index: 179479 entries, 0 to 179478\n",
            "Data columns (total 10 columns):\n",
            " #   Column       Non-Null Count   Dtype  \n",
            "---  ------       --------------   -----  \n",
            " 0   step         179479 non-null  int64  \n",
            " 1   customer     179479 non-null  object \n",
            " 2   age          179479 non-null  object \n",
            " 3   gender       179479 non-null  object \n",
            " 4   zipcodeOri   179479 non-null  object \n",
            " 5   merchant     179479 non-null  object \n",
            " 6   zipMerchant  179479 non-null  object \n",
            " 7   category     179479 non-null  object \n",
            " 8   amount       179479 non-null  float64\n",
            " 9   fraud        179479 non-null  float64\n",
            "dtypes: float64(2), int64(1), object(7)\n",
            "memory usage: 15.1+ MB\n"
          ]
        }
      ]
    },
    {
      "cell_type": "code",
      "source": [
        "df.describe()"
      ],
      "metadata": {
        "colab": {
          "base_uri": "https://localhost:8080/",
          "height": 300
        },
        "id": "PQPRyzsRRUut",
        "outputId": "d172c6c6-2f0d-471b-dca7-e58b5e7a560b"
      },
      "execution_count": 9,
      "outputs": [
        {
          "output_type": "execute_result",
          "data": {
            "text/plain": [
              "                step         amount          fraud\n",
              "count  179479.000000  179479.000000  179479.000000\n",
              "mean       32.036383      39.231981       0.013896\n",
              "std        17.864795     126.162911       0.117059\n",
              "min         0.000000       0.000000       0.000000\n",
              "25%        17.000000      13.730000       0.000000\n",
              "50%        33.000000      26.940000       0.000000\n",
              "75%        48.000000      42.725000       0.000000\n",
              "max        62.000000    7665.560000       1.000000"
            ],
            "text/html": [
              "\n",
              "  <div id=\"df-8e277ddf-3ae3-429f-8a5e-4491ea8c3127\">\n",
              "    <div class=\"colab-df-container\">\n",
              "      <div>\n",
              "<style scoped>\n",
              "    .dataframe tbody tr th:only-of-type {\n",
              "        vertical-align: middle;\n",
              "    }\n",
              "\n",
              "    .dataframe tbody tr th {\n",
              "        vertical-align: top;\n",
              "    }\n",
              "\n",
              "    .dataframe thead th {\n",
              "        text-align: right;\n",
              "    }\n",
              "</style>\n",
              "<table border=\"1\" class=\"dataframe\">\n",
              "  <thead>\n",
              "    <tr style=\"text-align: right;\">\n",
              "      <th></th>\n",
              "      <th>step</th>\n",
              "      <th>amount</th>\n",
              "      <th>fraud</th>\n",
              "    </tr>\n",
              "  </thead>\n",
              "  <tbody>\n",
              "    <tr>\n",
              "      <th>count</th>\n",
              "      <td>179479.000000</td>\n",
              "      <td>179479.000000</td>\n",
              "      <td>179479.000000</td>\n",
              "    </tr>\n",
              "    <tr>\n",
              "      <th>mean</th>\n",
              "      <td>32.036383</td>\n",
              "      <td>39.231981</td>\n",
              "      <td>0.013896</td>\n",
              "    </tr>\n",
              "    <tr>\n",
              "      <th>std</th>\n",
              "      <td>17.864795</td>\n",
              "      <td>126.162911</td>\n",
              "      <td>0.117059</td>\n",
              "    </tr>\n",
              "    <tr>\n",
              "      <th>min</th>\n",
              "      <td>0.000000</td>\n",
              "      <td>0.000000</td>\n",
              "      <td>0.000000</td>\n",
              "    </tr>\n",
              "    <tr>\n",
              "      <th>25%</th>\n",
              "      <td>17.000000</td>\n",
              "      <td>13.730000</td>\n",
              "      <td>0.000000</td>\n",
              "    </tr>\n",
              "    <tr>\n",
              "      <th>50%</th>\n",
              "      <td>33.000000</td>\n",
              "      <td>26.940000</td>\n",
              "      <td>0.000000</td>\n",
              "    </tr>\n",
              "    <tr>\n",
              "      <th>75%</th>\n",
              "      <td>48.000000</td>\n",
              "      <td>42.725000</td>\n",
              "      <td>0.000000</td>\n",
              "    </tr>\n",
              "    <tr>\n",
              "      <th>max</th>\n",
              "      <td>62.000000</td>\n",
              "      <td>7665.560000</td>\n",
              "      <td>1.000000</td>\n",
              "    </tr>\n",
              "  </tbody>\n",
              "</table>\n",
              "</div>\n",
              "      <button class=\"colab-df-convert\" onclick=\"convertToInteractive('df-8e277ddf-3ae3-429f-8a5e-4491ea8c3127')\"\n",
              "              title=\"Convert this dataframe to an interactive table.\"\n",
              "              style=\"display:none;\">\n",
              "        \n",
              "  <svg xmlns=\"http://www.w3.org/2000/svg\" height=\"24px\"viewBox=\"0 0 24 24\"\n",
              "       width=\"24px\">\n",
              "    <path d=\"M0 0h24v24H0V0z\" fill=\"none\"/>\n",
              "    <path d=\"M18.56 5.44l.94 2.06.94-2.06 2.06-.94-2.06-.94-.94-2.06-.94 2.06-2.06.94zm-11 1L8.5 8.5l.94-2.06 2.06-.94-2.06-.94L8.5 2.5l-.94 2.06-2.06.94zm10 10l.94 2.06.94-2.06 2.06-.94-2.06-.94-.94-2.06-.94 2.06-2.06.94z\"/><path d=\"M17.41 7.96l-1.37-1.37c-.4-.4-.92-.59-1.43-.59-.52 0-1.04.2-1.43.59L10.3 9.45l-7.72 7.72c-.78.78-.78 2.05 0 2.83L4 21.41c.39.39.9.59 1.41.59.51 0 1.02-.2 1.41-.59l7.78-7.78 2.81-2.81c.8-.78.8-2.07 0-2.86zM5.41 20L4 18.59l7.72-7.72 1.47 1.35L5.41 20z\"/>\n",
              "  </svg>\n",
              "      </button>\n",
              "      \n",
              "  <style>\n",
              "    .colab-df-container {\n",
              "      display:flex;\n",
              "      flex-wrap:wrap;\n",
              "      gap: 12px;\n",
              "    }\n",
              "\n",
              "    .colab-df-convert {\n",
              "      background-color: #E8F0FE;\n",
              "      border: none;\n",
              "      border-radius: 50%;\n",
              "      cursor: pointer;\n",
              "      display: none;\n",
              "      fill: #1967D2;\n",
              "      height: 32px;\n",
              "      padding: 0 0 0 0;\n",
              "      width: 32px;\n",
              "    }\n",
              "\n",
              "    .colab-df-convert:hover {\n",
              "      background-color: #E2EBFA;\n",
              "      box-shadow: 0px 1px 2px rgba(60, 64, 67, 0.3), 0px 1px 3px 1px rgba(60, 64, 67, 0.15);\n",
              "      fill: #174EA6;\n",
              "    }\n",
              "\n",
              "    [theme=dark] .colab-df-convert {\n",
              "      background-color: #3B4455;\n",
              "      fill: #D2E3FC;\n",
              "    }\n",
              "\n",
              "    [theme=dark] .colab-df-convert:hover {\n",
              "      background-color: #434B5C;\n",
              "      box-shadow: 0px 1px 3px 1px rgba(0, 0, 0, 0.15);\n",
              "      filter: drop-shadow(0px 1px 2px rgba(0, 0, 0, 0.3));\n",
              "      fill: #FFFFFF;\n",
              "    }\n",
              "  </style>\n",
              "\n",
              "      <script>\n",
              "        const buttonEl =\n",
              "          document.querySelector('#df-8e277ddf-3ae3-429f-8a5e-4491ea8c3127 button.colab-df-convert');\n",
              "        buttonEl.style.display =\n",
              "          google.colab.kernel.accessAllowed ? 'block' : 'none';\n",
              "\n",
              "        async function convertToInteractive(key) {\n",
              "          const element = document.querySelector('#df-8e277ddf-3ae3-429f-8a5e-4491ea8c3127');\n",
              "          const dataTable =\n",
              "            await google.colab.kernel.invokeFunction('convertToInteractive',\n",
              "                                                     [key], {});\n",
              "          if (!dataTable) return;\n",
              "\n",
              "          const docLinkHtml = 'Like what you see? Visit the ' +\n",
              "            '<a target=\"_blank\" href=https://colab.research.google.com/notebooks/data_table.ipynb>data table notebook</a>'\n",
              "            + ' to learn more about interactive tables.';\n",
              "          element.innerHTML = '';\n",
              "          dataTable['output_type'] = 'display_data';\n",
              "          await google.colab.output.renderOutput(dataTable, element);\n",
              "          const docLink = document.createElement('div');\n",
              "          docLink.innerHTML = docLinkHtml;\n",
              "          element.appendChild(docLink);\n",
              "        }\n",
              "      </script>\n",
              "    </div>\n",
              "  </div>\n",
              "  "
            ]
          },
          "metadata": {},
          "execution_count": 9
        }
      ]
    },
    {
      "cell_type": "code",
      "source": [
        "# One Unique Value\n",
        "df['zipcodeOri'].unique()\n",
        "df.drop(columns=['zipcodeOri'], inplace=True)"
      ],
      "metadata": {
        "id": "kKzFMnh0R_si"
      },
      "execution_count": 13,
      "outputs": []
    },
    {
      "cell_type": "code",
      "source": [
        "# Same Process\n",
        "df['zipMerchant'].unique()\n",
        "df.drop(columns=['zipMerchant'], inplace=True)"
      ],
      "metadata": {
        "id": "qmG5k4_bSe1r"
      },
      "execution_count": 15,
      "outputs": []
    },
    {
      "cell_type": "code",
      "source": [
        "# Irrelevant for our prob\n",
        "df.drop(columns=['merchant', 'customer'], inplace=True)"
      ],
      "metadata": {
        "id": "_Eu90Se3SmS9"
      },
      "execution_count": 18,
      "outputs": []
    },
    {
      "cell_type": "code",
      "source": [
        "df['age'].unique()\n",
        "\n",
        "# Converting U = Unknown Age to 7\n",
        "ageColumns = df['age'].str.replace('U', '7')"
      ],
      "metadata": {
        "id": "V8-e8G9fUlxx"
      },
      "execution_count": 37,
      "outputs": []
    },
    {
      "cell_type": "code",
      "source": [
        "ageColumns = ageColumns.str.replace(\"'\", '')\n",
        "ageColumns = ageColumns.astype(int)"
      ],
      "metadata": {
        "id": "6P6mawyRU4zM"
      },
      "execution_count": 39,
      "outputs": []
    },
    {
      "cell_type": "code",
      "source": [
        "ageColumns"
      ],
      "metadata": {
        "colab": {
          "base_uri": "https://localhost:8080/"
        },
        "id": "QKHNywFNVPht",
        "outputId": "6e40534a-98fb-4038-9c80-bc3785305516"
      },
      "execution_count": 40,
      "outputs": [
        {
          "output_type": "execute_result",
          "data": {
            "text/plain": [
              "0         4\n",
              "1         2\n",
              "2         4\n",
              "3         3\n",
              "4         5\n",
              "         ..\n",
              "179474    3\n",
              "179475    4\n",
              "179476    5\n",
              "179477    5\n",
              "179478    4\n",
              "Name: age, Length: 179479, dtype: int64"
            ]
          },
          "metadata": {},
          "execution_count": 40
        }
      ]
    },
    {
      "cell_type": "code",
      "source": [
        "df['age'] = ageColumns"
      ],
      "metadata": {
        "id": "fBxG3G7hVaCd"
      },
      "execution_count": 41,
      "outputs": []
    },
    {
      "cell_type": "code",
      "source": [
        "# Completed Type Convertion\n",
        "df.info()"
      ],
      "metadata": {
        "colab": {
          "base_uri": "https://localhost:8080/"
        },
        "id": "Eldv3xRfVcnS",
        "outputId": "f9e2023e-488c-4047-dd19-54fc2cb1422f"
      },
      "execution_count": 43,
      "outputs": [
        {
          "output_type": "stream",
          "name": "stdout",
          "text": [
            "<class 'pandas.core.frame.DataFrame'>\n",
            "Int64Index: 179479 entries, 0 to 179478\n",
            "Data columns (total 6 columns):\n",
            " #   Column    Non-Null Count   Dtype  \n",
            "---  ------    --------------   -----  \n",
            " 0   step      179479 non-null  int64  \n",
            " 1   age       179479 non-null  int64  \n",
            " 2   gender    179479 non-null  object \n",
            " 3   category  179479 non-null  object \n",
            " 4   amount    179479 non-null  float64\n",
            " 5   fraud     179479 non-null  float64\n",
            "dtypes: float64(2), int64(2), object(2)\n",
            "memory usage: 9.6+ MB\n"
          ]
        }
      ]
    },
    {
      "cell_type": "code",
      "source": [
        "df['gender'].unique()"
      ],
      "metadata": {
        "colab": {
          "base_uri": "https://localhost:8080/"
        },
        "id": "Dn6nH6gTVuiu",
        "outputId": "7a00b417-eb48-49fc-e743-dd34af2ab8e3"
      },
      "execution_count": 44,
      "outputs": [
        {
          "output_type": "execute_result",
          "data": {
            "text/plain": [
              "array([\"'M'\", \"'F'\", \"'E'\", \"'U'\"], dtype=object)"
            ]
          },
          "metadata": {},
          "execution_count": 44
        }
      ]
    },
    {
      "cell_type": "code",
      "source": [
        "# Enconding Gender Label\n",
        "le = LabelEncoder()\n",
        "df[\"gender\"] = le.fit_transform( df[\"gender\"] )"
      ],
      "metadata": {
        "id": "vh3P0WrcWSSr"
      },
      "execution_count": 46,
      "outputs": []
    },
    {
      "cell_type": "code",
      "source": [
        "df['gender'].unique()\n",
        "\n",
        "# 0 > Enterprise\n",
        "# 1 > Fem\n",
        "# 2 > Masc\n",
        "# 3 > Unk"
      ],
      "metadata": {
        "colab": {
          "base_uri": "https://localhost:8080/"
        },
        "id": "InBWTOH6WZjr",
        "outputId": "86ce5af9-477b-4ea1-e871-74fd117db460"
      },
      "execution_count": 49,
      "outputs": [
        {
          "output_type": "execute_result",
          "data": {
            "text/plain": [
              "array([2, 1, 0, 3])"
            ]
          },
          "metadata": {},
          "execution_count": 49
        }
      ]
    },
    {
      "cell_type": "code",
      "source": [
        "df['category'].unique()"
      ],
      "metadata": {
        "colab": {
          "base_uri": "https://localhost:8080/"
        },
        "id": "luPGkynyWxEu",
        "outputId": "cab42cd9-d35e-4399-fd3e-ddff7f8e9ebd"
      },
      "execution_count": 50,
      "outputs": [
        {
          "output_type": "execute_result",
          "data": {
            "text/plain": [
              "array([\"'es_transportation'\", \"'es_health'\", \"'es_otherservices'\",\n",
              "       \"'es_food'\", \"'es_hotelservices'\", \"'es_barsandrestaurants'\",\n",
              "       \"'es_tech'\", \"'es_sportsandtoys'\", \"'es_wellnessandbeauty'\",\n",
              "       \"'es_hyper'\", \"'es_fashion'\", \"'es_home'\", \"'es_contents'\",\n",
              "       \"'es_travel'\", \"'es_leisure'\"], dtype=object)"
            ]
          },
          "metadata": {},
          "execution_count": 50
        }
      ]
    },
    {
      "cell_type": "code",
      "source": [
        "df[\"category\"] = le.fit_transform( df[\"category\"] )"
      ],
      "metadata": {
        "id": "DMrcTX-XXB3L"
      },
      "execution_count": 51,
      "outputs": []
    },
    {
      "cell_type": "code",
      "source": [
        "df['category'].unique()\n",
        "\n",
        "# 0 > Bars And Restaurants\n",
        "# 1 > Contents\n",
        "# 2 > Fashion\n",
        "# 3 > Food\n",
        "# 4 > Health\n",
        "# 5 > Home\n",
        "# 6 > Hotel Services\n",
        "# 7 > Hyper\n",
        "# 8 > Leisure\n",
        "# 9 > Other Services\n",
        "# 10 > Sports and Toys\n",
        "# 11 > Tech\n",
        "# 12 > Transportation\n",
        "# 13 > Travel\n",
        "# 14 > Wellness and Beauty"
      ],
      "metadata": {
        "colab": {
          "base_uri": "https://localhost:8080/"
        },
        "id": "aXKoFCI7XIN_",
        "outputId": "65dd891f-d699-4989-c1ce-560ee482be6c"
      },
      "execution_count": 53,
      "outputs": [
        {
          "output_type": "execute_result",
          "data": {
            "text/plain": [
              "array([12,  4,  9,  3,  6,  0, 11, 10, 14,  7,  2,  5,  1, 13,  8])"
            ]
          },
          "metadata": {},
          "execution_count": 53
        }
      ]
    },
    {
      "cell_type": "code",
      "source": [
        "df"
      ],
      "metadata": {
        "colab": {
          "base_uri": "https://localhost:8080/",
          "height": 424
        },
        "id": "RnulOPLAZaSo",
        "outputId": "3b455d78-7ed9-48e1-d0e9-026f46cf6876"
      },
      "execution_count": 56,
      "outputs": [
        {
          "output_type": "execute_result",
          "data": {
            "text/plain": [
              "        step  age  gender  category  amount  fraud\n",
              "0          0    4       2        12    4.55    0.0\n",
              "1          0    2       2        12   39.68    0.0\n",
              "2          0    4       1        12   26.89    0.0\n",
              "3          0    3       2        12   17.25    0.0\n",
              "4          0    5       2        12   35.72    0.0\n",
              "...      ...  ...     ...       ...     ...    ...\n",
              "179474    62    3       1        12    2.71    0.0\n",
              "179475    62    4       2        12   26.54    0.0\n",
              "179476    62    5       2        12    7.80    0.0\n",
              "179477    62    5       1         3   21.21    0.0\n",
              "179478    62    4       1        12    1.97    0.0\n",
              "\n",
              "[179479 rows x 6 columns]"
            ],
            "text/html": [
              "\n",
              "  <div id=\"df-754c61f9-19ff-4578-9f05-4448d8f0202c\">\n",
              "    <div class=\"colab-df-container\">\n",
              "      <div>\n",
              "<style scoped>\n",
              "    .dataframe tbody tr th:only-of-type {\n",
              "        vertical-align: middle;\n",
              "    }\n",
              "\n",
              "    .dataframe tbody tr th {\n",
              "        vertical-align: top;\n",
              "    }\n",
              "\n",
              "    .dataframe thead th {\n",
              "        text-align: right;\n",
              "    }\n",
              "</style>\n",
              "<table border=\"1\" class=\"dataframe\">\n",
              "  <thead>\n",
              "    <tr style=\"text-align: right;\">\n",
              "      <th></th>\n",
              "      <th>step</th>\n",
              "      <th>age</th>\n",
              "      <th>gender</th>\n",
              "      <th>category</th>\n",
              "      <th>amount</th>\n",
              "      <th>fraud</th>\n",
              "    </tr>\n",
              "  </thead>\n",
              "  <tbody>\n",
              "    <tr>\n",
              "      <th>0</th>\n",
              "      <td>0</td>\n",
              "      <td>4</td>\n",
              "      <td>2</td>\n",
              "      <td>12</td>\n",
              "      <td>4.55</td>\n",
              "      <td>0.0</td>\n",
              "    </tr>\n",
              "    <tr>\n",
              "      <th>1</th>\n",
              "      <td>0</td>\n",
              "      <td>2</td>\n",
              "      <td>2</td>\n",
              "      <td>12</td>\n",
              "      <td>39.68</td>\n",
              "      <td>0.0</td>\n",
              "    </tr>\n",
              "    <tr>\n",
              "      <th>2</th>\n",
              "      <td>0</td>\n",
              "      <td>4</td>\n",
              "      <td>1</td>\n",
              "      <td>12</td>\n",
              "      <td>26.89</td>\n",
              "      <td>0.0</td>\n",
              "    </tr>\n",
              "    <tr>\n",
              "      <th>3</th>\n",
              "      <td>0</td>\n",
              "      <td>3</td>\n",
              "      <td>2</td>\n",
              "      <td>12</td>\n",
              "      <td>17.25</td>\n",
              "      <td>0.0</td>\n",
              "    </tr>\n",
              "    <tr>\n",
              "      <th>4</th>\n",
              "      <td>0</td>\n",
              "      <td>5</td>\n",
              "      <td>2</td>\n",
              "      <td>12</td>\n",
              "      <td>35.72</td>\n",
              "      <td>0.0</td>\n",
              "    </tr>\n",
              "    <tr>\n",
              "      <th>...</th>\n",
              "      <td>...</td>\n",
              "      <td>...</td>\n",
              "      <td>...</td>\n",
              "      <td>...</td>\n",
              "      <td>...</td>\n",
              "      <td>...</td>\n",
              "    </tr>\n",
              "    <tr>\n",
              "      <th>179474</th>\n",
              "      <td>62</td>\n",
              "      <td>3</td>\n",
              "      <td>1</td>\n",
              "      <td>12</td>\n",
              "      <td>2.71</td>\n",
              "      <td>0.0</td>\n",
              "    </tr>\n",
              "    <tr>\n",
              "      <th>179475</th>\n",
              "      <td>62</td>\n",
              "      <td>4</td>\n",
              "      <td>2</td>\n",
              "      <td>12</td>\n",
              "      <td>26.54</td>\n",
              "      <td>0.0</td>\n",
              "    </tr>\n",
              "    <tr>\n",
              "      <th>179476</th>\n",
              "      <td>62</td>\n",
              "      <td>5</td>\n",
              "      <td>2</td>\n",
              "      <td>12</td>\n",
              "      <td>7.80</td>\n",
              "      <td>0.0</td>\n",
              "    </tr>\n",
              "    <tr>\n",
              "      <th>179477</th>\n",
              "      <td>62</td>\n",
              "      <td>5</td>\n",
              "      <td>1</td>\n",
              "      <td>3</td>\n",
              "      <td>21.21</td>\n",
              "      <td>0.0</td>\n",
              "    </tr>\n",
              "    <tr>\n",
              "      <th>179478</th>\n",
              "      <td>62</td>\n",
              "      <td>4</td>\n",
              "      <td>1</td>\n",
              "      <td>12</td>\n",
              "      <td>1.97</td>\n",
              "      <td>0.0</td>\n",
              "    </tr>\n",
              "  </tbody>\n",
              "</table>\n",
              "<p>179479 rows × 6 columns</p>\n",
              "</div>\n",
              "      <button class=\"colab-df-convert\" onclick=\"convertToInteractive('df-754c61f9-19ff-4578-9f05-4448d8f0202c')\"\n",
              "              title=\"Convert this dataframe to an interactive table.\"\n",
              "              style=\"display:none;\">\n",
              "        \n",
              "  <svg xmlns=\"http://www.w3.org/2000/svg\" height=\"24px\"viewBox=\"0 0 24 24\"\n",
              "       width=\"24px\">\n",
              "    <path d=\"M0 0h24v24H0V0z\" fill=\"none\"/>\n",
              "    <path d=\"M18.56 5.44l.94 2.06.94-2.06 2.06-.94-2.06-.94-.94-2.06-.94 2.06-2.06.94zm-11 1L8.5 8.5l.94-2.06 2.06-.94-2.06-.94L8.5 2.5l-.94 2.06-2.06.94zm10 10l.94 2.06.94-2.06 2.06-.94-2.06-.94-.94-2.06-.94 2.06-2.06.94z\"/><path d=\"M17.41 7.96l-1.37-1.37c-.4-.4-.92-.59-1.43-.59-.52 0-1.04.2-1.43.59L10.3 9.45l-7.72 7.72c-.78.78-.78 2.05 0 2.83L4 21.41c.39.39.9.59 1.41.59.51 0 1.02-.2 1.41-.59l7.78-7.78 2.81-2.81c.8-.78.8-2.07 0-2.86zM5.41 20L4 18.59l7.72-7.72 1.47 1.35L5.41 20z\"/>\n",
              "  </svg>\n",
              "      </button>\n",
              "      \n",
              "  <style>\n",
              "    .colab-df-container {\n",
              "      display:flex;\n",
              "      flex-wrap:wrap;\n",
              "      gap: 12px;\n",
              "    }\n",
              "\n",
              "    .colab-df-convert {\n",
              "      background-color: #E8F0FE;\n",
              "      border: none;\n",
              "      border-radius: 50%;\n",
              "      cursor: pointer;\n",
              "      display: none;\n",
              "      fill: #1967D2;\n",
              "      height: 32px;\n",
              "      padding: 0 0 0 0;\n",
              "      width: 32px;\n",
              "    }\n",
              "\n",
              "    .colab-df-convert:hover {\n",
              "      background-color: #E2EBFA;\n",
              "      box-shadow: 0px 1px 2px rgba(60, 64, 67, 0.3), 0px 1px 3px 1px rgba(60, 64, 67, 0.15);\n",
              "      fill: #174EA6;\n",
              "    }\n",
              "\n",
              "    [theme=dark] .colab-df-convert {\n",
              "      background-color: #3B4455;\n",
              "      fill: #D2E3FC;\n",
              "    }\n",
              "\n",
              "    [theme=dark] .colab-df-convert:hover {\n",
              "      background-color: #434B5C;\n",
              "      box-shadow: 0px 1px 3px 1px rgba(0, 0, 0, 0.15);\n",
              "      filter: drop-shadow(0px 1px 2px rgba(0, 0, 0, 0.3));\n",
              "      fill: #FFFFFF;\n",
              "    }\n",
              "  </style>\n",
              "\n",
              "      <script>\n",
              "        const buttonEl =\n",
              "          document.querySelector('#df-754c61f9-19ff-4578-9f05-4448d8f0202c button.colab-df-convert');\n",
              "        buttonEl.style.display =\n",
              "          google.colab.kernel.accessAllowed ? 'block' : 'none';\n",
              "\n",
              "        async function convertToInteractive(key) {\n",
              "          const element = document.querySelector('#df-754c61f9-19ff-4578-9f05-4448d8f0202c');\n",
              "          const dataTable =\n",
              "            await google.colab.kernel.invokeFunction('convertToInteractive',\n",
              "                                                     [key], {});\n",
              "          if (!dataTable) return;\n",
              "\n",
              "          const docLinkHtml = 'Like what you see? Visit the ' +\n",
              "            '<a target=\"_blank\" href=https://colab.research.google.com/notebooks/data_table.ipynb>data table notebook</a>'\n",
              "            + ' to learn more about interactive tables.';\n",
              "          element.innerHTML = '';\n",
              "          dataTable['output_type'] = 'display_data';\n",
              "          await google.colab.output.renderOutput(dataTable, element);\n",
              "          const docLink = document.createElement('div');\n",
              "          docLink.innerHTML = docLinkHtml;\n",
              "          element.appendChild(docLink);\n",
              "        }\n",
              "      </script>\n",
              "    </div>\n",
              "  </div>\n",
              "  "
            ]
          },
          "metadata": {},
          "execution_count": 56
        }
      ]
    },
    {
      "cell_type": "code",
      "source": [
        "X = df.drop(columns=['fraud'])\n",
        "Y = df['fraud']\n",
        "\n",
        "X_train, X_test, Y_train, Y_test = train_test_split(X, Y, test_size=0.2, random_state=77)"
      ],
      "metadata": {
        "id": "xV7BtnFlYV_Q"
      },
      "execution_count": 57,
      "outputs": []
    },
    {
      "cell_type": "code",
      "source": [
        "import matplotlib.pyplot as plt\n",
        "for i in df.columns:\n",
        "  df[i].plot.hist( legend=True )\n",
        "  plt.show()"
      ],
      "metadata": {
        "colab": {
          "base_uri": "https://localhost:8080/",
          "height": 1000
        },
        "id": "hJEC6s9rbk5i",
        "outputId": "71085d60-6f8b-42f0-a521-55d0fe603369"
      },
      "execution_count": 62,
      "outputs": [
        {
          "output_type": "display_data",
          "data": {
            "text/plain": [
              "<Figure size 432x288 with 1 Axes>"
            ],
            "image/png": "[encoded data removed]"
          },
          "metadata": {
            "needs_background": "light"
          }
        },
        {
          "output_type": "display_data",
          "data": {
            "text/plain": [
              "<Figure size 432x288 with 1 Axes>"
            ],
            "image/png": "[encoded data removed]"
          },
          "metadata": {
            "needs_background": "light"
          }
        },
        {
          "output_type": "display_data",
          "data": {
            "text/plain": [
              "<Figure size 432x288 with 1 Axes>"
            ],
            "image/png": "[encoded data removed]"
          },
          "metadata": {
            "needs_background": "light"
          }
        },
        {
          "output_type": "display_data",
          "data": {
            "text/plain": [
              "<Figure size 432x288 with 1 Axes>"
            ],
            "image/png": "[encoded data removed]"
          },
          "metadata": {
            "needs_background": "light"
          }
        },
        {
          "output_type": "display_data",
          "data": {
            "text/plain": [
              "<Figure size 432x288 with 1 Axes>"
            ],
            "image/png": "[encoded data removed]"
          },
          "metadata": {
            "needs_background": "light"
          }
        },
        {
          "output_type": "display_data",
          "data": {
            "text/plain": [
              "<Figure size 432x288 with 1 Axes>"
            ],
            "image/png": "[encoded data removed]"
          },
          "metadata": {
            "needs_background": "light"
          }
        }
      ]
    },
    {
      "cell_type": "code",
      "source": [
        "# Using MinMax Scaler\n",
        "norm = MinMaxScaler()\n",
        "X_train_norm = norm.fit_transform(X_train)\n",
        "X_test_norm = norm.transform(X_test)"
      ],
      "metadata": {
        "id": "TiQVNT4kb9g4"
      },
      "execution_count": 63,
      "outputs": []
    },
    {
      "cell_type": "code",
      "source": [
        "## Training And Evaluating Models\n",
        "\n",
        "## KNN\n",
        "## Forest\n",
        "## HGBOOST\n",
        "## XGBOOST\n",
        "\n",
        "from sklearn.neighbors import KNeighborsClassifier\n",
        "from sklearn.ensemble import RandomForestClassifier\n",
        "from sklearn.ensemble import HistGradientBoostingClassifier\n",
        "import xgboost as xgb\n",
        "from sklearn import metrics\n",
        "\n",
        "def knnTrainAndFit(X_train, X_test, y_train, y_test, k=0):\n",
        "\n",
        "  if k == 0:\n",
        "    k = int( (len(y_train) + len(y_test)) ** 0.5 )\n",
        "\n",
        "  knn = KNeighborsClassifier(n_neighbors=k)\n",
        "  knn.fit(X_train, y_train)\n",
        "\n",
        "  y_pred = knn.predict(X_test)\n",
        "  acc = metrics.accuracy_score(y_test, y_pred)\n",
        "  fone = metrics.f1_score(y_test, y_pred)\n",
        "\n",
        "  print(f\"K -> {k} = ACC: {acc:.4f}, F1: {fone:.4f}\")\n",
        "\n",
        "def forestTrainAndFit(X_train, X_test, y_train, y_test, estimators, depth, impurity):\n",
        "\n",
        "  forest = RandomForestClassifier(n_estimators=estimators, max_depth=depth, random_state=77, min_impurity_decrease=impurity)\n",
        "  forest.fit(X_train, y_train)\n",
        "\n",
        "  y_pred = forest.predict(X_test)\n",
        "  probs = forest.predict_proba(X_test)\n",
        "\n",
        "  auc = metrics.roc_auc_score(y_test, probs[:,1])\n",
        "  acc = metrics.accuracy_score(y_test, y_pred)\n",
        "  fone = metrics.f1_score(y_test, y_pred)\n",
        "\n",
        "  print(f\"Estim -> {estimators} = Depth: {depth}, Impurity: {impurity}, Acurácia: {acc:.4f}, F1 Score: {fone:.4f}, AUC: {auc:.4f}\")\n",
        "\n",
        "def hgboostTrainAndFit(X_train, X_test, y_train, y_test, depth):\n",
        "\n",
        "  hg = HistGradientBoostingClassifier(max_depth=depth, random_state=77)\n",
        "  hg.fit(X_train, y_train)\n",
        "\n",
        "  y_pred = hg.predict(X_test)\n",
        "  probs = hg.predict_proba(X_test)\n",
        "\n",
        "  auc = metrics.roc_auc_score(y_test, probs[:,1])\n",
        "  acc = metrics.accuracy_score(y_test, y_pred)\n",
        "  fone = metrics.f1_score(y_test, y_pred)\n",
        "\n",
        "  print(f\"Depth -> {depth}, Acurácia: {acc:.4f}, F1 Score: {fone:.4f}, AUC: {auc:.4f}\")\n",
        "\n",
        "def xgboostTrainAndFit(X_train, X_test, y_train, y_test, estimators, depth):\n",
        "\n",
        "  xg = xgb.XGBClassifier(n_estimators=estimators, max_depth=depth, booster='gbtree', learning_rate=0.01)\n",
        "  xg.fit(X_train, y_train, eval_set=[(X_train, y_train)])\n",
        "\n",
        "  y_pred = xg.predict(X_test)\n",
        "  probs = xg.predict_proba(X_test)\n",
        "\n",
        "  auc = metrics.roc_auc_score(y_test, probs[:,1])\n",
        "  acc = metrics.accuracy_score(y_test, y_pred)\n",
        "  fone = metrics.f1_score(y_test, y_pred)\n",
        "\n",
        "  print(f\"Estim -> {estimators} = Depth: {depth}, Acurácia: {acc:.4f}, F1 Score: {fone:.4f}, AUC: {auc:.4f}\")"
      ],
      "metadata": {
        "id": "gxkxthSoheRZ"
      },
      "execution_count": 99,
      "outputs": []
    },
    {
      "cell_type": "code",
      "source": [
        "## Tests With KNN\n",
        "\n",
        "knnTrainAndFit(X_train_norm, X_test_norm, Y_train, Y_test)\n",
        "knnTrainAndFit(X_train_norm, X_test_norm, Y_train, Y_test, 11)\n",
        "knnTrainAndFit(X_train_norm, X_test_norm, Y_train, Y_test, 12)\n",
        "knnTrainAndFit(X_train_norm, X_test_norm, Y_train, Y_test, 13)\n",
        "knnTrainAndFit(X_train_norm, X_test_norm, Y_train, Y_test, 14)\n",
        "knnTrainAndFit(X_train_norm, X_test_norm, Y_train, Y_test, 15)\n",
        "knnTrainAndFit(X_train_norm, X_test_norm, Y_train, Y_test, 16)\n",
        "knnTrainAndFit(X_train_norm, X_test_norm, Y_train, Y_test, 17)\n",
        "knnTrainAndFit(X_train_norm, X_test_norm, Y_train, Y_test, 18)\n",
        "knnTrainAndFit(X_train_norm, X_test_norm, Y_train, Y_test, 19)\n",
        "knnTrainAndFit(X_train_norm, X_test_norm, Y_train, Y_test, 20)"
      ],
      "metadata": {
        "id": "p2LxoKP7nY1L"
      },
      "execution_count": null,
      "outputs": []
    },
    {
      "cell_type": "code",
      "source": [
        "forestTrainAndFit(X_train_norm, X_test_norm, Y_train, Y_test, 1, 5, 0.0001)\n",
        "forestTrainAndFit(X_train_norm, X_test_norm, Y_train, Y_test, 5, 5, 0.0001)\n",
        "forestTrainAndFit(X_train_norm, X_test_norm, Y_train, Y_test, 10, 5, 0.0001)\n",
        "forestTrainAndFit(X_train_norm, X_test_norm, Y_train, Y_test, 11, 5, 0.0001)\n",
        "forestTrainAndFit(X_train_norm, X_test_norm, Y_train, Y_test, 12, 5, 0.0001)\n",
        "forestTrainAndFit(X_train_norm, X_test_norm, Y_train, Y_test, 13, 5, 0.0001)\n",
        "forestTrainAndFit(X_train_norm, X_test_norm, Y_train, Y_test, 14, 5, 0.0001)\n",
        "forestTrainAndFit(X_train_norm, X_test_norm, Y_train, Y_test, 15, 5, 0.0001)\n",
        "forestTrainAndFit(X_train_norm, X_test_norm, Y_train, Y_test, 16, 5, 0.0001)\n",
        "forestTrainAndFit(X_train_norm, X_test_norm, Y_train, Y_test, 17, 5, 0.0001)\n",
        "forestTrainAndFit(X_train_norm, X_test_norm, Y_train, Y_test, 18, 5, 0.0001)\n",
        "forestTrainAndFit(X_train_norm, X_test_norm, Y_train, Y_test, 19, 5, 0.0001)\n",
        "forestTrainAndFit(X_train_norm, X_test_norm, Y_train, Y_test, 20, 5, 0.0001)\n",
        "forestTrainAndFit(X_train_norm, X_test_norm, Y_train, Y_test, 22, 5, 0.0001)\n",
        "forestTrainAndFit(X_train_norm, X_test_norm, Y_train, Y_test, 24, 5, 0.0001)\n",
        "forestTrainAndFit(X_train_norm, X_test_norm, Y_train, Y_test, 26, 5, 0.0001)\n",
        "forestTrainAndFit(X_train_norm, X_test_norm, Y_train, Y_test, 28, 5, 0.0001)\n",
        "forestTrainAndFit(X_train_norm, X_test_norm, Y_train, Y_test, 30, 5, 0.0001)\n",
        "forestTrainAndFit(X_train_norm, X_test_norm, Y_train, Y_test, 35, 5, 0.0001)\n",
        "forestTrainAndFit(X_train_norm, X_test_norm, Y_train, Y_test, 40, 5, 0.0001)\n",
        "forestTrainAndFit(X_train_norm, X_test_norm, Y_train, Y_test, 45, 5, 0.0001)\n",
        "forestTrainAndFit(X_train_norm, X_test_norm, Y_train, Y_test, 50, 5, 0.0001)\n",
        "forestTrainAndFit(X_train_norm, X_test_norm, Y_train, Y_test, 60, 5, 0.0001)\n",
        "forestTrainAndFit(X_train_norm, X_test_norm, Y_train, Y_test, 70, 5, 0.0001)\n",
        "forestTrainAndFit(X_train_norm, X_test_norm, Y_train, Y_test, 80, 5, 0.0001)\n",
        "forestTrainAndFit(X_train_norm, X_test_norm, Y_train, Y_test, 90, 5, 0.0001)\n",
        "forestTrainAndFit(X_train_norm, X_test_norm, Y_train, Y_test, 100, 5, 0.0001)"
      ],
      "metadata": {
        "colab": {
          "base_uri": "https://localhost:8080/"
        },
        "id": "7g1OaTysp1c8",
        "outputId": "0af137c8-076e-408b-f4ad-76151fa2ac11"
      },
      "execution_count": 78,
      "outputs": [
        {
          "output_type": "stream",
          "name": "stdout",
          "text": [
            "Estim -> 1 = Depth: 5, Impurity: 0.0001, Acurácia: 0.9855, F1 Score: 0.0000, AUC: 0.5000\n",
            "Estim -> 5 = Depth: 5, Impurity: 0.0001, Acurácia: 0.9903, F1 Score: 0.5199, AUC: 0.9880\n",
            "Estim -> 10 = Depth: 5, Impurity: 0.0001, Acurácia: 0.9931, F1 Score: 0.7070, AUC: 0.9879\n",
            "Estim -> 11 = Depth: 5, Impurity: 0.0001, Acurácia: 0.9932, F1 Score: 0.7116, AUC: 0.9879\n",
            "Estim -> 12 = Depth: 5, Impurity: 0.0001, Acurácia: 0.9936, F1 Score: 0.7311, AUC: 0.9879\n",
            "Estim -> 13 = Depth: 5, Impurity: 0.0001, Acurácia: 0.9932, F1 Score: 0.7117, AUC: 0.9879\n",
            "Estim -> 14 = Depth: 5, Impurity: 0.0001, Acurácia: 0.9935, F1 Score: 0.7281, AUC: 0.9879\n",
            "Estim -> 15 = Depth: 5, Impurity: 0.0001, Acurácia: 0.9925, F1 Score: 0.6675, AUC: 0.9879\n",
            "Estim -> 16 = Depth: 5, Impurity: 0.0001, Acurácia: 0.9928, F1 Score: 0.6861, AUC: 0.9881\n",
            "Estim -> 17 = Depth: 5, Impurity: 0.0001, Acurácia: 0.9935, F1 Score: 0.7281, AUC: 0.9888\n",
            "Estim -> 18 = Depth: 5, Impurity: 0.0001, Acurácia: 0.9935, F1 Score: 0.7288, AUC: 0.9888\n",
            "Estim -> 19 = Depth: 5, Impurity: 0.0001, Acurácia: 0.9935, F1 Score: 0.7281, AUC: 0.9888\n",
            "Estim -> 20 = Depth: 5, Impurity: 0.0001, Acurácia: 0.9935, F1 Score: 0.7281, AUC: 0.9887\n",
            "Estim -> 22 = Depth: 5, Impurity: 0.0001, Acurácia: 0.9928, F1 Score: 0.6877, AUC: 0.9912\n",
            "Estim -> 24 = Depth: 5, Impurity: 0.0001, Acurácia: 0.9935, F1 Score: 0.7264, AUC: 0.9912\n",
            "Estim -> 26 = Depth: 5, Impurity: 0.0001, Acurácia: 0.9935, F1 Score: 0.7239, AUC: 0.9912\n",
            "Estim -> 28 = Depth: 5, Impurity: 0.0001, Acurácia: 0.9935, F1 Score: 0.7264, AUC: 0.9912\n",
            "Estim -> 30 = Depth: 5, Impurity: 0.0001, Acurácia: 0.9935, F1 Score: 0.7264, AUC: 0.9912\n",
            "Estim -> 35 = Depth: 5, Impurity: 0.0001, Acurácia: 0.9935, F1 Score: 0.7279, AUC: 0.9911\n",
            "Estim -> 40 = Depth: 5, Impurity: 0.0001, Acurácia: 0.9934, F1 Score: 0.7222, AUC: 0.9912\n",
            "Estim -> 45 = Depth: 5, Impurity: 0.0001, Acurácia: 0.9919, F1 Score: 0.6235, AUC: 0.9912\n",
            "Estim -> 50 = Depth: 5, Impurity: 0.0001, Acurácia: 0.9932, F1 Score: 0.7138, AUC: 0.9915\n",
            "Estim -> 60 = Depth: 5, Impurity: 0.0001, Acurácia: 0.9928, F1 Score: 0.6774, AUC: 0.9917\n",
            "Estim -> 70 = Depth: 5, Impurity: 0.0001, Acurácia: 0.9919, F1 Score: 0.6253, AUC: 0.9917\n",
            "Estim -> 80 = Depth: 5, Impurity: 0.0001, Acurácia: 0.9917, F1 Score: 0.6081, AUC: 0.9917\n",
            "Estim -> 90 = Depth: 5, Impurity: 0.0001, Acurácia: 0.9917, F1 Score: 0.6081, AUC: 0.9918\n",
            "Estim -> 100 = Depth: 5, Impurity: 0.0001, Acurácia: 0.9917, F1 Score: 0.6118, AUC: 0.9918\n"
          ]
        }
      ]
    },
    {
      "cell_type": "code",
      "source": [
        "forestTrainAndFit(X_train_norm, X_test_norm, Y_train, Y_test, 18, 1, 0.0001)\n",
        "forestTrainAndFit(X_train_norm, X_test_norm, Y_train, Y_test, 18, 2, 0.0001)\n",
        "forestTrainAndFit(X_train_norm, X_test_norm, Y_train, Y_test, 18, 3, 0.0001)\n",
        "forestTrainAndFit(X_train_norm, X_test_norm, Y_train, Y_test, 18, 4, 0.0001)\n",
        "forestTrainAndFit(X_train_norm, X_test_norm, Y_train, Y_test, 18, 5, 0.0001)\n",
        "forestTrainAndFit(X_train_norm, X_test_norm, Y_train, Y_test, 18, 6, 0.0001)\n",
        "forestTrainAndFit(X_train_norm, X_test_norm, Y_train, Y_test, 18, 7, 0.0001)\n",
        "forestTrainAndFit(X_train_norm, X_test_norm, Y_train, Y_test, 18, 8, 0.0001)\n",
        "forestTrainAndFit(X_train_norm, X_test_norm, Y_train, Y_test, 18, 9, 0.0001)\n",
        "forestTrainAndFit(X_train_norm, X_test_norm, Y_train, Y_test, 18, 10, 0.0001)\n",
        "forestTrainAndFit(X_train_norm, X_test_norm, Y_train, Y_test, 18, 11, 0.0001)\n",
        "forestTrainAndFit(X_train_norm, X_test_norm, Y_train, Y_test, 18, 12, 0.0001)\n",
        "forestTrainAndFit(X_train_norm, X_test_norm, Y_train, Y_test, 18, 13, 0.0001)\n",
        "forestTrainAndFit(X_train_norm, X_test_norm, Y_train, Y_test, 18, 14, 0.0001)\n",
        "forestTrainAndFit(X_train_norm, X_test_norm, Y_train, Y_test, 18, 15, 0.0001)\n",
        "forestTrainAndFit(X_train_norm, X_test_norm, Y_train, Y_test, 18, 20, 0.0001)\n",
        "forestTrainAndFit(X_train_norm, X_test_norm, Y_train, Y_test, 18, 25, 0.0001)\n",
        "forestTrainAndFit(X_train_norm, X_test_norm, Y_train, Y_test, 18, 30, 0.0001)\n",
        "forestTrainAndFit(X_train_norm, X_test_norm, Y_train, Y_test, 18, 35, 0.0001)\n",
        "forestTrainAndFit(X_train_norm, X_test_norm, Y_train, Y_test, 18, 40, 0.0001)\n",
        "forestTrainAndFit(X_train_norm, X_test_norm, Y_train, Y_test, 18, 45, 0.0001)\n",
        "forestTrainAndFit(X_train_norm, X_test_norm, Y_train, Y_test, 18, 50, 0.0001)"
      ],
      "metadata": {
        "colab": {
          "base_uri": "https://localhost:8080/"
        },
        "id": "XDTcIQ-7raiM",
        "outputId": "2f9b8f95-22c7-4930-eda4-2a3872a8f397"
      },
      "execution_count": 80,
      "outputs": [
        {
          "output_type": "stream",
          "name": "stdout",
          "text": [
            "Estim -> 18 = Depth: 1, Impurity: 0.0001, Acurácia: 0.9855, F1 Score: 0.0000, AUC: 0.9611\n",
            "Estim -> 18 = Depth: 2, Impurity: 0.0001, Acurácia: 0.9899, F1 Score: 0.4894, AUC: 0.9897\n",
            "Estim -> 18 = Depth: 3, Impurity: 0.0001, Acurácia: 0.9935, F1 Score: 0.7285, AUC: 0.9888\n",
            "Estim -> 18 = Depth: 4, Impurity: 0.0001, Acurácia: 0.9933, F1 Score: 0.7183, AUC: 0.9889\n",
            "Estim -> 18 = Depth: 5, Impurity: 0.0001, Acurácia: 0.9935, F1 Score: 0.7288, AUC: 0.9888\n",
            "Estim -> 18 = Depth: 6, Impurity: 0.0001, Acurácia: 0.9935, F1 Score: 0.7279, AUC: 0.9887\n",
            "Estim -> 18 = Depth: 7, Impurity: 0.0001, Acurácia: 0.9935, F1 Score: 0.7279, AUC: 0.9887\n",
            "Estim -> 18 = Depth: 8, Impurity: 0.0001, Acurácia: 0.9935, F1 Score: 0.7279, AUC: 0.9887\n",
            "Estim -> 18 = Depth: 9, Impurity: 0.0001, Acurácia: 0.9935, F1 Score: 0.7279, AUC: 0.9887\n",
            "Estim -> 18 = Depth: 10, Impurity: 0.0001, Acurácia: 0.9935, F1 Score: 0.7279, AUC: 0.9887\n",
            "Estim -> 18 = Depth: 11, Impurity: 0.0001, Acurácia: 0.9935, F1 Score: 0.7279, AUC: 0.9887\n",
            "Estim -> 18 = Depth: 12, Impurity: 0.0001, Acurácia: 0.9935, F1 Score: 0.7279, AUC: 0.9887\n",
            "Estim -> 18 = Depth: 13, Impurity: 0.0001, Acurácia: 0.9935, F1 Score: 0.7279, AUC: 0.9887\n",
            "Estim -> 18 = Depth: 14, Impurity: 0.0001, Acurácia: 0.9935, F1 Score: 0.7279, AUC: 0.9887\n",
            "Estim -> 18 = Depth: 15, Impurity: 0.0001, Acurácia: 0.9935, F1 Score: 0.7279, AUC: 0.9887\n",
            "Estim -> 18 = Depth: 20, Impurity: 0.0001, Acurácia: 0.9935, F1 Score: 0.7279, AUC: 0.9887\n",
            "Estim -> 18 = Depth: 25, Impurity: 0.0001, Acurácia: 0.9935, F1 Score: 0.7279, AUC: 0.9887\n",
            "Estim -> 18 = Depth: 30, Impurity: 0.0001, Acurácia: 0.9935, F1 Score: 0.7279, AUC: 0.9887\n",
            "Estim -> 18 = Depth: 35, Impurity: 0.0001, Acurácia: 0.9935, F1 Score: 0.7279, AUC: 0.9887\n",
            "Estim -> 18 = Depth: 40, Impurity: 0.0001, Acurácia: 0.9935, F1 Score: 0.7279, AUC: 0.9887\n",
            "Estim -> 18 = Depth: 45, Impurity: 0.0001, Acurácia: 0.9935, F1 Score: 0.7279, AUC: 0.9887\n",
            "Estim -> 18 = Depth: 50, Impurity: 0.0001, Acurácia: 0.9935, F1 Score: 0.7279, AUC: 0.9887\n"
          ]
        }
      ]
    },
    {
      "cell_type": "code",
      "source": [
        "forestTrainAndFit(X_train_norm, X_test_norm, Y_train, Y_test, 18, 5, 0.1)\n",
        "forestTrainAndFit(X_train_norm, X_test_norm, Y_train, Y_test, 18, 5, 0.01)\n",
        "forestTrainAndFit(X_train_norm, X_test_norm, Y_train, Y_test, 18, 5, 0.0001)\n",
        "forestTrainAndFit(X_train_norm, X_test_norm, Y_train, Y_test, 18, 5, 0.00001)\n",
        "forestTrainAndFit(X_train_norm, X_test_norm, Y_train, Y_test, 18, 5, 0.000001)\n",
        "forestTrainAndFit(X_train_norm, X_test_norm, Y_train, Y_test, 18, 5, 0.0000001)\n",
        "forestTrainAndFit(X_train_norm, X_test_norm, Y_train, Y_test, 18, 5, 0.0000002)\n",
        "forestTrainAndFit(X_train_norm, X_test_norm, Y_train, Y_test, 18, 5, 0.0000003)\n",
        "forestTrainAndFit(X_train_norm, X_test_norm, Y_train, Y_test, 18, 5, 0.0000004)\n",
        "forestTrainAndFit(X_train_norm, X_test_norm, Y_train, Y_test, 18, 5, 0.0000005)\n",
        "forestTrainAndFit(X_train_norm, X_test_norm, Y_train, Y_test, 18, 5, 0.0000006)\n",
        "forestTrainAndFit(X_train_norm, X_test_norm, Y_train, Y_test, 18, 5, 0.0000007)\n",
        "forestTrainAndFit(X_train_norm, X_test_norm, Y_train, Y_test, 18, 5, 0.0000008)\n",
        "forestTrainAndFit(X_train_norm, X_test_norm, Y_train, Y_test, 18, 5, 0.0000009)\n",
        "forestTrainAndFit(X_train_norm, X_test_norm, Y_train, Y_test, 18, 5, 0.00000001)\n",
        "forestTrainAndFit(X_train_norm, X_test_norm, Y_train, Y_test, 18, 5, 0.000000001)\n",
        "forestTrainAndFit(X_train_norm, X_test_norm, Y_train, Y_test, 18, 5, 0.0000000001)"
      ],
      "metadata": {
        "colab": {
          "base_uri": "https://localhost:8080/"
        },
        "id": "0K1jZIALsHme",
        "outputId": "33a0cec0-f51b-4021-de8c-671b5df3c1b1"
      },
      "execution_count": 83,
      "outputs": [
        {
          "output_type": "stream",
          "name": "stdout",
          "text": [
            "Estim -> 18 = Depth: 5, Impurity: 0.1, Acurácia: 0.9855, F1 Score: 0.0000, AUC: 0.5000\n",
            "Estim -> 18 = Depth: 5, Impurity: 0.01, Acurácia: 0.9855, F1 Score: 0.0000, AUC: 0.8306\n",
            "Estim -> 18 = Depth: 5, Impurity: 0.0001, Acurácia: 0.9935, F1 Score: 0.7288, AUC: 0.9888\n",
            "Estim -> 18 = Depth: 5, Impurity: 1e-05, Acurácia: 0.9936, F1 Score: 0.7342, AUC: 0.9926\n",
            "Estim -> 18 = Depth: 5, Impurity: 1e-06, Acurácia: 0.9936, F1 Score: 0.7372, AUC: 0.9926\n",
            "Estim -> 18 = Depth: 5, Impurity: 1e-07, Acurácia: 0.9936, F1 Score: 0.7397, AUC: 0.9926\n",
            "Estim -> 18 = Depth: 5, Impurity: 2e-07, Acurácia: 0.9936, F1 Score: 0.7395, AUC: 0.9926\n",
            "Estim -> 18 = Depth: 5, Impurity: 3e-07, Acurácia: 0.9935, F1 Score: 0.7358, AUC: 0.9926\n",
            "Estim -> 18 = Depth: 5, Impurity: 4e-07, Acurácia: 0.9935, F1 Score: 0.7358, AUC: 0.9926\n",
            "Estim -> 18 = Depth: 5, Impurity: 5e-07, Acurácia: 0.9936, F1 Score: 0.7372, AUC: 0.9926\n",
            "Estim -> 18 = Depth: 5, Impurity: 6e-07, Acurácia: 0.9936, F1 Score: 0.7372, AUC: 0.9926\n",
            "Estim -> 18 = Depth: 5, Impurity: 7e-07, Acurácia: 0.9936, F1 Score: 0.7372, AUC: 0.9926\n",
            "Estim -> 18 = Depth: 5, Impurity: 8e-07, Acurácia: 0.9936, F1 Score: 0.7372, AUC: 0.9926\n",
            "Estim -> 18 = Depth: 5, Impurity: 9e-07, Acurácia: 0.9936, F1 Score: 0.7372, AUC: 0.9926\n",
            "Estim -> 18 = Depth: 5, Impurity: 1e-08, Acurácia: 0.9936, F1 Score: 0.7366, AUC: 0.9926\n",
            "Estim -> 18 = Depth: 5, Impurity: 1e-09, Acurácia: 0.9936, F1 Score: 0.7389, AUC: 0.9926\n",
            "Estim -> 18 = Depth: 5, Impurity: 1e-10, Acurácia: 0.9936, F1 Score: 0.7389, AUC: 0.9926\n"
          ]
        }
      ]
    },
    {
      "cell_type": "code",
      "source": [
        "xgboostTrainAndFit(X_train_norm, X_test_norm, Y_train, Y_test, 0, 5)\n",
        "xgboostTrainAndFit(X_train_norm, X_test_norm, Y_train, Y_test, 1, 5)\n",
        "xgboostTrainAndFit(X_train_norm, X_test_norm, Y_train, Y_test, 2, 5)\n",
        "xgboostTrainAndFit(X_train_norm, X_test_norm, Y_train, Y_test, 3, 5)\n",
        "xgboostTrainAndFit(X_train_norm, X_test_norm, Y_train, Y_test, 4, 5)\n",
        "xgboostTrainAndFit(X_train_norm, X_test_norm, Y_train, Y_test, 5, 5)\n",
        "xgboostTrainAndFit(X_train_norm, X_test_norm, Y_train, Y_test, 6, 5)\n",
        "xgboostTrainAndFit(X_train_norm, X_test_norm, Y_train, Y_test, 7, 5)\n",
        "xgboostTrainAndFit(X_train_norm, X_test_norm, Y_train, Y_test, 8, 5)\n",
        "xgboostTrainAndFit(X_train_norm, X_test_norm, Y_train, Y_test, 9, 5)\n",
        "xgboostTrainAndFit(X_train_norm, X_test_norm, Y_train, Y_test, 10, 5)\n"
      ],
      "metadata": {
        "colab": {
          "base_uri": "https://localhost:8080/"
        },
        "id": "Frm8pOh-tqgp",
        "outputId": "e3c36721-9225-43b7-c60f-54745821c12a"
      },
      "execution_count": 93,
      "outputs": [
        {
          "output_type": "stream",
          "name": "stdout",
          "text": [
            "Estim -> 0 = Depth: 5, Acurácia: 0.9855, F1 Score: 0.0000, AUC: 0.5000\n",
            "[0]\tvalidation_0-error:0.00608\n",
            "Estim -> 1 = Depth: 5, Acurácia: 0.9939, F1 Score: 0.7483, AUC: 0.9807\n",
            "[0]\tvalidation_0-error:0.00608\n",
            "[1]\tvalidation_0-error:0.006031\n",
            "Estim -> 2 = Depth: 5, Acurácia: 0.9939, F1 Score: 0.7483, AUC: 0.9807\n",
            "[0]\tvalidation_0-error:0.00608\n",
            "[1]\tvalidation_0-error:0.006031\n",
            "[2]\tvalidation_0-error:0.006031\n",
            "Estim -> 3 = Depth: 5, Acurácia: 0.9939, F1 Score: 0.7483, AUC: 0.9808\n",
            "[0]\tvalidation_0-error:0.00608\n",
            "[1]\tvalidation_0-error:0.006031\n",
            "[2]\tvalidation_0-error:0.006031\n",
            "[3]\tvalidation_0-error:0.006031\n",
            "Estim -> 4 = Depth: 5, Acurácia: 0.9940, F1 Score: 0.7512, AUC: 0.9808\n",
            "[0]\tvalidation_0-error:0.00608\n",
            "[1]\tvalidation_0-error:0.006031\n",
            "[2]\tvalidation_0-error:0.006031\n",
            "[3]\tvalidation_0-error:0.006031\n",
            "[4]\tvalidation_0-error:0.006031\n",
            "Estim -> 5 = Depth: 5, Acurácia: 0.9939, F1 Score: 0.7483, AUC: 0.9810\n",
            "[0]\tvalidation_0-error:0.00608\n",
            "[1]\tvalidation_0-error:0.006031\n",
            "[2]\tvalidation_0-error:0.006031\n",
            "[3]\tvalidation_0-error:0.006031\n",
            "[4]\tvalidation_0-error:0.006031\n",
            "[5]\tvalidation_0-error:0.006052\n",
            "Estim -> 6 = Depth: 5, Acurácia: 0.9939, F1 Score: 0.7477, AUC: 0.9810\n",
            "[0]\tvalidation_0-error:0.00608\n",
            "[1]\tvalidation_0-error:0.006031\n",
            "[2]\tvalidation_0-error:0.006031\n",
            "[3]\tvalidation_0-error:0.006031\n",
            "[4]\tvalidation_0-error:0.006031\n",
            "[5]\tvalidation_0-error:0.006052\n",
            "[6]\tvalidation_0-error:0.006052\n",
            "Estim -> 7 = Depth: 5, Acurácia: 0.9939, F1 Score: 0.7477, AUC: 0.9810\n",
            "[0]\tvalidation_0-error:0.00608\n",
            "[1]\tvalidation_0-error:0.006031\n",
            "[2]\tvalidation_0-error:0.006031\n",
            "[3]\tvalidation_0-error:0.006031\n",
            "[4]\tvalidation_0-error:0.006031\n",
            "[5]\tvalidation_0-error:0.006052\n",
            "[6]\tvalidation_0-error:0.006052\n",
            "[7]\tvalidation_0-error:0.006052\n",
            "Estim -> 8 = Depth: 5, Acurácia: 0.9939, F1 Score: 0.7477, AUC: 0.9811\n",
            "[0]\tvalidation_0-error:0.00608\n",
            "[1]\tvalidation_0-error:0.006031\n",
            "[2]\tvalidation_0-error:0.006031\n",
            "[3]\tvalidation_0-error:0.006031\n",
            "[4]\tvalidation_0-error:0.006031\n",
            "[5]\tvalidation_0-error:0.006052\n",
            "[6]\tvalidation_0-error:0.006052\n",
            "[7]\tvalidation_0-error:0.006052\n",
            "[8]\tvalidation_0-error:0.006052\n",
            "Estim -> 9 = Depth: 5, Acurácia: 0.9939, F1 Score: 0.7477, AUC: 0.9820\n",
            "[0]\tvalidation_0-error:0.00608\n",
            "[1]\tvalidation_0-error:0.006031\n",
            "[2]\tvalidation_0-error:0.006031\n",
            "[3]\tvalidation_0-error:0.006031\n",
            "[4]\tvalidation_0-error:0.006031\n",
            "[5]\tvalidation_0-error:0.006052\n",
            "[6]\tvalidation_0-error:0.006052\n",
            "[7]\tvalidation_0-error:0.006052\n",
            "[8]\tvalidation_0-error:0.006052\n",
            "[9]\tvalidation_0-error:0.006052\n",
            "Estim -> 10 = Depth: 5, Acurácia: 0.9939, F1 Score: 0.7462, AUC: 0.9820\n"
          ]
        }
      ]
    },
    {
      "cell_type": "code",
      "source": [
        "xgboostTrainAndFit(X_train_norm, X_test_norm, Y_train, Y_test, 4, 1)\n",
        "xgboostTrainAndFit(X_train_norm, X_test_norm, Y_train, Y_test, 4, 2)\n",
        "xgboostTrainAndFit(X_train_norm, X_test_norm, Y_train, Y_test, 4, 3)\n",
        "xgboostTrainAndFit(X_train_norm, X_test_norm, Y_train, Y_test, 4, 4)\n",
        "xgboostTrainAndFit(X_train_norm, X_test_norm, Y_train, Y_test, 4, 5)\n",
        "xgboostTrainAndFit(X_train_norm, X_test_norm, Y_train, Y_test, 4, 6)\n",
        "xgboostTrainAndFit(X_train_norm, X_test_norm, Y_train, Y_test, 4, 7)\n",
        "xgboostTrainAndFit(X_train_norm, X_test_norm, Y_train, Y_test, 4, 8)\n",
        "xgboostTrainAndFit(X_train_norm, X_test_norm, Y_train, Y_test, 4, 9)\n",
        "xgboostTrainAndFit(X_train_norm, X_test_norm, Y_train, Y_test, 4, 10)\n",
        "xgboostTrainAndFit(X_train_norm, X_test_norm, Y_train, Y_test, 4, 15)\n",
        "xgboostTrainAndFit(X_train_norm, X_test_norm, Y_train, Y_test, 4, 20)\n",
        "xgboostTrainAndFit(X_train_norm, X_test_norm, Y_train, Y_test, 4, 25)\n",
        "xgboostTrainAndFit(X_train_norm, X_test_norm, Y_train, Y_test, 4, 30)\n"
      ],
      "metadata": {
        "colab": {
          "base_uri": "https://localhost:8080/"
        },
        "id": "swEEkAM23T-U",
        "outputId": "8d333d55-b5e9-48a6-874d-acc3dbdf1afb"
      },
      "execution_count": 95,
      "outputs": [
        {
          "output_type": "stream",
          "name": "stdout",
          "text": [
            "[0]\tvalidation_0-error:0.006811\n",
            "[1]\tvalidation_0-error:0.006811\n",
            "[2]\tvalidation_0-error:0.006811\n",
            "[3]\tvalidation_0-error:0.006811\n",
            "Estim -> 4 = Depth: 1, Acurácia: 0.9933, F1 Score: 0.7360, AUC: 0.8239\n",
            "[0]\tvalidation_0-error:0.006811\n",
            "[1]\tvalidation_0-error:0.006811\n",
            "[2]\tvalidation_0-error:0.006811\n",
            "[3]\tvalidation_0-error:0.006811\n",
            "Estim -> 4 = Depth: 2, Acurácia: 0.9933, F1 Score: 0.7360, AUC: 0.9014\n",
            "[0]\tvalidation_0-error:0.006387\n",
            "[1]\tvalidation_0-error:0.006345\n",
            "[2]\tvalidation_0-error:0.006345\n",
            "[3]\tvalidation_0-error:0.006387\n",
            "Estim -> 4 = Depth: 3, Acurácia: 0.9936, F1 Score: 0.7323, AUC: 0.9280\n",
            "[0]\tvalidation_0-error:0.006192\n",
            "[1]\tvalidation_0-error:0.006192\n",
            "[2]\tvalidation_0-error:0.006205\n",
            "[3]\tvalidation_0-error:0.006219\n",
            "Estim -> 4 = Depth: 4, Acurácia: 0.9936, F1 Score: 0.7455, AUC: 0.9780\n",
            "[0]\tvalidation_0-error:0.00608\n",
            "[1]\tvalidation_0-error:0.006031\n",
            "[2]\tvalidation_0-error:0.006031\n",
            "[3]\tvalidation_0-error:0.006031\n",
            "Estim -> 4 = Depth: 5, Acurácia: 0.9940, F1 Score: 0.7512, AUC: 0.9808\n",
            "[0]\tvalidation_0-error:0.005781\n",
            "[1]\tvalidation_0-error:0.005781\n",
            "[2]\tvalidation_0-error:0.005781\n",
            "[3]\tvalidation_0-error:0.005753\n",
            "Estim -> 4 = Depth: 6, Acurácia: 0.9938, F1 Score: 0.7404, AUC: 0.9827\n",
            "[0]\tvalidation_0-error:0.005502\n",
            "[1]\tvalidation_0-error:0.005516\n",
            "[2]\tvalidation_0-error:0.005523\n",
            "[3]\tvalidation_0-error:0.005523\n",
            "Estim -> 4 = Depth: 7, Acurácia: 0.9943, F1 Score: 0.7709, AUC: 0.9831\n",
            "[0]\tvalidation_0-error:0.005349\n",
            "[1]\tvalidation_0-error:0.005335\n",
            "[2]\tvalidation_0-error:0.00537\n",
            "[3]\tvalidation_0-error:0.00537\n",
            "Estim -> 4 = Depth: 8, Acurácia: 0.9941, F1 Score: 0.7618, AUC: 0.9833\n",
            "[0]\tvalidation_0-error:0.005216\n",
            "[1]\tvalidation_0-error:0.005203\n",
            "[2]\tvalidation_0-error:0.005182\n",
            "[3]\tvalidation_0-error:0.00521\n",
            "Estim -> 4 = Depth: 9, Acurácia: 0.9940, F1 Score: 0.7597, AUC: 0.9833\n",
            "[0]\tvalidation_0-error:0.005119\n",
            "[1]\tvalidation_0-error:0.005077\n",
            "[2]\tvalidation_0-error:0.005091\n",
            "[3]\tvalidation_0-error:0.005112\n",
            "Estim -> 4 = Depth: 10, Acurácia: 0.9939, F1 Score: 0.7545, AUC: 0.9833\n",
            "[0]\tvalidation_0-error:0.004833\n",
            "[1]\tvalidation_0-error:0.004771\n",
            "[2]\tvalidation_0-error:0.004792\n",
            "[3]\tvalidation_0-error:0.004813\n",
            "Estim -> 4 = Depth: 15, Acurácia: 0.9936, F1 Score: 0.7495, AUC: 0.9832\n",
            "[0]\tvalidation_0-error:0.004826\n",
            "[1]\tvalidation_0-error:0.004771\n",
            "[2]\tvalidation_0-error:0.004792\n",
            "[3]\tvalidation_0-error:0.004813\n",
            "Estim -> 4 = Depth: 20, Acurácia: 0.9936, F1 Score: 0.7495, AUC: 0.9832\n",
            "[0]\tvalidation_0-error:0.004826\n",
            "[1]\tvalidation_0-error:0.004771\n",
            "[2]\tvalidation_0-error:0.004792\n",
            "[3]\tvalidation_0-error:0.004813\n",
            "Estim -> 4 = Depth: 25, Acurácia: 0.9936, F1 Score: 0.7495, AUC: 0.9832\n",
            "[0]\tvalidation_0-error:0.004826\n",
            "[1]\tvalidation_0-error:0.004771\n",
            "[2]\tvalidation_0-error:0.004792\n",
            "[3]\tvalidation_0-error:0.004813\n",
            "Estim -> 4 = Depth: 30, Acurácia: 0.9936, F1 Score: 0.7495, AUC: 0.9832\n",
            "[0]\tvalidation_0-error:0.005119\n",
            "[1]\tvalidation_0-error:0.005077\n",
            "[2]\tvalidation_0-error:0.005091\n",
            "[3]\tvalidation_0-error:0.005112\n",
            "Estim -> 4 = Depth: 10, Acurácia: 0.9939, F1 Score: 0.7545, AUC: 0.9833\n"
          ]
        }
      ]
    },
    {
      "cell_type": "code",
      "source": [
        "hgboostTrainAndFit(X_train_norm, X_test_norm, Y_train, Y_test, 1)\n",
        "hgboostTrainAndFit(X_train_norm, X_test_norm, Y_train, Y_test, 2)\n",
        "hgboostTrainAndFit(X_train_norm, X_test_norm, Y_train, Y_test, 3)\n",
        "hgboostTrainAndFit(X_train_norm, X_test_norm, Y_train, Y_test, 4)\n",
        "hgboostTrainAndFit(X_train_norm, X_test_norm, Y_train, Y_test, 5)\n",
        "hgboostTrainAndFit(X_train_norm, X_test_norm, Y_train, Y_test, 6)\n",
        "hgboostTrainAndFit(X_train_norm, X_test_norm, Y_train, Y_test, 7)\n",
        "hgboostTrainAndFit(X_train_norm, X_test_norm, Y_train, Y_test, 8)\n",
        "hgboostTrainAndFit(X_train_norm, X_test_norm, Y_train, Y_test, 9)\n",
        "hgboostTrainAndFit(X_train_norm, X_test_norm, Y_train, Y_test, 10)\n",
        "hgboostTrainAndFit(X_train_norm, X_test_norm, Y_train, Y_test, 11)\n",
        "hgboostTrainAndFit(X_train_norm, X_test_norm, Y_train, Y_test, 12)\n",
        "hgboostTrainAndFit(X_train_norm, X_test_norm, Y_train, Y_test, 13)\n",
        "hgboostTrainAndFit(X_train_norm, X_test_norm, Y_train, Y_test, 14)\n",
        "hgboostTrainAndFit(X_train_norm, X_test_norm, Y_train, Y_test, 16)\n",
        "hgboostTrainAndFit(X_train_norm, X_test_norm, Y_train, Y_test, 18)\n",
        "hgboostTrainAndFit(X_train_norm, X_test_norm, Y_train, Y_test, 20)\n",
        "hgboostTrainAndFit(X_train_norm, X_test_norm, Y_train, Y_test, 25)\n",
        "hgboostTrainAndFit(X_train_norm, X_test_norm, Y_train, Y_test, 30)"
      ],
      "metadata": {
        "colab": {
          "base_uri": "https://localhost:8080/"
        },
        "id": "g4U_tbTg4nZj",
        "outputId": "2172385e-430d-43d2-f88e-7351fb5764c0"
      },
      "execution_count": 103,
      "outputs": [
        {
          "output_type": "stream",
          "name": "stdout",
          "text": [
            "Depth -> 1, Acurácia: 0.9929, F1 Score: 0.7355, AUC: 0.9896\n",
            "Depth -> 2, Acurácia: 0.9941, F1 Score: 0.7616, AUC: 0.9928\n",
            "Depth -> 3, Acurácia: 0.9940, F1 Score: 0.7587, AUC: 0.9935\n",
            "Depth -> 4, Acurácia: 0.9942, F1 Score: 0.7682, AUC: 0.9932\n",
            "Depth -> 5, Acurácia: 0.9942, F1 Score: 0.7663, AUC: 0.9932\n",
            "Depth -> 6, Acurácia: 0.9941, F1 Score: 0.7646, AUC: 0.9936\n",
            "Depth -> 7, Acurácia: 0.9943, F1 Score: 0.7696, AUC: 0.9932\n",
            "Depth -> 8, Acurácia: 0.9942, F1 Score: 0.7665, AUC: 0.9931\n",
            "Depth -> 9, Acurácia: 0.9943, F1 Score: 0.7691, AUC: 0.9931\n",
            "Depth -> 10, Acurácia: 0.9942, F1 Score: 0.7665, AUC: 0.9931\n",
            "Depth -> 11, Acurácia: 0.9941, F1 Score: 0.7651, AUC: 0.9932\n",
            "Depth -> 12, Acurácia: 0.9943, F1 Score: 0.7720, AUC: 0.9930\n",
            "Depth -> 13, Acurácia: 0.9942, F1 Score: 0.7697, AUC: 0.9932\n",
            "Depth -> 14, Acurácia: 0.9943, F1 Score: 0.7747, AUC: 0.9931\n",
            "Depth -> 16, Acurácia: 0.9943, F1 Score: 0.7725, AUC: 0.9930\n",
            "Depth -> 18, Acurácia: 0.9943, F1 Score: 0.7720, AUC: 0.9929\n",
            "Depth -> 20, Acurácia: 0.9942, F1 Score: 0.7670, AUC: 0.9929\n",
            "Depth -> 25, Acurácia: 0.9942, F1 Score: 0.7670, AUC: 0.9929\n",
            "Depth -> 30, Acurácia: 0.9942, F1 Score: 0.7670, AUC: 0.9929\n"
          ]
        }
      ]
    },
    {
      "cell_type": "code",
      "source": [
        "from joblib import dump, load"
      ],
      "metadata": {
        "id": "LdhTg2F-EF7F"
      },
      "execution_count": 110,
      "outputs": []
    },
    {
      "cell_type": "code",
      "source": [
        "def hgboostEvaluateModel(X_train, X_test, y_train, y_test, depth):\n",
        "\n",
        "  hg = HistGradientBoostingClassifier(max_depth=depth, random_state=77)\n",
        "  hg.fit(X_train, y_train)\n",
        "\n",
        "  y_pred = hg.predict(X_test)\n",
        "  probs = hg.predict_proba(X_test)\n",
        "\n",
        "  auc = metrics.roc_auc_score(y_test, probs[:,1])\n",
        "  acc = metrics.accuracy_score(y_test, y_pred)\n",
        "  fone = metrics.f1_score(y_test, y_pred)\n",
        "\n",
        "  return hg\n",
        "\n",
        "hg = hgboostEvaluateModel(X_train_norm, X_test_norm, Y_train, Y_test, 14)"
      ],
      "metadata": {
        "id": "HPTNqiprEM3m"
      },
      "execution_count": 108,
      "outputs": []
    },
    {
      "cell_type": "code",
      "source": [
        "dump(hg, 'HistGradientBoostingClassifierCyberSprint.joblib') "
      ],
      "metadata": {
        "colab": {
          "base_uri": "https://localhost:8080/"
        },
        "id": "eeY_Jyx9FW2C",
        "outputId": "bd44f2dc-ca84-49c8-d7f5-30821f426fa4"
      },
      "execution_count": 111,
      "outputs": [
        {
          "output_type": "execute_result",
          "data": {
            "text/plain": [
              "['HistGradientBoostingClassifierCyberSprint.joblib']"
            ]
          },
          "metadata": {},
          "execution_count": 111
        }
      ]
    },
    {
      "cell_type": "code",
      "source": [
        "dump(norm, 'MinMaxScalerHGBoostCyberSprint.joblib')"
      ],
      "metadata": {
        "colab": {
          "base_uri": "https://localhost:8080/"
        },
        "id": "n8_ZmkH_IDrG",
        "outputId": "223af76e-1228-49f6-947b-5df1156d5783"
      },
      "execution_count": 117,
      "outputs": [
        {
          "output_type": "execute_result",
          "data": {
            "text/plain": [
              "['MinMaxScalerHGBoostCyberSprint.joblib']"
            ]
          },
          "metadata": {},
          "execution_count": 117
        }
      ]
    }
  ]
}