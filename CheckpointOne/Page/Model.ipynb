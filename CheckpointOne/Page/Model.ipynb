{
  "cells": [
    {
      "cell_type": "code",
      "execution_count": null,
      "metadata": {
        "id": "vH2xUPL7LhII"
      },
      "outputs": [],
      "source": [
        "!pip install -q pyngrok"
      ]
    },
    {
      "cell_type": "code",
      "execution_count": null,
      "metadata": {
        "id": "_0yW6xxVLj70"
      },
      "outputs": [],
      "source": [
        "!pip install -q streamlit"
      ]
    },
    {
      "cell_type": "code",
      "execution_count": null,
      "metadata": {
        "id": "EbEk9X3fLlQy"
      },
      "outputs": [],
      "source": [
        "!pip install -q streamlit-ace"
      ]
    },
    {
      "cell_type": "code",
      "execution_count": null,
      "metadata": {
        "id": "nnQ9k78zLnci"
      },
      "outputs": [],
      "source": [
        "!pip install -q fuzzywuzzy[speedup]"
      ]
    },
    {
      "cell_type": "code",
      "execution_count": null,
      "metadata": {
        "id": "wickCeN4LpNB"
      },
      "outputs": [],
      "source": [
        "!streamlit run app.py &>/dev/null&"
      ]
    },
    {
      "cell_type": "code",
      "execution_count": null,
      "metadata": {
        "id": "83cBgt0OLqsx"
      },
      "outputs": [],
      "source": [
        "from pyngrok import ngrok"
      ]
    },
    {
      "cell_type": "code",
      "execution_count": null,
      "metadata": {
        "id": "zkz4BqByL6xD"
      },
      "outputs": [],
      "source": [
        "%%writefile app.py\n",
        "import streamlit as st\n",
        "import re\n",
        "from fuzzywuzzy import process\n",
        "import json\n",
        "import requests\n",
        "import pandas as pd\n",
        "\n",
        "\n",
        "\n",
        "def main():\n",
        "\n",
        "  namesData = requests.get('https://cspinheiro.github.io/interpol.json')\n",
        "\n",
        "  df = pd.read_csv('Endpoints.csv')\n",
        "  apiNameOptions = df['N'].drop([0,0])\n",
        "  apiRoutesOptions = df['Endpoint'].drop([0, 0])\n",
        "  apiRoutesOptions = apiRoutesOptions.values.tolist()\n",
        "  apiNameOptions = apiNameOptions.values.tolist()\n",
        "\n",
        "  apiRoutesOptions[12] = 'https://rodrigofer89.github.io/npl.json'\n",
        "\n",
        "  endpointOptions = {apiNameOptions[i]: apiRoutesOptions[i] for i in range(len(apiNameOptions))}\n",
        "\n",
        "  def handleAirportSelection(airport: str, allAirports : bool):\n",
        "    if allAirports:\n",
        "      return getAllEndpointsData()\n",
        "    \n",
        "    route = endpointOptions[airport.upper()]\n",
        "    response = requests.get(route).json()\n",
        "\n",
        "    totalData = []\n",
        "    for i in response:\n",
        "      for data in response[i]:\n",
        "        totalData.append(*data.values())\n",
        "\n",
        "    return totalData\n",
        "\n",
        "  def getAllEndpointsData():\n",
        "    \n",
        "    totalData = []\n",
        "\n",
        "    for endpoint in endpointOptions.values():\n",
        "      response = requests.get(endpoint).json()\n",
        "      for option in response:\n",
        "        for data in response[option]:\n",
        "          totalData.append(*data.values())\n",
        "\n",
        "    return totalData\n",
        "\n",
        "  def handleBlockedPassports(passportNumber, allAirport):\n",
        "\n",
        "    passportLocation = re.findall('[a-zA-Z]+', passportNumber)\n",
        "    passport = re.findall('[0-9]+', passportNumber)\n",
        "\n",
        "    if not passportLocation:\n",
        "      allAirport = True\n",
        "      passportLocation = ''\n",
        "    else :\n",
        "      passportLocation = str(passportLocation[0])\n",
        "    \n",
        "    if not passport:\n",
        "      st.warning(\"Por favor informe o número do seu passaporte!\")\n",
        "      return\n",
        "\n",
        "    blockedData = handleAirportSelection(passportLocation, allAirport)\n",
        "\n",
        "    if int(passport[0]) in blockedData:\n",
        "      return 'Proibido'\n",
        "    \n",
        "    return 'Permitido'\n",
        "\n",
        "  def handleBlockedPersons(name):\n",
        "\n",
        "    blockedNamesData = namesData.json()['interpol']\n",
        "\n",
        "    blocked = []\n",
        "\n",
        "    for data in blockedNamesData:\n",
        "      for i, v in data.items():\n",
        "        blocked.append(v)\n",
        "\n",
        "    searchList = process.extract(str(name), blocked)\n",
        "\n",
        "    for i in searchList:\n",
        "      if i[1] >= 72:\n",
        "        return 'Proibido'\n",
        "\n",
        "      return 'Permitido'\n",
        "\n",
        "\n",
        "  def handleImigrate(name, passportNumber, allAirport):\n",
        "\n",
        "      passport = handleBlockedPassports(passportNumber, allAirport)\n",
        "\n",
        "      if not passport:\n",
        "        return\n",
        "\n",
        "      person = handleBlockedPersons(name)\n",
        "\n",
        "      if passport == 'Proibido' or person == 'Proibido':\n",
        "         st.error(\"Você não está permitido entrar nesse País\")\n",
        "         return\n",
        "      \n",
        "      st.success(\"Você pode entrar nesse País\")\n",
        "      return\n",
        "\n",
        "  st.set_page_config(page_title=\"Aeroporto\", page_icon=\"✈️\", layout=\"centered\")\n",
        "  st.title(\"📋 Segurança do Aeroporto\")\n",
        "  form = st.form(key=\"form\")\n",
        "\n",
        "  apiNameOptions.append('ALL')\n",
        "\n",
        "  with form:\n",
        "    name = st.text_input(\"Nome Completo:\")\n",
        "    passport = st.text_input(\"Número do Passaporte:\")\n",
        "    allAirport = st.checkbox(\"Todos os Aeroportos\")\n",
        "    submitted = st.form_submit_button(label=\"Verificar\")\n",
        "\n",
        "  if submitted:\n",
        "    if not name or not passport:\n",
        "      st.warning(\"Preencha todos os Campos!\")\n",
        "    else :\n",
        "      handleImigrate(name, passport, allAirport)\n",
        "\n",
        "if __name__ == '__main__':\n",
        "  main()"
      ]
    },
    {
      "cell_type": "code",
      "execution_count": null,
      "metadata": {
        "id": "m4NbTnzEoYgQ"
      },
      "outputs": [],
      "source": [
        "!streamlit run app.py & npx localtunnel --port 8501"
      ]
    }
  ],
  "metadata": {
    "colab": {
      "collapsed_sections": [],
      "name": "CheckpointCyber.v5",
      "provenance": []
    },
    "kernelspec": {
      "display_name": "Python 3",
      "name": "python3"
    },
    "language_info": {
      "name": "python"
    }
  },
  "nbformat": 4,
  "nbformat_minor": 0
}
