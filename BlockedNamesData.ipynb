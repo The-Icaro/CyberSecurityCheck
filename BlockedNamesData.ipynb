{
  "nbformat": 4,
  "nbformat_minor": 0,
  "metadata": {
    "colab": {
      "name": "BlockedNamesData",
      "provenance": [],
      "collapsed_sections": []
    },
    "kernelspec": {
      "name": "python3",
      "display_name": "Python 3"
    },
    "language_info": {
      "name": "python"
    }
  },
  "cells": [
    {
      "cell_type": "code",
      "source": [
        "!pip install -q fuzzywuzzy[speedup]"
      ],
      "metadata": {
        "colab": {
          "base_uri": "https://localhost:8080/"
        },
        "id": "BKhpgZ9PKTnb",
        "outputId": "6663c714-1116-4719-f188-db02cbefc0e9"
      },
      "execution_count": 11,
      "outputs": [
        {
          "output_type": "stream",
          "name": "stdout",
          "text": [
            "\u001b[?25l\r\u001b[K     |██████▌                         | 10 kB 21.6 MB/s eta 0:00:01\r\u001b[K     |█████████████                   | 20 kB 28.6 MB/s eta 0:00:01\r\u001b[K     |███████████████████▌            | 30 kB 32.5 MB/s eta 0:00:01\r\u001b[K     |██████████████████████████      | 40 kB 37.6 MB/s eta 0:00:01\r\u001b[K     |████████████████████████████████| 50 kB 5.0 MB/s \n",
            "\u001b[?25h  Building wheel for python-levenshtein (setup.py) ... \u001b[?25l\u001b[?25hdone\n"
          ]
        }
      ]
    },
    {
      "cell_type": "code",
      "execution_count": 12,
      "metadata": {
        "id": "Ky_C916uX_uR"
      },
      "outputs": [],
      "source": [
        "import json\n",
        "import requests\n",
        "import re\n",
        "from fuzzywuzzy import process"
      ]
    },
    {
      "cell_type": "code",
      "source": [
        "namesData = requests.get('https://cspinheiro.github.io/interpol.json')\n",
        "namesData.json()['interpol'][0]"
      ],
      "metadata": {
        "colab": {
          "base_uri": "https://localhost:8080/"
        },
        "id": "CHLbOzTd9wvc",
        "outputId": "42ba73d1-f4db-453e-fcb8-af875e3a58ff"
      },
      "execution_count": 13,
      "outputs": [
        {
          "output_type": "execute_result",
          "data": {
            "text/plain": [
              "{'interpol': 'Priscila dos Santos Pereira'}"
            ]
          },
          "metadata": {},
          "execution_count": 13
        }
      ]
    },
    {
      "cell_type": "code",
      "source": [
        "def handleBlockedPersons(name):\n",
        "\n",
        "  blockedNamesData = namesData.json()['interpol']\n",
        "\n",
        "  blocked = []\n",
        "\n",
        "  for data in blockedNamesData:\n",
        "    for i, v in data.items():\n",
        "      blocked.append(v)\n",
        "\n",
        "  searchList = process.extract(str(name), blocked)\n",
        "\n",
        "  for i in searchList:\n",
        "    if i[1] >= 85:\n",
        "      return 'Proibido'\n",
        "\n",
        "  return 'Permitido'"
      ],
      "metadata": {
        "id": "dYifyV1I-gjV"
      },
      "execution_count": 14,
      "outputs": []
    },
    {
      "cell_type": "code",
      "source": [
        "print(handleBlockedPersons(str(input('Digite Seu Nome :'))))"
      ],
      "metadata": {
        "colab": {
          "base_uri": "https://localhost:8080/"
        },
        "id": "WN-Mxxlo_f06",
        "outputId": "9410b46c-d57f-41a1-ca11-2891473586b0"
      },
      "execution_count": 15,
      "outputs": [
        {
          "output_type": "stream",
          "name": "stdout",
          "text": [
            "Digite Seu Nome :Priscila dos Santos Pereira\n",
            "Proibido\n"
          ]
        }
      ]
    }
  ]
}