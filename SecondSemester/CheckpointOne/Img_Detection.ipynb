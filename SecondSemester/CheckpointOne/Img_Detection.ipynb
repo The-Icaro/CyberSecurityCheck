{
  "cells": [
    {
      "cell_type": "code",
      "execution_count": 1,
      "metadata": {
        "id": "xPC9Gygp4MNA"
      },
      "outputs": [],
      "source": [
        "!pip install -q streamlit"
      ]
    },
    {
      "cell_type": "code",
      "execution_count": 2,
      "metadata": {
        "id": "PZvMovX74QCm"
      },
      "outputs": [],
      "source": [
        "!pip install -q streamlit-ace"
      ]
    },
    {
      "cell_type": "code",
      "execution_count": 3,
      "metadata": {
        "id": "2xibXpaB4RDI"
      },
      "outputs": [],
      "source": [
        "!streamlit run app.py &>/dev/null&"
      ]
    },
    {
      "cell_type": "code",
      "execution_count": 4,
      "metadata": {
        "id": "E4qF0jTP4SU3"
      },
      "outputs": [],
      "source": [
        "!pip install -q pyngrok"
      ]
    },
    {
      "cell_type": "code",
      "source": [
        "!pip install cvlib"
      ],
      "metadata": {
        "colab": {
          "base_uri": "https://localhost:8080/"
        },
        "id": "ra0LzBxFIR1s",
        "outputId": "b88b83bd-0f2d-47a9-bb7b-d7afa3ad8203"
      },
      "execution_count": 5,
      "outputs": [
        {
          "output_type": "stream",
          "name": "stdout",
          "text": [
            "Looking in indexes: https://pypi.org/simple, https://us-python.pkg.dev/colab-wheels/public/simple/\n",
            "Requirement already satisfied: cvlib in /usr/local/lib/python3.7/dist-packages (0.2.7)\n",
            "Requirement already satisfied: requests in /usr/local/lib/python3.7/dist-packages (from cvlib) (2.23.0)\n",
            "Requirement already satisfied: imutils in /usr/local/lib/python3.7/dist-packages (from cvlib) (0.5.4)\n",
            "Requirement already satisfied: numpy in /usr/local/lib/python3.7/dist-packages (from cvlib) (1.21.6)\n",
            "Requirement already satisfied: pillow in /usr/local/lib/python3.7/dist-packages (from cvlib) (7.1.2)\n",
            "Requirement already satisfied: imageio in /usr/local/lib/python3.7/dist-packages (from cvlib) (2.9.0)\n",
            "Requirement already satisfied: progressbar in /usr/local/lib/python3.7/dist-packages (from cvlib) (2.5)\n",
            "Requirement already satisfied: urllib3!=1.25.0,!=1.25.1,<1.26,>=1.21.1 in /usr/local/lib/python3.7/dist-packages (from requests->cvlib) (1.24.3)\n",
            "Requirement already satisfied: idna<3,>=2.5 in /usr/local/lib/python3.7/dist-packages (from requests->cvlib) (2.10)\n",
            "Requirement already satisfied: certifi>=2017.4.17 in /usr/local/lib/python3.7/dist-packages (from requests->cvlib) (2022.6.15)\n",
            "Requirement already satisfied: chardet<4,>=3.0.2 in /usr/local/lib/python3.7/dist-packages (from requests->cvlib) (3.0.4)\n"
          ]
        }
      ]
    },
    {
      "cell_type": "code",
      "source": [
        "!pip install cv"
      ],
      "metadata": {
        "colab": {
          "base_uri": "https://localhost:8080/"
        },
        "id": "9t4KaMj7IgjD",
        "outputId": "dca343d2-e04e-4965-b493-38c184cb89b9"
      },
      "execution_count": 6,
      "outputs": [
        {
          "output_type": "stream",
          "name": "stdout",
          "text": [
            "Looking in indexes: https://pypi.org/simple, https://us-python.pkg.dev/colab-wheels/public/simple/\n",
            "Requirement already satisfied: cv in /usr/local/lib/python3.7/dist-packages (1.0.0)\n"
          ]
        }
      ]
    },
    {
      "cell_type": "code",
      "source": [
        "!pip install captcha"
      ],
      "metadata": {
        "colab": {
          "base_uri": "https://localhost:8080/"
        },
        "id": "2jfJ_DW2EFsq",
        "outputId": "c60dbefc-7e81-4d69-8826-a01713163e44"
      },
      "execution_count": 7,
      "outputs": [
        {
          "output_type": "stream",
          "name": "stdout",
          "text": [
            "Looking in indexes: https://pypi.org/simple, https://us-python.pkg.dev/colab-wheels/public/simple/\n",
            "Requirement already satisfied: captcha in /usr/local/lib/python3.7/dist-packages (0.4)\n",
            "Requirement already satisfied: Pillow in /usr/local/lib/python3.7/dist-packages (from captcha) (7.1.2)\n"
          ]
        }
      ]
    },
    {
      "cell_type": "code",
      "source": [
        "!pip install opencv-python tensorflow"
      ],
      "metadata": {
        "colab": {
          "base_uri": "https://localhost:8080/"
        },
        "id": "nHs8L6JQLOgD",
        "outputId": "65745e29-3421-43e0-a757-8454ad70e1eb"
      },
      "execution_count": 8,
      "outputs": [
        {
          "output_type": "stream",
          "name": "stdout",
          "text": [
            "Looking in indexes: https://pypi.org/simple, https://us-python.pkg.dev/colab-wheels/public/simple/\n",
            "Requirement already satisfied: opencv-python in /usr/local/lib/python3.7/dist-packages (4.6.0.66)\n",
            "Requirement already satisfied: tensorflow in /usr/local/lib/python3.7/dist-packages (2.8.2+zzzcolab20220719082949)\n",
            "Requirement already satisfied: numpy>=1.14.5 in /usr/local/lib/python3.7/dist-packages (from opencv-python) (1.21.6)\n",
            "Requirement already satisfied: tensorflow-estimator<2.9,>=2.8 in /usr/local/lib/python3.7/dist-packages (from tensorflow) (2.8.0)\n",
            "Requirement already satisfied: keras-preprocessing>=1.1.1 in /usr/local/lib/python3.7/dist-packages (from tensorflow) (1.1.2)\n",
            "Requirement already satisfied: setuptools in /usr/local/lib/python3.7/dist-packages (from tensorflow) (57.4.0)\n",
            "Requirement already satisfied: tensorboard<2.9,>=2.8 in /usr/local/lib/python3.7/dist-packages (from tensorflow) (2.8.0)\n",
            "Requirement already satisfied: protobuf<3.20,>=3.9.2 in /usr/local/lib/python3.7/dist-packages (from tensorflow) (3.17.3)\n",
            "Requirement already satisfied: absl-py>=0.4.0 in /usr/local/lib/python3.7/dist-packages (from tensorflow) (1.2.0)\n",
            "Requirement already satisfied: gast>=0.2.1 in /usr/local/lib/python3.7/dist-packages (from tensorflow) (0.5.3)\n",
            "Requirement already satisfied: libclang>=9.0.1 in /usr/local/lib/python3.7/dist-packages (from tensorflow) (14.0.6)\n",
            "Requirement already satisfied: google-pasta>=0.1.1 in /usr/local/lib/python3.7/dist-packages (from tensorflow) (0.2.0)\n",
            "Requirement already satisfied: wrapt>=1.11.0 in /usr/local/lib/python3.7/dist-packages (from tensorflow) (1.14.1)\n",
            "Requirement already satisfied: flatbuffers>=1.12 in /usr/local/lib/python3.7/dist-packages (from tensorflow) (2.0)\n",
            "Requirement already satisfied: six>=1.12.0 in /usr/local/lib/python3.7/dist-packages (from tensorflow) (1.15.0)\n",
            "Requirement already satisfied: tensorflow-io-gcs-filesystem>=0.23.1 in /usr/local/lib/python3.7/dist-packages (from tensorflow) (0.26.0)\n",
            "Requirement already satisfied: astunparse>=1.6.0 in /usr/local/lib/python3.7/dist-packages (from tensorflow) (1.6.3)\n",
            "Requirement already satisfied: h5py>=2.9.0 in /usr/local/lib/python3.7/dist-packages (from tensorflow) (3.1.0)\n",
            "Requirement already satisfied: typing-extensions>=3.6.6 in /usr/local/lib/python3.7/dist-packages (from tensorflow) (4.1.1)\n",
            "Requirement already satisfied: opt-einsum>=2.3.2 in /usr/local/lib/python3.7/dist-packages (from tensorflow) (3.3.0)\n",
            "Requirement already satisfied: termcolor>=1.1.0 in /usr/local/lib/python3.7/dist-packages (from tensorflow) (1.1.0)\n",
            "Requirement already satisfied: keras<2.9,>=2.8.0rc0 in /usr/local/lib/python3.7/dist-packages (from tensorflow) (2.8.0)\n",
            "Requirement already satisfied: grpcio<2.0,>=1.24.3 in /usr/local/lib/python3.7/dist-packages (from tensorflow) (1.47.0)\n",
            "Requirement already satisfied: wheel<1.0,>=0.23.0 in /usr/local/lib/python3.7/dist-packages (from astunparse>=1.6.0->tensorflow) (0.37.1)\n",
            "Requirement already satisfied: cached-property in /usr/local/lib/python3.7/dist-packages (from h5py>=2.9.0->tensorflow) (1.5.2)\n",
            "Requirement already satisfied: google-auth<3,>=1.6.3 in /usr/local/lib/python3.7/dist-packages (from tensorboard<2.9,>=2.8->tensorflow) (1.35.0)\n",
            "Requirement already satisfied: werkzeug>=0.11.15 in /usr/local/lib/python3.7/dist-packages (from tensorboard<2.9,>=2.8->tensorflow) (1.0.1)\n",
            "Requirement already satisfied: google-auth-oauthlib<0.5,>=0.4.1 in /usr/local/lib/python3.7/dist-packages (from tensorboard<2.9,>=2.8->tensorflow) (0.4.6)\n",
            "Requirement already satisfied: tensorboard-data-server<0.7.0,>=0.6.0 in /usr/local/lib/python3.7/dist-packages (from tensorboard<2.9,>=2.8->tensorflow) (0.6.1)\n",
            "Requirement already satisfied: tensorboard-plugin-wit>=1.6.0 in /usr/local/lib/python3.7/dist-packages (from tensorboard<2.9,>=2.8->tensorflow) (1.8.1)\n",
            "Requirement already satisfied: requests<3,>=2.21.0 in /usr/local/lib/python3.7/dist-packages (from tensorboard<2.9,>=2.8->tensorflow) (2.23.0)\n",
            "Requirement already satisfied: markdown>=2.6.8 in /usr/local/lib/python3.7/dist-packages (from tensorboard<2.9,>=2.8->tensorflow) (3.4.1)\n",
            "Requirement already satisfied: pyasn1-modules>=0.2.1 in /usr/local/lib/python3.7/dist-packages (from google-auth<3,>=1.6.3->tensorboard<2.9,>=2.8->tensorflow) (0.2.8)\n",
            "Requirement already satisfied: cachetools<5.0,>=2.0.0 in /usr/local/lib/python3.7/dist-packages (from google-auth<3,>=1.6.3->tensorboard<2.9,>=2.8->tensorflow) (4.2.4)\n",
            "Requirement already satisfied: rsa<5,>=3.1.4 in /usr/local/lib/python3.7/dist-packages (from google-auth<3,>=1.6.3->tensorboard<2.9,>=2.8->tensorflow) (4.9)\n",
            "Requirement already satisfied: requests-oauthlib>=0.7.0 in /usr/local/lib/python3.7/dist-packages (from google-auth-oauthlib<0.5,>=0.4.1->tensorboard<2.9,>=2.8->tensorflow) (1.3.1)\n",
            "Requirement already satisfied: importlib-metadata>=4.4 in /usr/local/lib/python3.7/dist-packages (from markdown>=2.6.8->tensorboard<2.9,>=2.8->tensorflow) (4.12.0)\n",
            "Requirement already satisfied: zipp>=0.5 in /usr/local/lib/python3.7/dist-packages (from importlib-metadata>=4.4->markdown>=2.6.8->tensorboard<2.9,>=2.8->tensorflow) (3.8.1)\n",
            "Requirement already satisfied: pyasn1<0.5.0,>=0.4.6 in /usr/local/lib/python3.7/dist-packages (from pyasn1-modules>=0.2.1->google-auth<3,>=1.6.3->tensorboard<2.9,>=2.8->tensorflow) (0.4.8)\n",
            "Requirement already satisfied: chardet<4,>=3.0.2 in /usr/local/lib/python3.7/dist-packages (from requests<3,>=2.21.0->tensorboard<2.9,>=2.8->tensorflow) (3.0.4)\n",
            "Requirement already satisfied: certifi>=2017.4.17 in /usr/local/lib/python3.7/dist-packages (from requests<3,>=2.21.0->tensorboard<2.9,>=2.8->tensorflow) (2022.6.15)\n",
            "Requirement already satisfied: urllib3!=1.25.0,!=1.25.1,<1.26,>=1.21.1 in /usr/local/lib/python3.7/dist-packages (from requests<3,>=2.21.0->tensorboard<2.9,>=2.8->tensorflow) (1.24.3)\n",
            "Requirement already satisfied: idna<3,>=2.5 in /usr/local/lib/python3.7/dist-packages (from requests<3,>=2.21.0->tensorboard<2.9,>=2.8->tensorflow) (2.10)\n",
            "Requirement already satisfied: oauthlib>=3.0.0 in /usr/local/lib/python3.7/dist-packages (from requests-oauthlib>=0.7.0->google-auth-oauthlib<0.5,>=0.4.1->tensorboard<2.9,>=2.8->tensorflow) (3.2.0)\n"
          ]
        }
      ]
    },
    {
      "cell_type": "code",
      "execution_count": 9,
      "metadata": {
        "id": "wum9nUK14Tor"
      },
      "outputs": [],
      "source": [
        "from pyngrok import ngrok"
      ]
    },
    {
      "cell_type": "code",
      "execution_count": 47,
      "metadata": {
        "colab": {
          "base_uri": "https://localhost:8080/"
        },
        "id": "K7eWh2oE4Uzg",
        "outputId": "e4e6bc82-1d2e-4cdb-e86e-c459e3c37be6"
      },
      "outputs": [
        {
          "output_type": "stream",
          "name": "stdout",
          "text": [
            "Overwriting app.py\n"
          ]
        }
      ],
      "source": [
        "%%writefile app.py\n",
        "import streamlit as st\n",
        "from streamlit import session_state as _state\n",
        "from captcha.image import ImageCaptcha\n",
        "import string\n",
        "import random\n",
        "import cv2\n",
        "import cvlib as cv\n",
        "from cvlib.object_detection import draw_bbox\n",
        "from PIL import Image\n",
        "import numpy as np\n",
        "from io import StringIO\n",
        "\n",
        "\n",
        "GENDER_OPTIONS = {\n",
        "    'Empresa' : 0,\n",
        "    'Feminino' : 1,\n",
        "    'Masculino' : 2,\n",
        "    'Não Identificar' : 3,\n",
        "}\n",
        "\n",
        "GENDER_OPTIONS_COMBOBOX = list(GENDER_OPTIONS.keys())\n",
        "\n",
        "def set_page_to_form() :\n",
        "  return st.session_state.update({\"page\": \"form\"})\n",
        "\n",
        "def set_page_to_image() :\n",
        "  return st.session_state.update({\"page\": \"image\"})\n",
        "\n",
        "def code_generator(size=6, chars=string.ascii_uppercase + string.digits):\n",
        "    return \"\".join(random.choice(chars) for _ in range(size))\n",
        "\n",
        "def handle_picture(picture):\n",
        "    return detect_on_image(picture)\n",
        "\n",
        "def detect_on_image(image):\n",
        "  bbox, label, conf = cv.detect_common_objects(image, confidence=0.2)\n",
        "  return draw_bbox(image, bbox, label, conf), label\n",
        "\n",
        "IMAGE = ImageCaptcha()\n",
        "CAPTCHA_CODE = code_generator()\n",
        "\n",
        "################################################3\n",
        "\n",
        "_PERSIST_STATE_KEY = f\"{__name__}_PERSIST\"\n",
        "\n",
        "def persist(key: str) -> str:\n",
        "    if _PERSIST_STATE_KEY not in _state:\n",
        "        _state[_PERSIST_STATE_KEY] = set()\n",
        "\n",
        "    _state[_PERSIST_STATE_KEY].add(key)\n",
        "\n",
        "    return key\n",
        "\n",
        "\n",
        "def load_widget_state():\n",
        "    if _PERSIST_STATE_KEY in _state:\n",
        "        _state.update({\n",
        "            key: value\n",
        "            for key, value in _state.items()\n",
        "            if key in _state[_PERSIST_STATE_KEY]\n",
        "        })\n",
        "\n",
        "####################################\n",
        "\n",
        "def main() :\n",
        "  if \"page\" not in st.session_state:\n",
        "    st.session_state.update({\n",
        "      \"page\": \"form\",\n",
        "      \"name\" : \"\",\n",
        "      \"sobrenome\" : \"\",\n",
        "      \"gender\" : \"Empresa\",\n",
        "      \"age\" : \"\",\n",
        "      \"document\" : \"\"\n",
        "    })\n",
        "\n",
        "  st.set_page_config(page_title=\"Santander\", page_icon=\"🏷️\", layout=\"centered\")\n",
        "\n",
        "  PAGES[st.session_state.page]()\n",
        "\n",
        "def form() :\n",
        "\n",
        "  st.title(\"Cadastro\")\n",
        "\n",
        "  form = st.form(key=\"form\")\n",
        "\n",
        "  with st.form(\"Cadastro\") :\n",
        "      name = st.text_input(\"Nome Completo:\", key=persist(\"name\"))\n",
        "      document = st.text_input(\"Documento:\", key=persist(\"document\"))\n",
        "\n",
        "      colUserInfo = st.columns((2,1))\n",
        "      gender = colUserInfo[0].selectbox(\"Gênero:\", GENDER_OPTIONS_COMBOBOX, key=persist(\"gender\"))\n",
        "      age = colUserInfo[1].text_input(\"Idade:\", key=persist(\"age\"))\n",
        "\n",
        "      captcha_image = IMAGE.generate('AI4UQA')\n",
        "      st.image(captcha_image, use_column_width=True)\n",
        "      captcha_answer = st.text_input(\"Captcha\")\n",
        "      button = st.form_submit_button(label=\"Confirmar\")\n",
        "\n",
        "      if button:\n",
        "        if captcha_answer == 'AI4UQA':\n",
        "          set_page_to_image()\n",
        "        else:\n",
        "          st.warning(\"Erro no Captcha, Tente Novamente!\")\n",
        "\n",
        "def image() :\n",
        "\n",
        "  st.title(\"Verificação de Imagem\")\n",
        "\n",
        "  form = st.form(key=\"form\")\n",
        "\n",
        "  with st.form(\"Verificação de Imagem\"):\n",
        "    image_file = st.file_uploader(\"Envie uma Imagem Segurando um Garfo!\", type=[\"png\",\"jpg\",\"jpeg\"])\n",
        "\n",
        "    colb1, colb2 , colb3 = st.columns(3)\n",
        "\n",
        "    with colb1:\n",
        "        backToHome = st.form_submit_button(label=\"Retornar\")\n",
        "    with colb2:\n",
        "        pass\n",
        "    with colb3:\n",
        "        submitted = st.form_submit_button(label=\"Confirmar Envio\")\n",
        "\n",
        "    if backToHome:\n",
        "      set_page_to_form()\n",
        "    if submitted:\n",
        "      nparr = np.fromstring(image_file.getvalue(), np.uint8)\n",
        "      img_np = cv2.imdecode(nparr, cv2.IMREAD_COLOR)\n",
        "\n",
        "      img, label = handle_picture(img_np)\n",
        "      st.image(img, use_column_width=True)\n",
        "\n",
        "      if 'person' in label and 'fork' in label:\n",
        "        st.success('Cadastro Realizado com Sucesso!')\n",
        "      else:\n",
        "        st.error('Erro no Imagem, Por Favor Envie Outra Imagem Conforme Pedido!')\n",
        "  \n",
        "PAGES = {\n",
        "    \"form\": form,\n",
        "    \"image\": image,\n",
        "}\n",
        "\n",
        "if __name__ == \"__main__\":\n",
        "  load_widget_state()\n",
        "  main()"
      ]
    },
    {
      "cell_type": "code",
      "execution_count": 48,
      "metadata": {
        "colab": {
          "base_uri": "https://localhost:8080/"
        },
        "id": "sCSE-gwC7LT9",
        "outputId": "9b6a277b-dc76-47da-a6d7-eaa3d2d910fb"
      },
      "outputs": [
        {
          "output_type": "stream",
          "name": "stdout",
          "text": [
            "2022-08-28 22:15:48.353 INFO    numexpr.utils: NumExpr defaulting to 2 threads.\n",
            "\u001b[K\u001b[?25hnpx: installed 22 in 2.524s\n",
            "your url is: https://green-eggs-add-35-245-31-20.loca.lt\n",
            "\u001b[0m\n",
            "\u001b[34m\u001b[1m  You can now view your Streamlit app in your browser.\u001b[0m\n",
            "\u001b[0m\n",
            "\u001b[34m  Network URL: \u001b[0m\u001b[1mhttp://172.28.0.2:8501\u001b[0m\n",
            "\u001b[34m  External URL: \u001b[0m\u001b[1mhttp://35.245.31.20:8501\u001b[0m\n",
            "\u001b[0m\n",
            "/content/app.py:126: DeprecationWarning: The binary mode of fromstring is deprecated, as it behaves surprisingly on unicode inputs. Use frombuffer instead\n",
            "  nparr = np.fromstring(image_file.getvalue(), np.uint8)\n",
            "/content/app.py:126: DeprecationWarning: The binary mode of fromstring is deprecated, as it behaves surprisingly on unicode inputs. Use frombuffer instead\n",
            "  nparr = np.fromstring(image_file.getvalue(), np.uint8)\n",
            "/content/app.py:126: DeprecationWarning: The binary mode of fromstring is deprecated, as it behaves surprisingly on unicode inputs. Use frombuffer instead\n",
            "  nparr = np.fromstring(image_file.getvalue(), np.uint8)\n",
            "\u001b[34m  Stopping...\u001b[0m\n",
            "^C\n"
          ]
        }
      ],
      "source": [
        "!streamlit run app.py & npx localtunnel --port 8501"
      ]
    }
  ],
  "metadata": {
    "colab": {
      "collapsed_sections": [],
      "name": "Img_Detection",
      "provenance": []
    },
    "kernelspec": {
      "display_name": "Python 3",
      "name": "python3"
    },
    "language_info": {
      "name": "python"
    }
  },
  "nbformat": 4,
  "nbformat_minor": 0
}