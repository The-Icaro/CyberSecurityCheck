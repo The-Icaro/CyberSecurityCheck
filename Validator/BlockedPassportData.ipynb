{
  "nbformat": 4,
  "nbformat_minor": 0,
  "metadata": {
    "colab": {
      "name": "BlockedPassportData_v2",
      "provenance": [],
      "collapsed_sections": []
    },
    "kernelspec": {
      "name": "python3",
      "display_name": "Python 3"
    },
    "language_info": {
      "name": "python"
    }
  },
  "cells": [
    {
      "cell_type": "code",
      "source": [
        "!pip install -q fuzzywuzzy[speedup]"
      ],
      "metadata": {
        "colab": {
          "base_uri": "https://localhost:8080/"
        },
        "id": "BKhpgZ9PKTnb",
        "outputId": "989aba9f-2dd4-4e46-dfa9-3ea7e3a18125"
      },
      "execution_count": 1,
      "outputs": [
        {
          "output_type": "stream",
          "name": "stdout",
          "text": [
            "\u001b[?25l\r\u001b[K     |██████▌                         | 10 kB 16.7 MB/s eta 0:00:01\r\u001b[K     |█████████████                   | 20 kB 14.3 MB/s eta 0:00:01\r\u001b[K     |███████████████████▌            | 30 kB 10.0 MB/s eta 0:00:01\r\u001b[K     |██████████████████████████      | 40 kB 3.7 MB/s eta 0:00:01\r\u001b[K     |████████████████████████████████| 50 kB 2.4 MB/s \n",
            "\u001b[?25h  Building wheel for python-levenshtein (setup.py) ... \u001b[?25l\u001b[?25hdone\n"
          ]
        }
      ]
    },
    {
      "cell_type": "code",
      "execution_count": 2,
      "metadata": {
        "id": "Ky_C916uX_uR"
      },
      "outputs": [],
      "source": [
        "import json\n",
        "import requests\n",
        "import pandas as pd"
      ]
    },
    {
      "cell_type": "code",
      "source": [
        "df = pd.read_csv('Endpoints.csv')\n",
        "apiNameOptions = df['N'].drop([0,0])\n",
        "apiRoutesOptions = df['Endpoint'].drop([0, 0])\n",
        "apiRoutesOptions = apiRoutesOptions.values.tolist()\n",
        "apiNameOptions = apiNameOptions.values.tolist()\n",
        "\n",
        "apiRoutesOptions[12] = 'https://rodrigofer89.github.io/npl.json'\n",
        "apiRoutesOptions.pop(13)\n",
        "apiNameOptions.pop(13)"
      ],
      "metadata": {
        "colab": {
          "base_uri": "https://localhost:8080/"
        },
        "id": "CHLbOzTd9wvc",
        "outputId": "b9006b04-e0af-4783-c774-c7f245db9d76"
      },
      "execution_count": 9,
      "outputs": [
        {
          "output_type": "execute_result",
          "data": {
            "text/plain": [
              "['https://cspinheiro.github.io/bra2.json',\n",
              " 'https://henricobela.github.io/fra.json',\n",
              " 'https://the-icaro.github.io/ago.json',\n",
              " 'https://isabellitankian.github.io/ita.json',\n",
              " 'https://cesarnorena.github.io/aus.json',\n",
              " 'https://eduardomatoss.github.io/ind.json',\n",
              " 'https://emgabrielly.github.io/mng.json',\n",
              " 'https://educunhamxk.github.io/CAN.json',\n",
              " 'https://dalcol99.github.io/grc.json',\n",
              " 'https://guhdalla.github.io/hun.json',\n",
              " 'https://kndhvh.github.io/arg.json',\n",
              " 'https://victorswory.github.io/irl.json',\n",
              " 'https://rodrigofer89.github.io/npl.json',\n",
              " 'https://rafael-pereira-silva.github.io/bel.json',\n",
              " 'https://rafael-pereira-silva.github.io/bel.json']"
            ]
          },
          "metadata": {},
          "execution_count": 9
        }
      ]
    },
    {
      "cell_type": "code",
      "source": [
        "len(apiNameOptions)"
      ],
      "metadata": {
        "colab": {
          "base_uri": "https://localhost:8080/"
        },
        "id": "Sm-McUEhNRYk",
        "outputId": "8fd430cc-7a70-4142-e8fd-8951c9dceb78"
      },
      "execution_count": 16,
      "outputs": [
        {
          "output_type": "execute_result",
          "data": {
            "text/plain": [
              "15"
            ]
          },
          "metadata": {},
          "execution_count": 16
        }
      ]
    },
    {
      "cell_type": "code",
      "source": [
        "len(apiRoutesOptions)"
      ],
      "metadata": {
        "colab": {
          "base_uri": "https://localhost:8080/"
        },
        "id": "QFEZN_CKNSyF",
        "outputId": "e6ce0d42-40da-4d8e-cf7e-2694a65cf84c"
      },
      "execution_count": 17,
      "outputs": [
        {
          "output_type": "execute_result",
          "data": {
            "text/plain": [
              "15"
            ]
          },
          "metadata": {},
          "execution_count": 17
        }
      ]
    },
    {
      "cell_type": "code",
      "source": [
        "endpointOptions = {apiNameOptions[i]: apiRoutesOptions[i] for i in range(len(apiNameOptions))}\n",
        "endpointOptions"
      ],
      "metadata": {
        "colab": {
          "base_uri": "https://localhost:8080/"
        },
        "id": "abZXlqw6NgUq",
        "outputId": "d5d419ae-5865-420f-b059-2b2acbb5bb29"
      },
      "execution_count": 20,
      "outputs": [
        {
          "output_type": "execute_result",
          "data": {
            "text/plain": [
              "{'AGO': 'https://the-icaro.github.io/ago.json',\n",
              " 'ARG': 'https://kndhvh.github.io/arg.json',\n",
              " 'AUS': 'https://cesarnorena.github.io/aus.json',\n",
              " 'BEL': 'https://rafael-pereira-silva.github.io/bel.json',\n",
              " 'BRA': 'https://cspinheiro.github.io/bra2.json',\n",
              " 'CAN': 'https://educunhamxk.github.io/CAN.json',\n",
              " 'FRA': 'https://henricobela.github.io/fra.json',\n",
              " 'GRC': 'https://dalcol99.github.io/grc.json',\n",
              " 'HUN': 'https://guhdalla.github.io/hun.json',\n",
              " 'IND': 'https://eduardomatoss.github.io/ind.json',\n",
              " 'IRL': 'https://victorswory.github.io/irl.json',\n",
              " 'ITA': 'https://isabellitankian.github.io/ita.json',\n",
              " 'MNG': 'https://emgabrielly.github.io/mng.json',\n",
              " 'NIC': 'https://rafael-pereira-silva.github.io/bel.json',\n",
              " 'NPL': 'https://rodrigofer89.github.io/npl.json'}"
            ]
          },
          "metadata": {},
          "execution_count": 20
        }
      ]
    },
    {
      "cell_type": "code",
      "source": [
        "def handleAirportSelection(selected):\n",
        "  if selected.upper() == 'ALL':\n",
        "    return getAllEndpointsData()\n",
        "  \n",
        "  route = endpointOptions[selected.upper()]\n",
        "  response = requests.get(route).json()\n",
        "\n",
        "  totalData = []\n",
        "  for i in response:\n",
        "    for data in response[i]:\n",
        "      totalData.append(*data.values())\n",
        "\n",
        "  return totalData\n",
        "\n",
        "def getAllEndpointsData():\n",
        "  \n",
        "  totalData = []\n",
        "\n",
        "  for endpoint in endpointOptions.values():\n",
        "    response = requests.get(endpoint).json()\n",
        "    for option in response:\n",
        "      for data in response[option]:\n",
        "        totalData.append(*data.values())\n",
        "\n",
        "  return totalData\n",
        "\n",
        "def handleBlockedPassports(passportNumber, airport):\n",
        "\n",
        "  passport = re.findall('[0-9]+', passportNumber)\n",
        "\n",
        "  blockedData = handleAirportSelection(airport)\n",
        "\n",
        "  if int(passport[0]) in blockedData:\n",
        "    return 'Proibido'\n",
        "  \n",
        "  return 'Permitido'"
      ],
      "metadata": {
        "id": "dYifyV1I-gjV"
      },
      "execution_count": 74,
      "outputs": []
    }
  ]
}