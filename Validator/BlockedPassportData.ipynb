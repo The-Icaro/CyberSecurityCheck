{
  "cells": [
    {
      "cell_type": "code",
      "execution_count": 1,
      "metadata": {
        "colab": {
          "base_uri": "https://localhost:8080/"
        },
        "id": "BKhpgZ9PKTnb",
        "outputId": "09befc28-80cb-4368-c3be-adaf57b043f3"
      },
      "outputs": [
        {
          "name": "stdout",
          "output_type": "stream",
          "text": [
            "\u001b[?25l\r\u001b[K     |██████▌                         | 10 kB 16.7 MB/s eta 0:00:01\r\u001b[K     |█████████████                   | 20 kB 21.9 MB/s eta 0:00:01\r\u001b[K     |███████████████████▌            | 30 kB 14.9 MB/s eta 0:00:01\r\u001b[K     |██████████████████████████      | 40 kB 5.1 MB/s eta 0:00:01\r\u001b[K     |████████████████████████████████| 50 kB 2.7 MB/s \n",
            "\u001b[?25h  Building wheel for python-levenshtein (setup.py) ... \u001b[?25l\u001b[?25hdone\n"
          ]
        }
      ],
      "source": [
        "!pip install -q fuzzywuzzy[speedup]"
      ]
    },
    {
      "cell_type": "code",
      "execution_count": 2,
      "metadata": {
        "id": "Ky_C916uX_uR"
      },
      "outputs": [],
      "source": [
        "import json\n",
        "import requests\n",
        "import pandas as pd"
      ]
    },
    {
      "cell_type": "code",
      "execution_count": 4,
      "metadata": {
        "id": "CHLbOzTd9wvc"
      },
      "outputs": [],
      "source": [
        "df = pd.read_csv('Endpoints.csv')\n",
        "apiNameOptions = df['N'].drop([0,0])\n",
        "apiRoutesOptions = df['Endpoint'].drop([0, 0])\n",
        "apiRoutesOptions = apiRoutesOptions.values.tolist()\n",
        "apiNameOptions = apiNameOptions.values.tolist()\n",
        "\n",
        "apiRoutesOptions[12] = 'https://rodrigofer89.github.io/npl.json'"
      ]
    },
    {
      "cell_type": "code",
      "execution_count": 5,
      "metadata": {
        "colab": {
          "base_uri": "https://localhost:8080/"
        },
        "id": "Sm-McUEhNRYk",
        "outputId": "3aebfe89-9966-4ae1-975e-4a8fbb6ae19b"
      },
      "outputs": [
        {
          "data": {
            "text/plain": [
              "16"
            ]
          },
          "execution_count": 5,
          "metadata": {},
          "output_type": "execute_result"
        }
      ],
      "source": [
        "len(apiNameOptions)"
      ]
    },
    {
      "cell_type": "code",
      "execution_count": 6,
      "metadata": {
        "colab": {
          "base_uri": "https://localhost:8080/"
        },
        "id": "QFEZN_CKNSyF",
        "outputId": "66ff3cb8-f48a-4f11-f8dc-d68283415b0b"
      },
      "outputs": [
        {
          "data": {
            "text/plain": [
              "16"
            ]
          },
          "execution_count": 6,
          "metadata": {},
          "output_type": "execute_result"
        }
      ],
      "source": [
        "len(apiRoutesOptions)"
      ]
    },
    {
      "cell_type": "code",
      "execution_count": 7,
      "metadata": {
        "colab": {
          "base_uri": "https://localhost:8080/"
        },
        "id": "abZXlqw6NgUq",
        "outputId": "40d53647-ef90-4e77-9a78-e28b1750703c"
      },
      "outputs": [
        {
          "data": {
            "text/plain": [
              "{'AGO': 'https://the-icaro.github.io/ago.json',\n",
              " 'ARG': 'https://kndhvh.github.io/arg.json',\n",
              " 'AUS': 'https://cesarnorena.github.io/aus.json',\n",
              " 'BEL': 'https://rafael-pereira-silva.github.io/bel.json',\n",
              " 'BRA': 'https://cspinheiro.github.io/bra2.json',\n",
              " 'CAN': 'https://educunhamxk.github.io/CAN.json',\n",
              " 'FRA': 'https://henricobela.github.io/fra.json',\n",
              " 'GRC': 'https://dalcol99.github.io/grc.json',\n",
              " 'HUN': 'https://guhdalla.github.io/hun.json',\n",
              " 'IND': 'https://eduardomatoss.github.io/ind.json',\n",
              " 'IRL': 'https://victorswory.github.io/irl.json',\n",
              " 'IRQ': 'https://felps2003.github.io/irq.json',\n",
              " 'ITA': 'https://isabellitankian.github.io/ita.json',\n",
              " 'MNG': 'https://emgabrielly.github.io/mng.json',\n",
              " 'NIC': 'https://rafael-pereira-silva.github.io/bel.json',\n",
              " 'NPL': 'https://rodrigofer89.github.io/npl.json'}"
            ]
          },
          "execution_count": 7,
          "metadata": {},
          "output_type": "execute_result"
        }
      ],
      "source": [
        "endpointOptions = {apiNameOptions[i]: apiRoutesOptions[i] for i in range(len(apiNameOptions))}\n",
        "endpointOptions"
      ]
    },
    {
      "cell_type": "code",
      "execution_count": 8,
      "metadata": {
        "id": "dYifyV1I-gjV"
      },
      "outputs": [],
      "source": [
        "def handleAirportSelection(airport: str, allAirports : bool):\n",
        "  if allAirports:\n",
        "    return getAllEndpointsData()\n",
        "  \n",
        "  route = endpointOptions[airport.upper()]\n",
        "  response = requests.get(route).json()\n",
        "\n",
        "  totalData = []\n",
        "  for i in response:\n",
        "    for data in response[i]:\n",
        "      totalData.append(*data.values())\n",
        "\n",
        "  return totalData\n",
        "\n",
        "def getAllEndpointsData():\n",
        "  \n",
        "  totalData = []\n",
        "\n",
        "  for endpoint in endpointOptions.values():\n",
        "    response = requests.get(endpoint).json()\n",
        "    for option in response:\n",
        "      for data in response[option]:\n",
        "        totalData.append(*data.values())\n",
        "\n",
        "  return totalData\n",
        "\n",
        "def handleBlockedPassports(passportNumber, allAirport):\n",
        "\n",
        "  passportLocation = re.findall('[a-zA-Z]+', passportNumber)\n",
        "  passport = re.findall('[0-9]+', passportNumber)\n",
        "\n",
        "  if not passportLocation:\n",
        "    allAirport = True\n",
        "    passportLocation = ''\n",
        "  else :\n",
        "    passportLocation = str(passportLocation[0])\n",
        "  \n",
        "  if not passport:\n",
        "    st.warning(\"Por favor informe o número do seu passaporte!\")\n",
        "    return\n",
        "\n",
        "  blockedData = handleAirportSelection(passportLocation, allAirport)\n",
        "\n",
        "  if int(passport[0]) in blockedData:\n",
        "    return 'Proibido'\n",
        "  \n",
        "  return 'Permitido'"
      ]
    }
  ],
  "metadata": {
    "colab": {
      "collapsed_sections": [],
      "name": "BlockedPassportData_v3",
      "provenance": []
    },
    "kernelspec": {
      "display_name": "Python 3",
      "name": "python3"
    },
    "language_info": {
      "name": "python"
    }
  },
  "nbformat": 4,
  "nbformat_minor": 0
}
