{
  "nbformat": 4,
  "nbformat_minor": 0,
  "metadata": {
    "colab": {
      "name": "BlockedPassportData",
      "provenance": [],
      "collapsed_sections": []
    },
    "kernelspec": {
      "name": "python3",
      "display_name": "Python 3"
    },
    "language_info": {
      "name": "python"
    }
  },
  "cells": [
    {
      "cell_type": "code",
      "execution_count": 1,
      "metadata": {
        "id": "Ky_C916uX_uR"
      },
      "outputs": [],
      "source": [
        "import json\n",
        "import requests\n",
        "import re"
      ]
    },
    {
      "cell_type": "code",
      "source": [
        "passportData = requests.get('https://the-icaro.github.io/ago.json')\n",
        "passportData.json()['ago'][0]"
      ],
      "metadata": {
        "colab": {
          "base_uri": "https://localhost:8080/"
        },
        "id": "CHLbOzTd9wvc",
        "outputId": "9a6e202a-c990-4710-db98-e048b8e4aa73"
      },
      "execution_count": 6,
      "outputs": [
        {
          "output_type": "execute_result",
          "data": {
            "text/plain": [
              "{'ago': 618716795}"
            ]
          },
          "metadata": {},
          "execution_count": 6
        }
      ]
    },
    {
      "cell_type": "code",
      "source": [
        "def handleBlockedPassports(passportNumber):\n",
        "\n",
        "  passport = re.findall('[0-9]+', passportNumber)\n",
        "\n",
        "  blockedData = passportData.json()['ago']\n",
        "\n",
        "  for data in blockedData:\n",
        "    for i, v in data.items():\n",
        "      if str(passport[0]) == str(v):\n",
        "        return 'Proibido'\n",
        "  \n",
        "  return 'Permitido'"
      ],
      "metadata": {
        "id": "dYifyV1I-gjV"
      },
      "execution_count": 8,
      "outputs": []
    },
    {
      "cell_type": "code",
      "source": [
        "print(handleBlockedPassports(str(input('Digite Seu Passaporte :'))))"
      ],
      "metadata": {
        "colab": {
          "base_uri": "https://localhost:8080/"
        },
        "id": "WN-Mxxlo_f06",
        "outputId": "9023787d-73ee-4680-d320-20232b9a1f52"
      },
      "execution_count": 9,
      "outputs": [
        {
          "output_type": "stream",
          "name": "stdout",
          "text": [
            "Digite Seu Passaporte :AGO618716795\n",
            "Proibido\n"
          ]
        }
      ]
    }
  ]
}