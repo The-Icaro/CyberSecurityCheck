{
  "cells": [
    {
      "cell_type": "code",
      "execution_count": 1,
      "metadata": {
        "colab": {
          "base_uri": "https://localhost:8080/"
        },
        "id": "vH2xUPL7LhII",
        "outputId": "22ea6109-802a-4330-8a8b-6be36afa9b36"
      },
      "outputs": [
        {
          "name": "stdout",
          "output_type": "stream",
          "text": [
            "\u001b[?25l\r\u001b[K     |▍                               | 10 kB 17.7 MB/s eta 0:00:01\r\u001b[K     |▉                               | 20 kB 20.2 MB/s eta 0:00:01\r\u001b[K     |█▎                              | 30 kB 23.7 MB/s eta 0:00:01\r\u001b[K     |█▊                              | 40 kB 21.3 MB/s eta 0:00:01\r\u001b[K     |██▏                             | 51 kB 16.6 MB/s eta 0:00:01\r\u001b[K     |██▋                             | 61 kB 18.7 MB/s eta 0:00:01\r\u001b[K     |███                             | 71 kB 18.4 MB/s eta 0:00:01\r\u001b[K     |███▌                            | 81 kB 19.6 MB/s eta 0:00:01\r\u001b[K     |████                            | 92 kB 20.9 MB/s eta 0:00:01\r\u001b[K     |████▍                           | 102 kB 20.4 MB/s eta 0:00:01\r\u001b[K     |████▉                           | 112 kB 20.4 MB/s eta 0:00:01\r\u001b[K     |█████▎                          | 122 kB 20.4 MB/s eta 0:00:01\r\u001b[K     |█████▊                          | 133 kB 20.4 MB/s eta 0:00:01\r\u001b[K     |██████▏                         | 143 kB 20.4 MB/s eta 0:00:01\r\u001b[K     |██████▋                         | 153 kB 20.4 MB/s eta 0:00:01\r\u001b[K     |███████                         | 163 kB 20.4 MB/s eta 0:00:01\r\u001b[K     |███████▌                        | 174 kB 20.4 MB/s eta 0:00:01\r\u001b[K     |████████                        | 184 kB 20.4 MB/s eta 0:00:01\r\u001b[K     |████████▍                       | 194 kB 20.4 MB/s eta 0:00:01\r\u001b[K     |████████▉                       | 204 kB 20.4 MB/s eta 0:00:01\r\u001b[K     |█████████▎                      | 215 kB 20.4 MB/s eta 0:00:01\r\u001b[K     |█████████▊                      | 225 kB 20.4 MB/s eta 0:00:01\r\u001b[K     |██████████▏                     | 235 kB 20.4 MB/s eta 0:00:01\r\u001b[K     |██████████▌                     | 245 kB 20.4 MB/s eta 0:00:01\r\u001b[K     |███████████                     | 256 kB 20.4 MB/s eta 0:00:01\r\u001b[K     |███████████▍                    | 266 kB 20.4 MB/s eta 0:00:01\r\u001b[K     |███████████▉                    | 276 kB 20.4 MB/s eta 0:00:01\r\u001b[K     |████████████▎                   | 286 kB 20.4 MB/s eta 0:00:01\r\u001b[K     |████████████▊                   | 296 kB 20.4 MB/s eta 0:00:01\r\u001b[K     |█████████████▏                  | 307 kB 20.4 MB/s eta 0:00:01\r\u001b[K     |█████████████▋                  | 317 kB 20.4 MB/s eta 0:00:01\r\u001b[K     |██████████████                  | 327 kB 20.4 MB/s eta 0:00:01\r\u001b[K     |██████████████▌                 | 337 kB 20.4 MB/s eta 0:00:01\r\u001b[K     |███████████████                 | 348 kB 20.4 MB/s eta 0:00:01\r\u001b[K     |███████████████▍                | 358 kB 20.4 MB/s eta 0:00:01\r\u001b[K     |███████████████▉                | 368 kB 20.4 MB/s eta 0:00:01\r\u001b[K     |████████████████▎               | 378 kB 20.4 MB/s eta 0:00:01\r\u001b[K     |████████████████▊               | 389 kB 20.4 MB/s eta 0:00:01\r\u001b[K     |█████████████████▏              | 399 kB 20.4 MB/s eta 0:00:01\r\u001b[K     |█████████████████▋              | 409 kB 20.4 MB/s eta 0:00:01\r\u001b[K     |██████████████████              | 419 kB 20.4 MB/s eta 0:00:01\r\u001b[K     |██████████████████▌             | 430 kB 20.4 MB/s eta 0:00:01\r\u001b[K     |███████████████████             | 440 kB 20.4 MB/s eta 0:00:01\r\u001b[K     |███████████████████▍            | 450 kB 20.4 MB/s eta 0:00:01\r\u001b[K     |███████████████████▉            | 460 kB 20.4 MB/s eta 0:00:01\r\u001b[K     |████████████████████▎           | 471 kB 20.4 MB/s eta 0:00:01\r\u001b[K     |████████████████████▋           | 481 kB 20.4 MB/s eta 0:00:01\r\u001b[K     |█████████████████████           | 491 kB 20.4 MB/s eta 0:00:01\r\u001b[K     |█████████████████████▌          | 501 kB 20.4 MB/s eta 0:00:01\r\u001b[K     |██████████████████████          | 512 kB 20.4 MB/s eta 0:00:01\r\u001b[K     |██████████████████████▍         | 522 kB 20.4 MB/s eta 0:00:01\r\u001b[K     |██████████████████████▉         | 532 kB 20.4 MB/s eta 0:00:01\r\u001b[K     |███████████████████████▎        | 542 kB 20.4 MB/s eta 0:00:01\r\u001b[K     |███████████████████████▊        | 552 kB 20.4 MB/s eta 0:00:01\r\u001b[K     |████████████████████████▏       | 563 kB 20.4 MB/s eta 0:00:01\r\u001b[K     |████████████████████████▋       | 573 kB 20.4 MB/s eta 0:00:01\r\u001b[K     |█████████████████████████       | 583 kB 20.4 MB/s eta 0:00:01\r\u001b[K     |█████████████████████████▌      | 593 kB 20.4 MB/s eta 0:00:01\r\u001b[K     |██████████████████████████      | 604 kB 20.4 MB/s eta 0:00:01\r\u001b[K     |██████████████████████████▍     | 614 kB 20.4 MB/s eta 0:00:01\r\u001b[K     |██████████████████████████▉     | 624 kB 20.4 MB/s eta 0:00:01\r\u001b[K     |███████████████████████████▎    | 634 kB 20.4 MB/s eta 0:00:01\r\u001b[K     |███████████████████████████▊    | 645 kB 20.4 MB/s eta 0:00:01\r\u001b[K     |████████████████████████████▏   | 655 kB 20.4 MB/s eta 0:00:01\r\u001b[K     |████████████████████████████▋   | 665 kB 20.4 MB/s eta 0:00:01\r\u001b[K     |█████████████████████████████   | 675 kB 20.4 MB/s eta 0:00:01\r\u001b[K     |█████████████████████████████▌  | 686 kB 20.4 MB/s eta 0:00:01\r\u001b[K     |██████████████████████████████  | 696 kB 20.4 MB/s eta 0:00:01\r\u001b[K     |██████████████████████████████▍ | 706 kB 20.4 MB/s eta 0:00:01\r\u001b[K     |██████████████████████████████▊ | 716 kB 20.4 MB/s eta 0:00:01\r\u001b[K     |███████████████████████████████▏| 727 kB 20.4 MB/s eta 0:00:01\r\u001b[K     |███████████████████████████████▋| 737 kB 20.4 MB/s eta 0:00:01\r\u001b[K     |████████████████████████████████| 745 kB 20.4 MB/s \n",
            "\u001b[?25h  Building wheel for pyngrok (setup.py) ... \u001b[?25l\u001b[?25hdone\n"
          ]
        }
      ],
      "source": [
        "!pip install -q pyngrok"
      ]
    },
    {
      "cell_type": "code",
      "execution_count": 3,
      "metadata": {
        "id": "_0yW6xxVLj70"
      },
      "outputs": [],
      "source": [
        "!pip install -q streamlit"
      ]
    },
    {
      "cell_type": "code",
      "execution_count": 4,
      "metadata": {
        "colab": {
          "base_uri": "https://localhost:8080/"
        },
        "id": "EbEk9X3fLlQy",
        "outputId": "813cd906-c49d-4767-c857-7b0ca57cf001"
      },
      "outputs": [
        {
          "name": "stdout",
          "output_type": "stream",
          "text": [
            "\u001b[K     |████████████████████████████████| 3.6 MB 30.6 MB/s \n",
            "\u001b[?25h"
          ]
        }
      ],
      "source": [
        "!pip install -q streamlit-ace"
      ]
    },
    {
      "cell_type": "code",
      "execution_count": 5,
      "metadata": {
        "colab": {
          "base_uri": "https://localhost:8080/"
        },
        "id": "nnQ9k78zLnci",
        "outputId": "fdb574d9-effb-46b9-d5cc-fd25747af4ef"
      },
      "outputs": [
        {
          "name": "stdout",
          "output_type": "stream",
          "text": [
            "\u001b[?25l\r\u001b[K     |██████▌                         | 10 kB 23.2 MB/s eta 0:00:01\r\u001b[K     |█████████████                   | 20 kB 30.0 MB/s eta 0:00:01\r\u001b[K     |███████████████████▌            | 30 kB 35.3 MB/s eta 0:00:01\r\u001b[K     |██████████████████████████      | 40 kB 40.1 MB/s eta 0:00:01\r\u001b[K     |████████████████████████████████| 50 kB 5.4 MB/s \n",
            "\u001b[?25h  Building wheel for python-levenshtein (setup.py) ... \u001b[?25l\u001b[?25hdone\n"
          ]
        }
      ],
      "source": [
        "!pip install -q fuzzywuzzy[speedup]"
      ]
    },
    {
      "cell_type": "code",
      "execution_count": 6,
      "metadata": {
        "id": "wickCeN4LpNB"
      },
      "outputs": [],
      "source": [
        "!streamlit run app.py &>/dev/null&"
      ]
    },
    {
      "cell_type": "code",
      "execution_count": 7,
      "metadata": {
        "id": "83cBgt0OLqsx"
      },
      "outputs": [],
      "source": [
        "from pyngrok import ngrok"
      ]
    },
    {
      "cell_type": "code",
      "execution_count": 13,
      "metadata": {
        "colab": {
          "base_uri": "https://localhost:8080/"
        },
        "id": "zkz4BqByL6xD",
        "outputId": "1da45e11-13fe-40b4-9712-b9003e40908a"
      },
      "outputs": [
        {
          "name": "stdout",
          "output_type": "stream",
          "text": [
            "Overwriting app.py\n"
          ]
        }
      ],
      "source": [
        "%%writefile app.py\n",
        "import streamlit as st\n",
        "import re\n",
        "from fuzzywuzzy import process\n",
        "import json\n",
        "import requests\n",
        "import pandas as pd\n",
        "\n",
        "\n",
        "def main():\n",
        "\n",
        "  namesData = requests.get('https://cspinheiro.github.io/interpol.json')\n",
        "\n",
        "  df = pd.read_csv('Endpoints.csv')\n",
        "  apiNameOptions = df['N'].drop([0,0])\n",
        "  apiRoutesOptions = df['Endpoint'].drop([0, 0])\n",
        "  apiRoutesOptions = apiRoutesOptions.values.tolist()\n",
        "  apiNameOptions = apiNameOptions.values.tolist()\n",
        "\n",
        "  apiRoutesOptions[12] = 'https://rodrigofer89.github.io/npl.json'\n",
        "  apiRoutesOptions.pop(13)\n",
        "  apiNameOptions.pop(13)\n",
        "\n",
        "\n",
        "  endpointOptions = {apiNameOptions[i]: apiRoutesOptions[i] for i in range(len(apiNameOptions))}\n",
        "\n",
        "  def handleAirportSelection(selected):\n",
        "    if selected.upper() == 'ALL':\n",
        "      return getAllEndpointsData()\n",
        "    \n",
        "    route = endpointOptions[selected.upper()]\n",
        "    response = requests.get(route).json()\n",
        "\n",
        "    totalData = []\n",
        "    for i in response:\n",
        "      for data in response[i]:\n",
        "        totalData.append(*data.values())\n",
        "\n",
        "    return totalData\n",
        "\n",
        "  def getAllEndpointsData():\n",
        "    \n",
        "    totalData = []\n",
        "\n",
        "    for endpoint in endpointOptions.values():\n",
        "      response = requests.get(endpoint).json()\n",
        "      for option in response:\n",
        "        for data in response[option]:\n",
        "          totalData.append(*data.values())\n",
        "\n",
        "    return totalData\n",
        "\n",
        "  def handleBlockedPassports(passportNumber, airport):\n",
        "\n",
        "    passport = re.findall('[0-9]+', passportNumber)\n",
        "\n",
        "    blockedData = handleAirportSelection(airport)\n",
        "\n",
        "    if int(passport[0]) in blockedData:\n",
        "      return 'Proibido'\n",
        "    \n",
        "    return 'Permitido'\n",
        "\n",
        "  def handleBlockedPersons(name):\n",
        "\n",
        "    blockedNamesData = namesData.json()['interpol']\n",
        "\n",
        "    blocked = []\n",
        "\n",
        "    for data in blockedNamesData:\n",
        "      for i, v in data.items():\n",
        "        blocked.append(v)\n",
        "\n",
        "    searchList = process.extract(str(name), blocked)\n",
        "\n",
        "    for i in searchList:\n",
        "      if i[1] >= 72:\n",
        "        return 'Proibido'\n",
        "\n",
        "      return 'Permitido'\n",
        "\n",
        "\n",
        "  def handleImigrate(name, passportNumber, airport):\n",
        "\n",
        "      passport = handleBlockedPassports(passportNumber, airport)\n",
        "\n",
        "      person = handleBlockedPersons(name)\n",
        "\n",
        "      if passport == 'Proibido' or person == 'Proibido':\n",
        "         st.error(\"Você não está permitido entrar nesse País\")\n",
        "         return\n",
        "      \n",
        "      st.success(\"Você pode entrar nesse País\")\n",
        "      return\n",
        "\n",
        "  st.set_page_config(page_title=\"Aeroporto\", page_icon=\"✈️\", layout=\"centered\")\n",
        "  st.title(\"📋 Segurança do Aeroporto\")\n",
        "  form = st.form(key=\"form\")\n",
        "\n",
        "  apiNameOptions.append('ALL')\n",
        "\n",
        "  with form:\n",
        "    name = st.text_input(\"Nome Completo:\")\n",
        "    cols = st.columns((1, 1))\n",
        "    passport = cols[0].text_input(\"Número do Passaporte:\")\n",
        "    airport = cols[1].selectbox(\"Escolha o Aeroporto:\", apiNameOptions)\n",
        "    submitted = st.form_submit_button(label=\"Verificar\")\n",
        "\n",
        "  if submitted:\n",
        "    if not name or not passport:\n",
        "      st.warning(\"Preencha todos os Campos!\")\n",
        "    else :\n",
        "      handleImigrate(name, passport, airport)\n",
        "\n",
        "if __name__ == '__main__':\n",
        "  main()"
      ]
    },
    {
      "cell_type": "code",
      "execution_count": 14,
      "metadata": {
        "colab": {
          "base_uri": "https://localhost:8080/"
        },
        "id": "m4NbTnzEoYgQ",
        "outputId": "9ab948a3-c8e1-4c6b-e2a6-abf5df18a4da"
      },
      "outputs": [
        {
          "name": "stdout",
          "output_type": "stream",
          "text": [
            "2022-04-21 18:41:15.915 INFO    numexpr.utils: NumExpr defaulting to 2 threads.\n",
            "\u001b[K\u001b[?25hnpx: installed 22 in 2.415s\n",
            "your url is: https://short-yak-2.loca.lt\n",
            "\u001b[0m\n",
            "\u001b[34m\u001b[1m  You can now view your Streamlit app in your browser.\u001b[0m\n",
            "\u001b[0m\n",
            "\u001b[34m  Network URL: \u001b[0m\u001b[1mhttp://172.28.0.2:8501\u001b[0m\n",
            "\u001b[34m  External URL: \u001b[0m\u001b[1mhttp://35.245.210.145:8501\u001b[0m\n",
            "\u001b[0m\n",
            "\u001b[34m  Stopping...\u001b[0m\n",
            "^C\n"
          ]
        }
      ],
      "source": [
        "!streamlit run app.py & npx localtunnel --port 8501"
      ]
    }
  ],
  "metadata": {
    "colab": {
      "collapsed_sections": [],
      "name": "CheckpointCyber.v3",
      "provenance": []
    },
    "kernelspec": {
      "display_name": "Python 3",
      "name": "python3"
    },
    "language_info": {
      "name": "python"
    }
  },
  "nbformat": 4,
  "nbformat_minor": 0
}
