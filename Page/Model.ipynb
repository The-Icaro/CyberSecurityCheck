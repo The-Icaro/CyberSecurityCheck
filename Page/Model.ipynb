{
  "cells": [
    {
      "cell_type": "code",
      "execution_count": 1,
      "metadata": {
        "colab": {
          "base_uri": "https://localhost:8080/"
        },
        "id": "vH2xUPL7LhII",
        "outputId": "6ff76aa6-29ad-4e0e-9dbe-cd8c379cbaaf"
      },
      "outputs": [
        {
          "output_type": "stream",
          "name": "stdout",
          "text": [
            "\u001b[?25l\r\u001b[K     |▍                               | 10 kB 23.3 MB/s eta 0:00:01\r\u001b[K     |▉                               | 20 kB 13.0 MB/s eta 0:00:01\r\u001b[K     |█▎                              | 30 kB 9.3 MB/s eta 0:00:01\r\u001b[K     |█▊                              | 40 kB 8.9 MB/s eta 0:00:01\r\u001b[K     |██▏                             | 51 kB 4.6 MB/s eta 0:00:01\r\u001b[K     |██▋                             | 61 kB 5.4 MB/s eta 0:00:01\r\u001b[K     |███                             | 71 kB 5.6 MB/s eta 0:00:01\r\u001b[K     |███▌                            | 81 kB 5.5 MB/s eta 0:00:01\r\u001b[K     |████                            | 92 kB 6.1 MB/s eta 0:00:01\r\u001b[K     |████▍                           | 102 kB 5.2 MB/s eta 0:00:01\r\u001b[K     |████▉                           | 112 kB 5.2 MB/s eta 0:00:01\r\u001b[K     |█████▎                          | 122 kB 5.2 MB/s eta 0:00:01\r\u001b[K     |█████▊                          | 133 kB 5.2 MB/s eta 0:00:01\r\u001b[K     |██████▏                         | 143 kB 5.2 MB/s eta 0:00:01\r\u001b[K     |██████▋                         | 153 kB 5.2 MB/s eta 0:00:01\r\u001b[K     |███████                         | 163 kB 5.2 MB/s eta 0:00:01\r\u001b[K     |███████▌                        | 174 kB 5.2 MB/s eta 0:00:01\r\u001b[K     |████████                        | 184 kB 5.2 MB/s eta 0:00:01\r\u001b[K     |████████▍                       | 194 kB 5.2 MB/s eta 0:00:01\r\u001b[K     |████████▉                       | 204 kB 5.2 MB/s eta 0:00:01\r\u001b[K     |█████████▎                      | 215 kB 5.2 MB/s eta 0:00:01\r\u001b[K     |█████████▊                      | 225 kB 5.2 MB/s eta 0:00:01\r\u001b[K     |██████████▏                     | 235 kB 5.2 MB/s eta 0:00:01\r\u001b[K     |██████████▌                     | 245 kB 5.2 MB/s eta 0:00:01\r\u001b[K     |███████████                     | 256 kB 5.2 MB/s eta 0:00:01\r\u001b[K     |███████████▍                    | 266 kB 5.2 MB/s eta 0:00:01\r\u001b[K     |███████████▉                    | 276 kB 5.2 MB/s eta 0:00:01\r\u001b[K     |████████████▎                   | 286 kB 5.2 MB/s eta 0:00:01\r\u001b[K     |████████████▊                   | 296 kB 5.2 MB/s eta 0:00:01\r\u001b[K     |█████████████▏                  | 307 kB 5.2 MB/s eta 0:00:01\r\u001b[K     |█████████████▋                  | 317 kB 5.2 MB/s eta 0:00:01\r\u001b[K     |██████████████                  | 327 kB 5.2 MB/s eta 0:00:01\r\u001b[K     |██████████████▌                 | 337 kB 5.2 MB/s eta 0:00:01\r\u001b[K     |███████████████                 | 348 kB 5.2 MB/s eta 0:00:01\r\u001b[K     |███████████████▍                | 358 kB 5.2 MB/s eta 0:00:01\r\u001b[K     |███████████████▉                | 368 kB 5.2 MB/s eta 0:00:01\r\u001b[K     |████████████████▎               | 378 kB 5.2 MB/s eta 0:00:01\r\u001b[K     |████████████████▊               | 389 kB 5.2 MB/s eta 0:00:01\r\u001b[K     |█████████████████▏              | 399 kB 5.2 MB/s eta 0:00:01\r\u001b[K     |█████████████████▋              | 409 kB 5.2 MB/s eta 0:00:01\r\u001b[K     |██████████████████              | 419 kB 5.2 MB/s eta 0:00:01\r\u001b[K     |██████████████████▌             | 430 kB 5.2 MB/s eta 0:00:01\r\u001b[K     |███████████████████             | 440 kB 5.2 MB/s eta 0:00:01\r\u001b[K     |███████████████████▍            | 450 kB 5.2 MB/s eta 0:00:01\r\u001b[K     |███████████████████▉            | 460 kB 5.2 MB/s eta 0:00:01\r\u001b[K     |████████████████████▎           | 471 kB 5.2 MB/s eta 0:00:01\r\u001b[K     |████████████████████▋           | 481 kB 5.2 MB/s eta 0:00:01\r\u001b[K     |█████████████████████           | 491 kB 5.2 MB/s eta 0:00:01\r\u001b[K     |█████████████████████▌          | 501 kB 5.2 MB/s eta 0:00:01\r\u001b[K     |██████████████████████          | 512 kB 5.2 MB/s eta 0:00:01\r\u001b[K     |██████████████████████▍         | 522 kB 5.2 MB/s eta 0:00:01\r\u001b[K     |██████████████████████▉         | 532 kB 5.2 MB/s eta 0:00:01\r\u001b[K     |███████████████████████▎        | 542 kB 5.2 MB/s eta 0:00:01\r\u001b[K     |███████████████████████▊        | 552 kB 5.2 MB/s eta 0:00:01\r\u001b[K     |████████████████████████▏       | 563 kB 5.2 MB/s eta 0:00:01\r\u001b[K     |████████████████████████▋       | 573 kB 5.2 MB/s eta 0:00:01\r\u001b[K     |█████████████████████████       | 583 kB 5.2 MB/s eta 0:00:01\r\u001b[K     |█████████████████████████▌      | 593 kB 5.2 MB/s eta 0:00:01\r\u001b[K     |██████████████████████████      | 604 kB 5.2 MB/s eta 0:00:01\r\u001b[K     |██████████████████████████▍     | 614 kB 5.2 MB/s eta 0:00:01\r\u001b[K     |██████████████████████████▉     | 624 kB 5.2 MB/s eta 0:00:01\r\u001b[K     |███████████████████████████▎    | 634 kB 5.2 MB/s eta 0:00:01\r\u001b[K     |███████████████████████████▊    | 645 kB 5.2 MB/s eta 0:00:01\r\u001b[K     |████████████████████████████▏   | 655 kB 5.2 MB/s eta 0:00:01\r\u001b[K     |████████████████████████████▋   | 665 kB 5.2 MB/s eta 0:00:01\r\u001b[K     |█████████████████████████████   | 675 kB 5.2 MB/s eta 0:00:01\r\u001b[K     |█████████████████████████████▌  | 686 kB 5.2 MB/s eta 0:00:01\r\u001b[K     |██████████████████████████████  | 696 kB 5.2 MB/s eta 0:00:01\r\u001b[K     |██████████████████████████████▍ | 706 kB 5.2 MB/s eta 0:00:01\r\u001b[K     |██████████████████████████████▊ | 716 kB 5.2 MB/s eta 0:00:01\r\u001b[K     |███████████████████████████████▏| 727 kB 5.2 MB/s eta 0:00:01\r\u001b[K     |███████████████████████████████▋| 737 kB 5.2 MB/s eta 0:00:01\r\u001b[K     |████████████████████████████████| 745 kB 5.2 MB/s \n",
            "\u001b[?25h  Building wheel for pyngrok (setup.py) ... \u001b[?25l\u001b[?25hdone\n"
          ]
        }
      ],
      "source": [
        "!pip install -q pyngrok"
      ]
    },
    {
      "cell_type": "code",
      "execution_count": 2,
      "metadata": {
        "colab": {
          "base_uri": "https://localhost:8080/"
        },
        "id": "_0yW6xxVLj70",
        "outputId": "df4127de-b378-4c5c-9b38-980a72ba46da"
      },
      "outputs": [
        {
          "output_type": "stream",
          "name": "stdout",
          "text": [
            "\u001b[K     |████████████████████████████████| 10.1 MB 4.9 MB/s \n",
            "\u001b[K     |████████████████████████████████| 164 kB 34.1 MB/s \n",
            "\u001b[K     |████████████████████████████████| 4.3 MB 25.5 MB/s \n",
            "\u001b[K     |████████████████████████████████| 111 kB 39.9 MB/s \n",
            "\u001b[K     |████████████████████████████████| 76 kB 3.8 MB/s \n",
            "\u001b[K     |████████████████████████████████| 181 kB 58.1 MB/s \n",
            "\u001b[K     |████████████████████████████████| 63 kB 1.3 MB/s \n",
            "\u001b[K     |████████████████████████████████| 131 kB 57.0 MB/s \n",
            "\u001b[K     |████████████████████████████████| 428 kB 49.0 MB/s \n",
            "\u001b[K     |████████████████████████████████| 130 kB 59.4 MB/s \n",
            "\u001b[K     |████████████████████████████████| 793 kB 54.4 MB/s \n",
            "\u001b[K     |████████████████████████████████| 381 kB 56.9 MB/s \n",
            "\u001b[?25h  Building wheel for blinker (setup.py) ... \u001b[?25l\u001b[?25hdone\n",
            "\u001b[31mERROR: pip's dependency resolver does not currently take into account all the packages that are installed. This behaviour is the source of the following dependency conflicts.\n",
            "jupyter-console 5.2.0 requires prompt-toolkit<2.0.0,>=1.0.0, but you have prompt-toolkit 3.0.29 which is incompatible.\n",
            "google-colab 1.0.0 requires ipykernel~=4.10, but you have ipykernel 6.13.0 which is incompatible.\n",
            "google-colab 1.0.0 requires ipython~=5.5.0, but you have ipython 7.32.0 which is incompatible.\n",
            "google-colab 1.0.0 requires tornado~=5.1.0; python_version >= \"3.0\", but you have tornado 6.1 which is incompatible.\u001b[0m\n"
          ]
        }
      ],
      "source": [
        "!pip install -q streamlit"
      ]
    },
    {
      "cell_type": "code",
      "execution_count": 3,
      "metadata": {
        "colab": {
          "base_uri": "https://localhost:8080/"
        },
        "id": "EbEk9X3fLlQy",
        "outputId": "6f81998f-1c6b-448a-e8e1-f8f16c4b3cd4"
      },
      "outputs": [
        {
          "output_type": "stream",
          "name": "stdout",
          "text": [
            "\u001b[K     |████████████████████████████████| 3.6 MB 5.4 MB/s \n",
            "\u001b[?25h"
          ]
        }
      ],
      "source": [
        "!pip install -q streamlit-ace"
      ]
    },
    {
      "cell_type": "code",
      "execution_count": 4,
      "metadata": {
        "colab": {
          "base_uri": "https://localhost:8080/"
        },
        "id": "nnQ9k78zLnci",
        "outputId": "91ea9729-5dec-460d-c96d-47d23a4e00d2"
      },
      "outputs": [
        {
          "output_type": "stream",
          "name": "stdout",
          "text": [
            "\u001b[?25l\r\u001b[K     |██████▌                         | 10 kB 21.9 MB/s eta 0:00:01\r\u001b[K     |█████████████                   | 20 kB 25.0 MB/s eta 0:00:01\r\u001b[K     |███████████████████▌            | 30 kB 12.2 MB/s eta 0:00:01\r\u001b[K     |██████████████████████████      | 40 kB 4.3 MB/s eta 0:00:01\r\u001b[K     |████████████████████████████████| 50 kB 2.8 MB/s \n",
            "\u001b[?25h  Building wheel for python-levenshtein (setup.py) ... \u001b[?25l\u001b[?25hdone\n"
          ]
        }
      ],
      "source": [
        "!pip install -q fuzzywuzzy[speedup]"
      ]
    },
    {
      "cell_type": "code",
      "execution_count": 5,
      "metadata": {
        "id": "wickCeN4LpNB"
      },
      "outputs": [],
      "source": [
        "!streamlit run app.py &>/dev/null&"
      ]
    },
    {
      "cell_type": "code",
      "execution_count": 6,
      "metadata": {
        "id": "83cBgt0OLqsx"
      },
      "outputs": [],
      "source": [
        "from pyngrok import ngrok"
      ]
    },
    {
      "cell_type": "code",
      "execution_count": 9,
      "metadata": {
        "colab": {
          "base_uri": "https://localhost:8080/"
        },
        "id": "zkz4BqByL6xD",
        "outputId": "914c6011-b594-44f6-dcd9-1058e20d74c7"
      },
      "outputs": [
        {
          "output_type": "stream",
          "name": "stdout",
          "text": [
            "Overwriting app.py\n"
          ]
        }
      ],
      "source": [
        "%%writefile app.py\n",
        "import streamlit as st\n",
        "import re\n",
        "from fuzzywuzzy import process\n",
        "import json\n",
        "import requests\n",
        "import pandas as pd\n",
        "\n",
        "\n",
        "def main():\n",
        "\n",
        "  namesData = requests.get('https://cspinheiro.github.io/interpol.json')\n",
        "\n",
        "  df = pd.read_csv('Endpoints.csv')\n",
        "  apiNameOptions = df['N'].drop([0,0])\n",
        "  apiRoutesOptions = df['Endpoint'].drop([0, 0])\n",
        "  apiRoutesOptions = apiRoutesOptions.values.tolist()\n",
        "  apiNameOptions = apiNameOptions.values.tolist()\n",
        "\n",
        "  apiRoutesOptions[12] = 'https://rodrigofer89.github.io/npl.json'\n",
        "\n",
        "  endpointOptions = {apiNameOptions[i]: apiRoutesOptions[i] for i in range(len(apiNameOptions))}\n",
        "\n",
        "  def handleAirportSelection(selected):\n",
        "    if selected.upper() == 'ALL':\n",
        "      return getAllEndpointsData()\n",
        "    \n",
        "    route = endpointOptions[selected.upper()]\n",
        "    response = requests.get(route).json()\n",
        "\n",
        "    totalData = []\n",
        "    for i in response:\n",
        "      for data in response[i]:\n",
        "        totalData.append(*data.values())\n",
        "\n",
        "    return totalData\n",
        "\n",
        "  def getAllEndpointsData():\n",
        "    \n",
        "    totalData = []\n",
        "\n",
        "    for endpoint in endpointOptions.values():\n",
        "      response = requests.get(endpoint).json()\n",
        "      for option in response:\n",
        "        for data in response[option]:\n",
        "          totalData.append(*data.values())\n",
        "\n",
        "    return totalData\n",
        "\n",
        "  def handleBlockedPassports(passportNumber, airport):\n",
        "\n",
        "    passport = re.findall('[0-9]+', passportNumber)\n",
        "\n",
        "    blockedData = handleAirportSelection(airport)\n",
        "\n",
        "    if int(passport[0]) in blockedData:\n",
        "      return 'Proibido'\n",
        "    \n",
        "    return 'Permitido'\n",
        "\n",
        "  def handleBlockedPersons(name):\n",
        "\n",
        "    blockedNamesData = namesData.json()['interpol']\n",
        "\n",
        "    blocked = []\n",
        "\n",
        "    for data in blockedNamesData:\n",
        "      for i, v in data.items():\n",
        "        blocked.append(v)\n",
        "\n",
        "    searchList = process.extract(str(name), blocked)\n",
        "\n",
        "    for i in searchList:\n",
        "      if i[1] >= 85:\n",
        "        return 'Proibido'\n",
        "\n",
        "      return 'Permitido'\n",
        "\n",
        "\n",
        "  def handleImigrate(name, passportNumber, airport):\n",
        "\n",
        "      passport = handleBlockedPassports(passportNumber, airport)\n",
        "\n",
        "      person = handleBlockedPersons(name)\n",
        "\n",
        "      if passport == 'Proibido' or person == 'Proibido':\n",
        "         st.error(\"Você não está permitido entrar nesse País\")\n",
        "         return\n",
        "      \n",
        "      st.success(\"Você pode entrar nesse País\")\n",
        "      return\n",
        "\n",
        "  st.set_page_config(page_title=\"Aeroporto\", page_icon=\"✈️\", layout=\"centered\")\n",
        "  st.title(\"📋 Segurança do Aeroporto\")\n",
        "  form = st.form(key=\"form\")\n",
        "\n",
        "  apiNameOptions.append('ALL')\n",
        "\n",
        "  with form:\n",
        "    name = st.text_input(\"Nome Completo:\")\n",
        "    cols = st.columns((1, 1))\n",
        "    passport = cols[0].text_input(\"Número do Passaporte:\")\n",
        "    airport = cols[1].selectbox(\"Escolha o Aeroporto:\", apiNameOptions)\n",
        "    submitted = st.form_submit_button(label=\"Verificar\")\n",
        "\n",
        "  if submitted:\n",
        "    if not name or not passport:\n",
        "      st.warning(\"Preencha todos os Campos!\")\n",
        "    else :\n",
        "      handleImigrate(name, passport, airport)\n",
        "\n",
        "if __name__ == '__main__':\n",
        "  main()"
      ]
    },
    {
      "cell_type": "code",
      "execution_count": null,
      "metadata": {
        "colab": {
          "base_uri": "https://localhost:8080/"
        },
        "id": "m4NbTnzEoYgQ",
        "outputId": "4fc37a60-74ba-4a2b-8ce2-430b70d3b83e"
      },
      "outputs": [
        {
          "output_type": "stream",
          "name": "stdout",
          "text": [
            "2022-04-23 17:28:25.861 INFO    numexpr.utils: NumExpr defaulting to 2 threads.\n",
            "\u001b[K\u001b[?25hnpx: installed 22 in 3.293s\n",
            "your url is: https://gentle-fly-17.loca.lt\n",
            "\u001b[0m\n",
            "\u001b[34m\u001b[1m  You can now view your Streamlit app in your browser.\u001b[0m\n",
            "\u001b[0m\n",
            "\u001b[34m  Network URL: \u001b[0m\u001b[1mhttp://172.28.0.2:8501\u001b[0m\n",
            "\u001b[34m  External URL: \u001b[0m\u001b[1mhttp://35.188.131.89:8501\u001b[0m\n",
            "\u001b[0m\n"
          ]
        }
      ],
      "source": [
        "!streamlit run app.py & npx localtunnel --port 8501"
      ]
    }
  ],
  "metadata": {
    "colab": {
      "collapsed_sections": [],
      "name": "CheckpointCyber.v4",
      "provenance": []
    },
    "kernelspec": {
      "display_name": "Python 3",
      "name": "python3"
    },
    "language_info": {
      "name": "python"
    }
  },
  "nbformat": 4,
  "nbformat_minor": 0
}