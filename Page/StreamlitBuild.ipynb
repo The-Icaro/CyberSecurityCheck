{
  "nbformat": 4,
  "nbformat_minor": 0,
  "metadata": {
    "colab": {
      "name": "StreamlitBuild",
      "provenance": [],
      "collapsed_sections": []
    },
    "kernelspec": {
      "name": "python3",
      "display_name": "Python 3"
    },
    "language_info": {
      "name": "python"
    }
  },
  "cells": [
    {
      "cell_type": "code",
      "execution_count": null,
      "metadata": {
        "id": "8buqF848PkO9"
      },
      "outputs": [],
      "source": [
        "!pip install -q streamlit"
      ]
    },
    {
      "cell_type": "code",
      "source": [
        "!pip install -q streamlit-ace"
      ],
      "metadata": {
        "id": "VrBZYoQTPojN"
      },
      "execution_count": null,
      "outputs": []
    },
    {
      "cell_type": "code",
      "source": [
        "!streamlit run app.py &>/dev/null&"
      ],
      "metadata": {
        "id": "Nb3HSp6OPrB_"
      },
      "execution_count": null,
      "outputs": []
    },
    {
      "cell_type": "code",
      "source": [
        "!pip install -q pyngrok"
      ],
      "metadata": {
        "id": "sVCV3XM8VXHT"
      },
      "execution_count": null,
      "outputs": []
    },
    {
      "cell_type": "code",
      "source": [
        "from pyngrok import ngrok"
      ],
      "metadata": {
        "id": "8ITUB5dlVaAH"
      },
      "execution_count": null,
      "outputs": []
    },
    {
      "cell_type": "code",
      "source": [
        "%%writefile app.py\n",
        "import streamlit as st\n",
        "import pandas as pd\n",
        "\n",
        "airportData = pd.read_csv(\"Endpoints.csv\")\n",
        "airportData = airportData['N'].drop([0,0])\n",
        "airportData = airportData.values.tolist()\n",
        "airportData.append('ALL')\n",
        "\n",
        "st.set_page_config(page_title=\"Aeroporto\", page_icon=\"✈️\", layout=\"centered\")\n",
        "\n",
        "st.title(\"📋 Segurança do Aeroporto\")\n",
        "\n",
        "form = st.form(key=\"form\")\n",
        "\n",
        "with form:\n",
        "  name = st.text_input(\"Nome Completo:\")\n",
        "  cols = st.columns((1, 1))\n",
        "  passport = cols[0].text_input(\"Número do Passaporte:\")\n",
        "  airport = cols[1].selectbox(\"Escolha o Aeroporto:\", airportData)\n",
        "  submitted = st.form_submit_button(label=\"Verificar\")\n",
        "\n",
        "if submitted:\n",
        "  if name or passport:\n",
        "    st.success(\"Test Streamlit\")\n",
        "    st.balloons()\n",
        "  st.warning(\"Preencha pelo menos um Campo\")"
      ],
      "metadata": {
        "id": "GoEFRklUP1tg"
      },
      "execution_count": null,
      "outputs": []
    },
    {
      "cell_type": "code",
      "source": [
        "!streamlit run app.py & npx localtunnel --port 8501"
      ],
      "metadata": {
        "id": "qE0BtJTCVhBl"
      },
      "execution_count": null,
      "outputs": []
    }
  ]
}